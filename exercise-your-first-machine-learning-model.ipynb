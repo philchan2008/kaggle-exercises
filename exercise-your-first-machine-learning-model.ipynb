{
 "cells": [
  {
   "cell_type": "markdown",
   "id": "0e4ff490",
   "metadata": {
    "papermill": {
     "duration": 0.004732,
     "end_time": "2025-09-01T19:19:11.209078",
     "exception": false,
     "start_time": "2025-09-01T19:19:11.204346",
     "status": "completed"
    },
    "tags": []
   },
   "source": [
    "**This notebook is an exercise in the [Introduction to Machine Learning](https://www.kaggle.com/learn/intro-to-machine-learning) course.  You can reference the tutorial at [this link](https://www.kaggle.com/dansbecker/your-first-machine-learning-model).**\n",
    "\n",
    "---\n"
   ]
  },
  {
   "cell_type": "markdown",
   "id": "6abe0c8c",
   "metadata": {
    "papermill": {
     "duration": 0.003886,
     "end_time": "2025-09-01T19:19:11.218400",
     "exception": false,
     "start_time": "2025-09-01T19:19:11.214514",
     "status": "completed"
    },
    "tags": []
   },
   "source": [
    "## Recap\n",
    "So far, you have loaded your data and reviewed it with the following code. Run this cell to set up your coding environment where the previous step left off."
   ]
  },
  {
   "cell_type": "code",
   "execution_count": 1,
   "id": "30da4095",
   "metadata": {
    "execution": {
     "iopub.execute_input": "2025-09-01T19:19:11.228767Z",
     "iopub.status.busy": "2025-09-01T19:19:11.228406Z",
     "iopub.status.idle": "2025-09-01T19:19:15.962525Z",
     "shell.execute_reply": "2025-09-01T19:19:15.961202Z"
    },
    "papermill": {
     "duration": 4.741451,
     "end_time": "2025-09-01T19:19:15.964393",
     "exception": false,
     "start_time": "2025-09-01T19:19:11.222942",
     "status": "completed"
    },
    "tags": []
   },
   "outputs": [
    {
     "name": "stdout",
     "output_type": "stream",
     "text": [
      "Setup Complete\n"
     ]
    }
   ],
   "source": [
    "# Code you have previously used to load data\n",
    "import pandas as pd\n",
    "\n",
    "# Path of the file to read\n",
    "iowa_file_path = '../input/home-data-for-ml-course/train.csv'\n",
    "\n",
    "home_data = pd.read_csv(iowa_file_path)\n",
    "\n",
    "# Set up code checking\n",
    "from learntools.core import binder\n",
    "binder.bind(globals())\n",
    "from learntools.machine_learning.ex3 import *\n",
    "\n",
    "print(\"Setup Complete\")"
   ]
  },
  {
   "cell_type": "markdown",
   "id": "8b86c238",
   "metadata": {
    "papermill": {
     "duration": 0.003933,
     "end_time": "2025-09-01T19:19:15.973276",
     "exception": false,
     "start_time": "2025-09-01T19:19:15.969343",
     "status": "completed"
    },
    "tags": []
   },
   "source": [
    "# Exercises\n",
    "\n",
    "## Step 1: Specify Prediction Target\n",
    "Select the target variable, which corresponds to the sales price. Save this to a new variable called `y`. You'll need to print a list of the columns to find the name of the column you need.\n"
   ]
  },
  {
   "cell_type": "code",
   "execution_count": 2,
   "id": "2992d151",
   "metadata": {
    "execution": {
     "iopub.execute_input": "2025-09-01T19:19:15.983515Z",
     "iopub.status.busy": "2025-09-01T19:19:15.982997Z",
     "iopub.status.idle": "2025-09-01T19:19:15.993458Z",
     "shell.execute_reply": "2025-09-01T19:19:15.992206Z"
    },
    "papermill": {
     "duration": 0.017599,
     "end_time": "2025-09-01T19:19:15.995317",
     "exception": false,
     "start_time": "2025-09-01T19:19:15.977718",
     "status": "completed"
    },
    "tags": []
   },
   "outputs": [
    {
     "data": {
      "text/plain": [
       "Index(['Id', 'MSSubClass', 'MSZoning', 'LotFrontage', 'LotArea', 'Street',\n",
       "       'Alley', 'LotShape', 'LandContour', 'Utilities', 'LotConfig',\n",
       "       'LandSlope', 'Neighborhood', 'Condition1', 'Condition2', 'BldgType',\n",
       "       'HouseStyle', 'OverallQual', 'OverallCond', 'YearBuilt', 'YearRemodAdd',\n",
       "       'RoofStyle', 'RoofMatl', 'Exterior1st', 'Exterior2nd', 'MasVnrType',\n",
       "       'MasVnrArea', 'ExterQual', 'ExterCond', 'Foundation', 'BsmtQual',\n",
       "       'BsmtCond', 'BsmtExposure', 'BsmtFinType1', 'BsmtFinSF1',\n",
       "       'BsmtFinType2', 'BsmtFinSF2', 'BsmtUnfSF', 'TotalBsmtSF', 'Heating',\n",
       "       'HeatingQC', 'CentralAir', 'Electrical', '1stFlrSF', '2ndFlrSF',\n",
       "       'LowQualFinSF', 'GrLivArea', 'BsmtFullBath', 'BsmtHalfBath', 'FullBath',\n",
       "       'HalfBath', 'BedroomAbvGr', 'KitchenAbvGr', 'KitchenQual',\n",
       "       'TotRmsAbvGrd', 'Functional', 'Fireplaces', 'FireplaceQu', 'GarageType',\n",
       "       'GarageYrBlt', 'GarageFinish', 'GarageCars', 'GarageArea', 'GarageQual',\n",
       "       'GarageCond', 'PavedDrive', 'WoodDeckSF', 'OpenPorchSF',\n",
       "       'EnclosedPorch', '3SsnPorch', 'ScreenPorch', 'PoolArea', 'PoolQC',\n",
       "       'Fence', 'MiscFeature', 'MiscVal', 'MoSold', 'YrSold', 'SaleType',\n",
       "       'SaleCondition', 'SalePrice'],\n",
       "      dtype='object')"
      ]
     },
     "execution_count": 2,
     "metadata": {},
     "output_type": "execute_result"
    }
   ],
   "source": [
    "# print the list of columns in the dataset to find the name of the prediction target\n",
    "home_data.columns"
   ]
  },
  {
   "cell_type": "code",
   "execution_count": 3,
   "id": "76e666e2",
   "metadata": {
    "execution": {
     "iopub.execute_input": "2025-09-01T19:19:16.005221Z",
     "iopub.status.busy": "2025-09-01T19:19:16.004842Z",
     "iopub.status.idle": "2025-09-01T19:19:16.020405Z",
     "shell.execute_reply": "2025-09-01T19:19:16.019170Z"
    },
    "papermill": {
     "duration": 0.022535,
     "end_time": "2025-09-01T19:19:16.022173",
     "exception": false,
     "start_time": "2025-09-01T19:19:15.999638",
     "status": "completed"
    },
    "tags": []
   },
   "outputs": [
    {
     "data": {
      "application/javascript": [
       "parent.postMessage({\"jupyterEvent\": \"custom.exercise_interaction\", \"data\": {\"outcomeType\": 1, \"valueTowardsCompletion\": 0.25, \"interactionType\": 1, \"questionType\": 2, \"questionId\": \"1_SetTarget\", \"learnToolsVersion\": \"0.3.5\", \"failureMessage\": \"\", \"exceptionClass\": \"\", \"trace\": \"\"}}, \"*\")"
      ],
      "text/plain": [
       "<IPython.core.display.Javascript object>"
      ]
     },
     "metadata": {},
     "output_type": "display_data"
    },
    {
     "data": {
      "text/markdown": [
       "<span style=\"color:#33cc33\">Correct</span>"
      ],
      "text/plain": [
       "Correct"
      ]
     },
     "metadata": {},
     "output_type": "display_data"
    }
   ],
   "source": [
    "y = home_data['SalePrice']\n",
    "\n",
    "# Check your answer\n",
    "step_1.check()"
   ]
  },
  {
   "cell_type": "code",
   "execution_count": 4,
   "id": "3e24c7fb",
   "metadata": {
    "execution": {
     "iopub.execute_input": "2025-09-01T19:19:16.032344Z",
     "iopub.status.busy": "2025-09-01T19:19:16.031935Z",
     "iopub.status.idle": "2025-09-01T19:19:16.043492Z",
     "shell.execute_reply": "2025-09-01T19:19:16.042560Z"
    },
    "papermill": {
     "duration": 0.018468,
     "end_time": "2025-09-01T19:19:16.045081",
     "exception": false,
     "start_time": "2025-09-01T19:19:16.026613",
     "status": "completed"
    },
    "tags": []
   },
   "outputs": [
    {
     "data": {
      "application/javascript": [
       "parent.postMessage({\"jupyterEvent\": \"custom.exercise_interaction\", \"data\": {\"interactionType\": 2, \"questionType\": 2, \"questionId\": \"1_SetTarget\", \"learnToolsVersion\": \"0.3.5\", \"valueTowardsCompletion\": 0.0, \"failureMessage\": \"\", \"exceptionClass\": \"\", \"trace\": \"\", \"outcomeType\": 4}}, \"*\")"
      ],
      "text/plain": [
       "<IPython.core.display.Javascript object>"
      ]
     },
     "metadata": {},
     "output_type": "display_data"
    },
    {
     "data": {
      "text/markdown": [
       "<span style=\"color:#3366cc\">Hint:</span> Use `print(home_data.columns)`. The column you want is at the end of the list. Use the dot notation to pull out this column from the DataFrame"
      ],
      "text/plain": [
       "Hint: Use `print(home_data.columns)`. The column you want is at the end of the list. Use the dot notation to pull out this column from the DataFrame"
      ]
     },
     "metadata": {},
     "output_type": "display_data"
    },
    {
     "data": {
      "application/javascript": [
       "parent.postMessage({\"jupyterEvent\": \"custom.exercise_interaction\", \"data\": {\"interactionType\": 3, \"questionType\": 2, \"questionId\": \"1_SetTarget\", \"learnToolsVersion\": \"0.3.5\", \"valueTowardsCompletion\": 0.0, \"failureMessage\": \"\", \"exceptionClass\": \"\", \"trace\": \"\", \"outcomeType\": 4}}, \"*\")"
      ],
      "text/plain": [
       "<IPython.core.display.Javascript object>"
      ]
     },
     "metadata": {},
     "output_type": "display_data"
    },
    {
     "data": {
      "text/markdown": [
       "<span style=\"color:#33cc99\">Solution:</span> \n",
       "```python\n",
       "y = home_data.SalePrice\n",
       "```"
      ],
      "text/plain": [
       "Solution: \n",
       "```python\n",
       "y = home_data.SalePrice\n",
       "```"
      ]
     },
     "metadata": {},
     "output_type": "display_data"
    }
   ],
   "source": [
    "# The lines below will show you a hint or the solution.\n",
    "step_1.hint() \n",
    "step_1.solution()"
   ]
  },
  {
   "cell_type": "markdown",
   "id": "14c4dbb6",
   "metadata": {
    "papermill": {
     "duration": 0.004666,
     "end_time": "2025-09-01T19:19:16.054723",
     "exception": false,
     "start_time": "2025-09-01T19:19:16.050057",
     "status": "completed"
    },
    "tags": []
   },
   "source": [
    "## Step 2: Create X\n",
    "Now you will create a DataFrame called `X` holding the predictive features.\n",
    "\n",
    "Since you want only some columns from the original data, you'll first create a list with the names of the columns you want in `X`.\n",
    "\n",
    "You'll use just the following columns in the list (you can copy and paste the whole list to save some typing, though you'll still need to add quotes):\n",
    "  * LotArea\n",
    "  * YearBuilt\n",
    "  * 1stFlrSF\n",
    "  * 2ndFlrSF\n",
    "  * FullBath\n",
    "  * BedroomAbvGr\n",
    "  * TotRmsAbvGrd\n",
    "\n",
    "After you've created that list of features, use it to create the DataFrame that you'll use to fit the model."
   ]
  },
  {
   "cell_type": "code",
   "execution_count": 5,
   "id": "caf27dc0",
   "metadata": {
    "execution": {
     "iopub.execute_input": "2025-09-01T19:19:16.067132Z",
     "iopub.status.busy": "2025-09-01T19:19:16.066774Z",
     "iopub.status.idle": "2025-09-01T19:19:16.077809Z",
     "shell.execute_reply": "2025-09-01T19:19:16.076812Z"
    },
    "papermill": {
     "duration": 0.018871,
     "end_time": "2025-09-01T19:19:16.079537",
     "exception": false,
     "start_time": "2025-09-01T19:19:16.060666",
     "status": "completed"
    },
    "tags": []
   },
   "outputs": [
    {
     "data": {
      "application/javascript": [
       "parent.postMessage({\"jupyterEvent\": \"custom.exercise_interaction\", \"data\": {\"outcomeType\": 1, \"valueTowardsCompletion\": 0.25, \"interactionType\": 1, \"questionType\": 2, \"questionId\": \"2_SelectPredictionData\", \"learnToolsVersion\": \"0.3.5\", \"failureMessage\": \"\", \"exceptionClass\": \"\", \"trace\": \"\"}}, \"*\")"
      ],
      "text/plain": [
       "<IPython.core.display.Javascript object>"
      ]
     },
     "metadata": {},
     "output_type": "display_data"
    },
    {
     "data": {
      "text/markdown": [
       "<span style=\"color:#33cc33\">Correct</span>"
      ],
      "text/plain": [
       "Correct"
      ]
     },
     "metadata": {},
     "output_type": "display_data"
    }
   ],
   "source": [
    "# Create the list of features below\n",
    "feature_names = ['LotArea','YearBuilt','1stFlrSF','2ndFlrSF','FullBath','BedroomAbvGr','TotRmsAbvGrd']\n",
    "\n",
    "# Select data corresponding to features in feature_names\n",
    "X = home_data[feature_names]\n",
    "\n",
    "# Check your answer\n",
    "step_2.check()"
   ]
  },
  {
   "cell_type": "code",
   "execution_count": 6,
   "id": "8b007801",
   "metadata": {
    "execution": {
     "iopub.execute_input": "2025-09-01T19:19:16.090627Z",
     "iopub.status.busy": "2025-09-01T19:19:16.090273Z",
     "iopub.status.idle": "2025-09-01T19:19:16.117208Z",
     "shell.execute_reply": "2025-09-01T19:19:16.116251Z"
    },
    "papermill": {
     "duration": 0.034237,
     "end_time": "2025-09-01T19:19:16.118753",
     "exception": false,
     "start_time": "2025-09-01T19:19:16.084516",
     "status": "completed"
    },
    "tags": []
   },
   "outputs": [
    {
     "data": {
      "text/html": [
       "<div>\n",
       "<style scoped>\n",
       "    .dataframe tbody tr th:only-of-type {\n",
       "        vertical-align: middle;\n",
       "    }\n",
       "\n",
       "    .dataframe tbody tr th {\n",
       "        vertical-align: top;\n",
       "    }\n",
       "\n",
       "    .dataframe thead th {\n",
       "        text-align: right;\n",
       "    }\n",
       "</style>\n",
       "<table border=\"1\" class=\"dataframe\">\n",
       "  <thead>\n",
       "    <tr style=\"text-align: right;\">\n",
       "      <th></th>\n",
       "      <th>LotArea</th>\n",
       "      <th>YearBuilt</th>\n",
       "      <th>1stFlrSF</th>\n",
       "      <th>2ndFlrSF</th>\n",
       "      <th>FullBath</th>\n",
       "      <th>BedroomAbvGr</th>\n",
       "      <th>TotRmsAbvGrd</th>\n",
       "    </tr>\n",
       "  </thead>\n",
       "  <tbody>\n",
       "    <tr>\n",
       "      <th>0</th>\n",
       "      <td>8450</td>\n",
       "      <td>2003</td>\n",
       "      <td>856</td>\n",
       "      <td>854</td>\n",
       "      <td>2</td>\n",
       "      <td>3</td>\n",
       "      <td>8</td>\n",
       "    </tr>\n",
       "    <tr>\n",
       "      <th>1</th>\n",
       "      <td>9600</td>\n",
       "      <td>1976</td>\n",
       "      <td>1262</td>\n",
       "      <td>0</td>\n",
       "      <td>2</td>\n",
       "      <td>3</td>\n",
       "      <td>6</td>\n",
       "    </tr>\n",
       "    <tr>\n",
       "      <th>2</th>\n",
       "      <td>11250</td>\n",
       "      <td>2001</td>\n",
       "      <td>920</td>\n",
       "      <td>866</td>\n",
       "      <td>2</td>\n",
       "      <td>3</td>\n",
       "      <td>6</td>\n",
       "    </tr>\n",
       "    <tr>\n",
       "      <th>3</th>\n",
       "      <td>9550</td>\n",
       "      <td>1915</td>\n",
       "      <td>961</td>\n",
       "      <td>756</td>\n",
       "      <td>1</td>\n",
       "      <td>3</td>\n",
       "      <td>7</td>\n",
       "    </tr>\n",
       "    <tr>\n",
       "      <th>4</th>\n",
       "      <td>14260</td>\n",
       "      <td>2000</td>\n",
       "      <td>1145</td>\n",
       "      <td>1053</td>\n",
       "      <td>2</td>\n",
       "      <td>4</td>\n",
       "      <td>9</td>\n",
       "    </tr>\n",
       "    <tr>\n",
       "      <th>...</th>\n",
       "      <td>...</td>\n",
       "      <td>...</td>\n",
       "      <td>...</td>\n",
       "      <td>...</td>\n",
       "      <td>...</td>\n",
       "      <td>...</td>\n",
       "      <td>...</td>\n",
       "    </tr>\n",
       "    <tr>\n",
       "      <th>1455</th>\n",
       "      <td>7917</td>\n",
       "      <td>1999</td>\n",
       "      <td>953</td>\n",
       "      <td>694</td>\n",
       "      <td>2</td>\n",
       "      <td>3</td>\n",
       "      <td>7</td>\n",
       "    </tr>\n",
       "    <tr>\n",
       "      <th>1456</th>\n",
       "      <td>13175</td>\n",
       "      <td>1978</td>\n",
       "      <td>2073</td>\n",
       "      <td>0</td>\n",
       "      <td>2</td>\n",
       "      <td>3</td>\n",
       "      <td>7</td>\n",
       "    </tr>\n",
       "    <tr>\n",
       "      <th>1457</th>\n",
       "      <td>9042</td>\n",
       "      <td>1941</td>\n",
       "      <td>1188</td>\n",
       "      <td>1152</td>\n",
       "      <td>2</td>\n",
       "      <td>4</td>\n",
       "      <td>9</td>\n",
       "    </tr>\n",
       "    <tr>\n",
       "      <th>1458</th>\n",
       "      <td>9717</td>\n",
       "      <td>1950</td>\n",
       "      <td>1078</td>\n",
       "      <td>0</td>\n",
       "      <td>1</td>\n",
       "      <td>2</td>\n",
       "      <td>5</td>\n",
       "    </tr>\n",
       "    <tr>\n",
       "      <th>1459</th>\n",
       "      <td>9937</td>\n",
       "      <td>1965</td>\n",
       "      <td>1256</td>\n",
       "      <td>0</td>\n",
       "      <td>1</td>\n",
       "      <td>3</td>\n",
       "      <td>6</td>\n",
       "    </tr>\n",
       "  </tbody>\n",
       "</table>\n",
       "<p>1460 rows × 7 columns</p>\n",
       "</div>"
      ],
      "text/plain": [
       "      LotArea  YearBuilt  1stFlrSF  2ndFlrSF  FullBath  BedroomAbvGr  \\\n",
       "0        8450       2003       856       854         2             3   \n",
       "1        9600       1976      1262         0         2             3   \n",
       "2       11250       2001       920       866         2             3   \n",
       "3        9550       1915       961       756         1             3   \n",
       "4       14260       2000      1145      1053         2             4   \n",
       "...       ...        ...       ...       ...       ...           ...   \n",
       "1455     7917       1999       953       694         2             3   \n",
       "1456    13175       1978      2073         0         2             3   \n",
       "1457     9042       1941      1188      1152         2             4   \n",
       "1458     9717       1950      1078         0         1             2   \n",
       "1459     9937       1965      1256         0         1             3   \n",
       "\n",
       "      TotRmsAbvGrd  \n",
       "0                8  \n",
       "1                6  \n",
       "2                6  \n",
       "3                7  \n",
       "4                9  \n",
       "...            ...  \n",
       "1455             7  \n",
       "1456             7  \n",
       "1457             9  \n",
       "1458             5  \n",
       "1459             6  \n",
       "\n",
       "[1460 rows x 7 columns]"
      ]
     },
     "execution_count": 6,
     "metadata": {},
     "output_type": "execute_result"
    }
   ],
   "source": [
    "X"
   ]
  },
  {
   "cell_type": "code",
   "execution_count": 7,
   "id": "136194ca",
   "metadata": {
    "execution": {
     "iopub.execute_input": "2025-09-01T19:19:16.130381Z",
     "iopub.status.busy": "2025-09-01T19:19:16.129999Z",
     "iopub.status.idle": "2025-09-01T19:19:16.134537Z",
     "shell.execute_reply": "2025-09-01T19:19:16.133449Z"
    },
    "papermill": {
     "duration": 0.011978,
     "end_time": "2025-09-01T19:19:16.136100",
     "exception": false,
     "start_time": "2025-09-01T19:19:16.124122",
     "status": "completed"
    },
    "tags": []
   },
   "outputs": [],
   "source": [
    "# step_2.hint()\n",
    "# step_2.solution()"
   ]
  },
  {
   "cell_type": "markdown",
   "id": "6df4032b",
   "metadata": {
    "papermill": {
     "duration": 0.004595,
     "end_time": "2025-09-01T19:19:16.145878",
     "exception": false,
     "start_time": "2025-09-01T19:19:16.141283",
     "status": "completed"
    },
    "tags": []
   },
   "source": [
    "## Review Data\n",
    "Before building a model, take a quick look at **X** to verify it looks sensible"
   ]
  },
  {
   "cell_type": "code",
   "execution_count": 8,
   "id": "a9058311",
   "metadata": {
    "execution": {
     "iopub.execute_input": "2025-09-01T19:19:16.156713Z",
     "iopub.status.busy": "2025-09-01T19:19:16.156402Z",
     "iopub.status.idle": "2025-09-01T19:19:16.187436Z",
     "shell.execute_reply": "2025-09-01T19:19:16.185992Z"
    },
    "papermill": {
     "duration": 0.038729,
     "end_time": "2025-09-01T19:19:16.189406",
     "exception": false,
     "start_time": "2025-09-01T19:19:16.150677",
     "status": "completed"
    },
    "tags": []
   },
   "outputs": [
    {
     "name": "stdout",
     "output_type": "stream",
     "text": [
      "             LotArea    YearBuilt     1stFlrSF     2ndFlrSF     FullBath  \\\n",
      "count    1460.000000  1460.000000  1460.000000  1460.000000  1460.000000   \n",
      "mean    10516.828082  1971.267808  1162.626712   346.992466     1.565068   \n",
      "std      9981.264932    30.202904   386.587738   436.528436     0.550916   \n",
      "min      1300.000000  1872.000000   334.000000     0.000000     0.000000   \n",
      "25%      7553.500000  1954.000000   882.000000     0.000000     1.000000   \n",
      "50%      9478.500000  1973.000000  1087.000000     0.000000     2.000000   \n",
      "75%     11601.500000  2000.000000  1391.250000   728.000000     2.000000   \n",
      "max    215245.000000  2010.000000  4692.000000  2065.000000     3.000000   \n",
      "\n",
      "       BedroomAbvGr  TotRmsAbvGrd  \n",
      "count   1460.000000   1460.000000  \n",
      "mean       2.866438      6.517808  \n",
      "std        0.815778      1.625393  \n",
      "min        0.000000      2.000000  \n",
      "25%        2.000000      5.000000  \n",
      "50%        3.000000      6.000000  \n",
      "75%        3.000000      7.000000  \n",
      "max        8.000000     14.000000  \n",
      "   LotArea  YearBuilt  1stFlrSF  2ndFlrSF  FullBath  BedroomAbvGr  \\\n",
      "0     8450       2003       856       854         2             3   \n",
      "1     9600       1976      1262         0         2             3   \n",
      "2    11250       2001       920       866         2             3   \n",
      "3     9550       1915       961       756         1             3   \n",
      "4    14260       2000      1145      1053         2             4   \n",
      "\n",
      "   TotRmsAbvGrd  \n",
      "0             8  \n",
      "1             6  \n",
      "2             6  \n",
      "3             7  \n",
      "4             9  \n"
     ]
    }
   ],
   "source": [
    "# Review data\n",
    "# print description or statistics from X\n",
    "print(X.describe())\n",
    "\n",
    "# print the top few lines\n",
    "print(X.head())"
   ]
  },
  {
   "cell_type": "markdown",
   "id": "57ebe639",
   "metadata": {
    "papermill": {
     "duration": 0.00496,
     "end_time": "2025-09-01T19:19:16.199698",
     "exception": false,
     "start_time": "2025-09-01T19:19:16.194738",
     "status": "completed"
    },
    "tags": []
   },
   "source": [
    "## Step 3: Specify and Fit Model\n",
    "Create a `DecisionTreeRegressor` and save it iowa_model. Ensure you've done the relevant import from sklearn to run this command.\n",
    "\n",
    "Then fit the model you just created using the data in `X` and `y` that you saved above."
   ]
  },
  {
   "cell_type": "code",
   "execution_count": 9,
   "id": "fb735eeb",
   "metadata": {
    "execution": {
     "iopub.execute_input": "2025-09-01T19:19:16.211217Z",
     "iopub.status.busy": "2025-09-01T19:19:16.210885Z",
     "iopub.status.idle": "2025-09-01T19:19:16.229343Z",
     "shell.execute_reply": "2025-09-01T19:19:16.228109Z"
    },
    "papermill": {
     "duration": 0.02666,
     "end_time": "2025-09-01T19:19:16.231300",
     "exception": false,
     "start_time": "2025-09-01T19:19:16.204640",
     "status": "completed"
    },
    "tags": []
   },
   "outputs": [
    {
     "data": {
      "application/javascript": [
       "parent.postMessage({\"jupyterEvent\": \"custom.exercise_interaction\", \"data\": {\"outcomeType\": 1, \"valueTowardsCompletion\": 0.25, \"interactionType\": 1, \"questionType\": 2, \"questionId\": \"3_CreateModel\", \"learnToolsVersion\": \"0.3.5\", \"failureMessage\": \"\", \"exceptionClass\": \"\", \"trace\": \"\"}}, \"*\")"
      ],
      "text/plain": [
       "<IPython.core.display.Javascript object>"
      ]
     },
     "metadata": {},
     "output_type": "display_data"
    },
    {
     "data": {
      "text/markdown": [
       "<span style=\"color:#33cc33\">Correct</span>"
      ],
      "text/plain": [
       "Correct"
      ]
     },
     "metadata": {},
     "output_type": "display_data"
    }
   ],
   "source": [
    "from sklearn.tree import DecisionTreeRegressor\n",
    "#specify the model. \n",
    "#For model reproducibility, set a numeric value for random_state when specifying the model\n",
    "iowa_model = DecisionTreeRegressor(random_state=1)\n",
    "\n",
    "# Fit the model\n",
    "iowa_model.fit(X,y)\n",
    "\n",
    "# Check your answer\n",
    "step_3.check()"
   ]
  },
  {
   "cell_type": "code",
   "execution_count": 10,
   "id": "d39cebba",
   "metadata": {
    "collapsed": true,
    "execution": {
     "iopub.execute_input": "2025-09-01T19:19:16.245054Z",
     "iopub.status.busy": "2025-09-01T19:19:16.244587Z",
     "iopub.status.idle": "2025-09-01T19:19:16.249356Z",
     "shell.execute_reply": "2025-09-01T19:19:16.248221Z"
    },
    "jupyter": {
     "outputs_hidden": true
    },
    "papermill": {
     "duration": 0.014216,
     "end_time": "2025-09-01T19:19:16.251119",
     "exception": false,
     "start_time": "2025-09-01T19:19:16.236903",
     "status": "completed"
    },
    "tags": []
   },
   "outputs": [],
   "source": [
    "# step_3.hint()\n",
    "# step_3.solution()"
   ]
  },
  {
   "cell_type": "markdown",
   "id": "f10c3241",
   "metadata": {
    "papermill": {
     "duration": 0.004906,
     "end_time": "2025-09-01T19:19:16.261659",
     "exception": false,
     "start_time": "2025-09-01T19:19:16.256753",
     "status": "completed"
    },
    "tags": []
   },
   "source": [
    "## Step 4: Make Predictions\n",
    "Make predictions with the model's `predict` command using `X` as the data. Save the results to a variable called `predictions`."
   ]
  },
  {
   "cell_type": "code",
   "execution_count": 11,
   "id": "057b7e87",
   "metadata": {
    "execution": {
     "iopub.execute_input": "2025-09-01T19:19:16.273361Z",
     "iopub.status.busy": "2025-09-01T19:19:16.272960Z",
     "iopub.status.idle": "2025-09-01T19:19:16.285405Z",
     "shell.execute_reply": "2025-09-01T19:19:16.284325Z"
    },
    "papermill": {
     "duration": 0.020454,
     "end_time": "2025-09-01T19:19:16.287305",
     "exception": false,
     "start_time": "2025-09-01T19:19:16.266851",
     "status": "completed"
    },
    "tags": []
   },
   "outputs": [
    {
     "name": "stdout",
     "output_type": "stream",
     "text": [
      "[208500. 181500. 223500. ... 266500. 142125. 147500.]\n"
     ]
    },
    {
     "data": {
      "application/javascript": [
       "parent.postMessage({\"jupyterEvent\": \"custom.exercise_interaction\", \"data\": {\"outcomeType\": 1, \"valueTowardsCompletion\": 0.25, \"interactionType\": 1, \"questionType\": 2, \"questionId\": \"4_MakePredictions\", \"learnToolsVersion\": \"0.3.5\", \"failureMessage\": \"\", \"exceptionClass\": \"\", \"trace\": \"\"}}, \"*\")"
      ],
      "text/plain": [
       "<IPython.core.display.Javascript object>"
      ]
     },
     "metadata": {},
     "output_type": "display_data"
    },
    {
     "data": {
      "text/markdown": [
       "<span style=\"color:#33cc33\">Correct</span>"
      ],
      "text/plain": [
       "Correct"
      ]
     },
     "metadata": {},
     "output_type": "display_data"
    }
   ],
   "source": [
    "predictions = iowa_model.predict(X)\n",
    "print(predictions)\n",
    "\n",
    "# Check your answer\n",
    "step_4.check()"
   ]
  },
  {
   "cell_type": "code",
   "execution_count": 12,
   "id": "e7b142bb",
   "metadata": {
    "collapsed": true,
    "execution": {
     "iopub.execute_input": "2025-09-01T19:19:16.299639Z",
     "iopub.status.busy": "2025-09-01T19:19:16.299326Z",
     "iopub.status.idle": "2025-09-01T19:19:16.303583Z",
     "shell.execute_reply": "2025-09-01T19:19:16.302697Z"
    },
    "jupyter": {
     "outputs_hidden": true
    },
    "papermill": {
     "duration": 0.012139,
     "end_time": "2025-09-01T19:19:16.305037",
     "exception": false,
     "start_time": "2025-09-01T19:19:16.292898",
     "status": "completed"
    },
    "tags": []
   },
   "outputs": [],
   "source": [
    "# step_4.hint()\n",
    "# step_4.solution()"
   ]
  },
  {
   "cell_type": "markdown",
   "id": "fe9be1ed",
   "metadata": {
    "papermill": {
     "duration": 0.005211,
     "end_time": "2025-09-01T19:19:16.316051",
     "exception": false,
     "start_time": "2025-09-01T19:19:16.310840",
     "status": "completed"
    },
    "tags": []
   },
   "source": [
    "## Think About Your Results\n",
    "\n",
    "Use the `head` method to compare the top few predictions to the actual home values (in `y`) for those same homes. Anything surprising?\n"
   ]
  },
  {
   "cell_type": "code",
   "execution_count": 13,
   "id": "8613c1cc",
   "metadata": {
    "execution": {
     "iopub.execute_input": "2025-09-01T19:19:16.328340Z",
     "iopub.status.busy": "2025-09-01T19:19:16.327927Z",
     "iopub.status.idle": "2025-09-01T19:19:16.334571Z",
     "shell.execute_reply": "2025-09-01T19:19:16.333644Z"
    },
    "papermill": {
     "duration": 0.014565,
     "end_time": "2025-09-01T19:19:16.336021",
     "exception": false,
     "start_time": "2025-09-01T19:19:16.321456",
     "status": "completed"
    },
    "tags": []
   },
   "outputs": [
    {
     "data": {
      "text/plain": [
       "0    208500\n",
       "1    181500\n",
       "2    223500\n",
       "3    140000\n",
       "4    250000\n",
       "Name: SalePrice, dtype: int64"
      ]
     },
     "execution_count": 13,
     "metadata": {},
     "output_type": "execute_result"
    }
   ],
   "source": [
    "# You can write code in this cell\n",
    "y.head()"
   ]
  },
  {
   "cell_type": "markdown",
   "id": "6e693b39",
   "metadata": {
    "papermill": {
     "duration": 0.005975,
     "end_time": "2025-09-01T19:19:16.348307",
     "exception": false,
     "start_time": "2025-09-01T19:19:16.342332",
     "status": "completed"
    },
    "tags": []
   },
   "source": [
    "It's natural to ask how accurate the model's predictions will be and how you can improve that. That will be you're next step.\n",
    "\n",
    "# Keep Going\n",
    "\n",
    "You are ready for **[Model Validation](https://www.kaggle.com/dansbecker/model-validation).**\n"
   ]
  },
  {
   "cell_type": "markdown",
   "id": "6f40dd5b",
   "metadata": {
    "papermill": {
     "duration": 0.005204,
     "end_time": "2025-09-01T19:19:16.359002",
     "exception": false,
     "start_time": "2025-09-01T19:19:16.353798",
     "status": "completed"
    },
    "tags": []
   },
   "source": [
    "---\n",
    "\n",
    "\n",
    "\n",
    "\n",
    "*Have questions or comments? Visit the [course discussion forum](https://www.kaggle.com/learn/intro-to-machine-learning/discussion) to chat with other learners.*"
   ]
  }
 ],
 "metadata": {
  "kaggle": {
   "accelerator": "none",
   "dataSources": [
    {
     "databundleVersionId": 111096,
     "sourceId": 10211,
     "sourceType": "competition"
    },
    {
     "datasetId": 11167,
     "sourceId": 15520,
     "sourceType": "datasetVersion"
    },
    {
     "datasetId": 2709,
     "sourceId": 38454,
     "sourceType": "datasetVersion"
    }
   ],
   "isGpuEnabled": false,
   "isInternetEnabled": false,
   "language": "python",
   "sourceType": "notebook"
  },
  "kernelspec": {
   "display_name": "Python 3",
   "language": "python",
   "name": "python3"
  },
  "language_info": {
   "codemirror_mode": {
    "name": "ipython",
    "version": 3
   },
   "file_extension": ".py",
   "mimetype": "text/x-python",
   "name": "python",
   "nbconvert_exporter": "python",
   "pygments_lexer": "ipython3",
   "version": "3.11.13"
  },
  "papermill": {
   "default_parameters": {},
   "duration": 12.224242,
   "end_time": "2025-09-01T19:19:17.085744",
   "environment_variables": {},
   "exception": null,
   "input_path": "__notebook__.ipynb",
   "output_path": "__notebook__.ipynb",
   "parameters": {},
   "start_time": "2025-09-01T19:19:04.861502",
   "version": "2.6.0"
  }
 },
 "nbformat": 4,
 "nbformat_minor": 5
}
