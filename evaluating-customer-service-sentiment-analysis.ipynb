{
 "cells": [
  {
   "cell_type": "markdown",
   "metadata": {
    "_cell_guid": "2cfe3fad-becc-4807-811c-e8981d23e0eb",
    "_uuid": "91a17474f393109e0071b826927271571146841b"
   },
   "source": [
    "# Evaluating Customer Service through Sentiment Analysis:\n",
    "<img src=\"https://static.hosteltur.com/web/uploads_c/2016/10/B_f3a645c8d3d4e56e4fd8fc121100d6c6.jpg\">\n",
    "In this notebook we will perform an in depth analysis as to how organizations deal with customer complaints. <b>Customer service </b> is an essential part of any organization since it help develop a customer base. Our main aim is to implement a <b>sentiment analysis </b> with the main customer service issues with some of the organizations. We want to determine what is the <b> opinion </b>  \"out there\" of the main issues and \"recommend\" several solutions to improve this <b> sentiment </b> some customers have towards a specific final institution.\n",
    "\n",
    "### Main goals: \n",
    "<ul>\n",
    "<li>Determine the top companies that received more <b>disputes</b>. </li>\n",
    "<li>Is the trend of disputes increasing or decreasing? </li>\n",
    "<li> What is the overall <b>sentiment </b> of the issues? </li>\n",
    "<li>What is the sentiment for the top organizations that have disputes with regards to the issues declared by the customer </li>\n",
    "</ul>\n",
    "\n",
    "**Note:** This notebook is in the process of update. Stay tuned!"
   ]
  },
  {
   "cell_type": "code",
   "execution_count": 1,
   "metadata": {
    "_cell_guid": "b1076dfc-b9ad-4769-8c92-a6c4dae69d19",
    "_uuid": "8f2839f25d086af736a60e9eeb907d3b93b6e0e5"
   },
   "outputs": [
    {
     "data": {
      "text/html": [
       "<script>requirejs.config({paths: { 'plotly': ['https://cdn.plot.ly/plotly-latest.min']},});if(!window.Plotly) {{require(['plotly'],function(plotly) {window.Plotly=plotly;});}}</script>"
      ],
      "text/vnd.plotly.v1+html": [
       "<script>requirejs.config({paths: { 'plotly': ['https://cdn.plot.ly/plotly-latest.min']},});if(!window.Plotly) {{require(['plotly'],function(plotly) {window.Plotly=plotly;});}}</script>"
      ]
     },
     "metadata": {},
     "output_type": "display_data"
    },
    {
     "name": "stdout",
     "output_type": "stream",
     "text": [
      "['database.sqlite', 'consumer_complaints.csv']\n"
     ]
    }
   ],
   "source": [
    "import numpy as np \n",
    "import pandas as pd \n",
    "import sqlite3\n",
    "from collections import Counter\n",
    "import nltk\n",
    "import matplotlib.pyplot as plt\n",
    "import seaborn as sns\n",
    "from wordcloud import WordCloud, STOPWORDS\n",
    "% matplotlib inline\n",
    "\n",
    "# Plotly libraries\n",
    "import plotly.tools as tls\n",
    "import plotly.plotly as py\n",
    "import plotly.figure_factory as ff\n",
    "import plotly.graph_objs as go\n",
    "from plotly.offline import download_plotlyjs, init_notebook_mode, plot, iplot\n",
    "init_notebook_mode(connected=True)\n",
    "\n",
    "import os\n",
    "print(os.listdir(\"../input\"))\n",
    "\n",
    "# Any results you write to the current directory are saved as output."
   ]
  },
  {
   "cell_type": "code",
   "execution_count": 2,
   "metadata": {
    "_cell_guid": "dc3e88eb-a5f4-4128-9235-f1c76081e18d",
    "_kg_hide-input": true,
    "_uuid": "51c206598bbb3e4be636a1ba243ef0afd817a292"
   },
   "outputs": [
    {
     "name": "stderr",
     "output_type": "stream",
     "text": [
      "/opt/conda/lib/python3.6/site-packages/IPython/core/interactiveshell.py:2698: DtypeWarning:\n",
      "\n",
      "Columns (5,11) have mixed types. Specify dtype option on import or set low_memory=False.\n",
      "\n"
     ]
    },
    {
     "data": {
      "text/html": [
       "<div>\n",
       "<style scoped>\n",
       "    .dataframe tbody tr th:only-of-type {\n",
       "        vertical-align: middle;\n",
       "    }\n",
       "\n",
       "    .dataframe tbody tr th {\n",
       "        vertical-align: top;\n",
       "    }\n",
       "\n",
       "    .dataframe thead th {\n",
       "        text-align: right;\n",
       "    }\n",
       "</style>\n",
       "<table border=\"1\" class=\"dataframe\">\n",
       "  <thead>\n",
       "    <tr style=\"text-align: right;\">\n",
       "      <th></th>\n",
       "      <th>date_received</th>\n",
       "      <th>product</th>\n",
       "      <th>sub_product</th>\n",
       "      <th>issue</th>\n",
       "      <th>sub_issue</th>\n",
       "      <th>consumer_complaint_narrative</th>\n",
       "      <th>company_public_response</th>\n",
       "      <th>company</th>\n",
       "      <th>state</th>\n",
       "      <th>zipcode</th>\n",
       "      <th>tags</th>\n",
       "      <th>consumer_consent_provided</th>\n",
       "      <th>submitted_via</th>\n",
       "      <th>date_sent_to_company</th>\n",
       "      <th>company_response_to_consumer</th>\n",
       "      <th>timely_response</th>\n",
       "      <th>consumer_disputed?</th>\n",
       "      <th>complaint_id</th>\n",
       "    </tr>\n",
       "  </thead>\n",
       "  <tbody>\n",
       "    <tr>\n",
       "      <th>0</th>\n",
       "      <td>08/30/2013</td>\n",
       "      <td>Mortgage</td>\n",
       "      <td>Other mortgage</td>\n",
       "      <td>Loan modification,collection,foreclosure</td>\n",
       "      <td>NaN</td>\n",
       "      <td>NaN</td>\n",
       "      <td>NaN</td>\n",
       "      <td>U.S. Bancorp</td>\n",
       "      <td>CA</td>\n",
       "      <td>95993</td>\n",
       "      <td>NaN</td>\n",
       "      <td>NaN</td>\n",
       "      <td>Referral</td>\n",
       "      <td>09/03/2013</td>\n",
       "      <td>Closed with explanation</td>\n",
       "      <td>Yes</td>\n",
       "      <td>Yes</td>\n",
       "      <td>511074</td>\n",
       "    </tr>\n",
       "    <tr>\n",
       "      <th>1</th>\n",
       "      <td>08/30/2013</td>\n",
       "      <td>Mortgage</td>\n",
       "      <td>Other mortgage</td>\n",
       "      <td>Loan servicing, payments, escrow account</td>\n",
       "      <td>NaN</td>\n",
       "      <td>NaN</td>\n",
       "      <td>NaN</td>\n",
       "      <td>Wells Fargo &amp; Company</td>\n",
       "      <td>CA</td>\n",
       "      <td>91104</td>\n",
       "      <td>NaN</td>\n",
       "      <td>NaN</td>\n",
       "      <td>Referral</td>\n",
       "      <td>09/03/2013</td>\n",
       "      <td>Closed with explanation</td>\n",
       "      <td>Yes</td>\n",
       "      <td>Yes</td>\n",
       "      <td>511080</td>\n",
       "    </tr>\n",
       "    <tr>\n",
       "      <th>2</th>\n",
       "      <td>08/30/2013</td>\n",
       "      <td>Credit reporting</td>\n",
       "      <td>NaN</td>\n",
       "      <td>Incorrect information on credit report</td>\n",
       "      <td>Account status</td>\n",
       "      <td>NaN</td>\n",
       "      <td>NaN</td>\n",
       "      <td>Wells Fargo &amp; Company</td>\n",
       "      <td>NY</td>\n",
       "      <td>11764</td>\n",
       "      <td>NaN</td>\n",
       "      <td>NaN</td>\n",
       "      <td>Postal mail</td>\n",
       "      <td>09/18/2013</td>\n",
       "      <td>Closed with explanation</td>\n",
       "      <td>Yes</td>\n",
       "      <td>No</td>\n",
       "      <td>510473</td>\n",
       "    </tr>\n",
       "    <tr>\n",
       "      <th>3</th>\n",
       "      <td>08/30/2013</td>\n",
       "      <td>Student loan</td>\n",
       "      <td>Non-federal student loan</td>\n",
       "      <td>Repaying your loan</td>\n",
       "      <td>Repaying your loan</td>\n",
       "      <td>NaN</td>\n",
       "      <td>NaN</td>\n",
       "      <td>Navient Solutions, Inc.</td>\n",
       "      <td>MD</td>\n",
       "      <td>21402</td>\n",
       "      <td>NaN</td>\n",
       "      <td>NaN</td>\n",
       "      <td>Email</td>\n",
       "      <td>08/30/2013</td>\n",
       "      <td>Closed with explanation</td>\n",
       "      <td>Yes</td>\n",
       "      <td>Yes</td>\n",
       "      <td>510326</td>\n",
       "    </tr>\n",
       "    <tr>\n",
       "      <th>4</th>\n",
       "      <td>08/30/2013</td>\n",
       "      <td>Debt collection</td>\n",
       "      <td>Credit card</td>\n",
       "      <td>False statements or representation</td>\n",
       "      <td>Attempted to collect wrong amount</td>\n",
       "      <td>NaN</td>\n",
       "      <td>NaN</td>\n",
       "      <td>Resurgent Capital Services L.P.</td>\n",
       "      <td>GA</td>\n",
       "      <td>30106</td>\n",
       "      <td>NaN</td>\n",
       "      <td>NaN</td>\n",
       "      <td>Web</td>\n",
       "      <td>08/30/2013</td>\n",
       "      <td>Closed with explanation</td>\n",
       "      <td>Yes</td>\n",
       "      <td>Yes</td>\n",
       "      <td>511067</td>\n",
       "    </tr>\n",
       "  </tbody>\n",
       "</table>\n",
       "</div>"
      ],
      "text/plain": [
       "  date_received           product     ...      consumer_disputed? complaint_id\n",
       "0    08/30/2013          Mortgage     ...                     Yes       511074\n",
       "1    08/30/2013          Mortgage     ...                     Yes       511080\n",
       "2    08/30/2013  Credit reporting     ...                      No       510473\n",
       "3    08/30/2013      Student loan     ...                     Yes       510326\n",
       "4    08/30/2013   Debt collection     ...                     Yes       511067\n",
       "\n",
       "[5 rows x 18 columns]"
      ]
     },
     "execution_count": 2,
     "metadata": {},
     "output_type": "execute_result"
    }
   ],
   "source": [
    "df = pd.read_csv(\"../input/consumer_complaints.csv\")\n",
    "df.head()"
   ]
  },
  {
   "cell_type": "code",
   "execution_count": 3,
   "metadata": {
    "_cell_guid": "fefdf330-27b3-4290-8c51-142729508d1c",
    "_kg_hide-input": true,
    "_uuid": "856bed1a5a6c4296ecf7b7f787cec284b0af01ef"
   },
   "outputs": [
    {
     "name": "stdout",
     "output_type": "stream",
     "text": [
      "Mortgage                   33.54\n",
      "Debt collection            18.18\n",
      "Credit reporting           16.52\n",
      "Credit card                11.96\n",
      "Bank account or service    11.25\n",
      "Consumer Loan               3.78\n",
      "Student loan                2.85\n",
      "Payday loan                 0.70\n",
      "Money transfers             0.69\n",
      "Prepaid card                0.44\n",
      "Other financial service     0.10\n",
      "Name: product, dtype: float64\n"
     ]
    },
    {
     "data": {
      "application/vnd.plotly.v1+json": {
       "data": [
        {
         "labels": [
          "Mortgage",
          "Debt collection",
          "Credit reporting",
          "Credit card",
          "Bank account or service",
          "Consumer Loan",
          "Student loan",
          "Payday loan",
          "Money transfers",
          "Prepaid card",
          "Other financial service"
         ],
         "marker": {
          "colors": [
           "#F78181",
           "#F5A9BC",
           "#2E9AFE",
           "#58FA58",
           "#FAAC58",
           "#088A85",
           "#8A0808",
           "#848484",
           "#F781F3",
           "#D7DF01",
           "#2E2EFE"
          ],
          "line": {
           "color": "#000000",
           "width": 2
          }
         },
         "type": "pie",
         "values": [
          33.54,
          18.18,
          16.52,
          11.96,
          11.25,
          3.78,
          2.85,
          0.7,
          0.69,
          0.44,
          0.1
         ]
        }
       ],
       "layout": {
        "title": "Product Types"
       }
      },
      "text/html": [
       "<div id=\"111e11b3-b043-48cc-9af6-134e3784552d\" style=\"height: 525px; width: 100%;\" class=\"plotly-graph-div\"></div><script type=\"text/javascript\">require([\"plotly\"], function(Plotly) { window.PLOTLYENV=window.PLOTLYENV || {};window.PLOTLYENV.BASE_URL=\"https://plot.ly\";Plotly.newPlot(\"111e11b3-b043-48cc-9af6-134e3784552d\", [{\"type\": \"pie\", \"labels\": [\"Mortgage\", \"Debt collection\", \"Credit reporting\", \"Credit card\", \"Bank account or service\", \"Consumer Loan\", \"Student loan\", \"Payday loan\", \"Money transfers\", \"Prepaid card\", \"Other financial service\"], \"values\": [33.54, 18.18, 16.52, 11.96, 11.25, 3.78, 2.85, 0.7, 0.69, 0.44, 0.1], \"marker\": {\"colors\": [\"#F78181\", \"#F5A9BC\", \"#2E9AFE\", \"#58FA58\", \"#FAAC58\", \"#088A85\", \"#8A0808\", \"#848484\", \"#F781F3\", \"#D7DF01\", \"#2E2EFE\"], \"line\": {\"color\": \"#000000\", \"width\": 2}}}], {\"title\": \"Product Types\"}, {\"showLink\": true, \"linkText\": \"Export to plot.ly\"})});</script>"
      ],
      "text/vnd.plotly.v1+html": [
       "<div id=\"111e11b3-b043-48cc-9af6-134e3784552d\" style=\"height: 525px; width: 100%;\" class=\"plotly-graph-div\"></div><script type=\"text/javascript\">require([\"plotly\"], function(Plotly) { window.PLOTLYENV=window.PLOTLYENV || {};window.PLOTLYENV.BASE_URL=\"https://plot.ly\";Plotly.newPlot(\"111e11b3-b043-48cc-9af6-134e3784552d\", [{\"type\": \"pie\", \"labels\": [\"Mortgage\", \"Debt collection\", \"Credit reporting\", \"Credit card\", \"Bank account or service\", \"Consumer Loan\", \"Student loan\", \"Payday loan\", \"Money transfers\", \"Prepaid card\", \"Other financial service\"], \"values\": [33.54, 18.18, 16.52, 11.96, 11.25, 3.78, 2.85, 0.7, 0.69, 0.44, 0.1], \"marker\": {\"colors\": [\"#F78181\", \"#F5A9BC\", \"#2E9AFE\", \"#58FA58\", \"#FAAC58\", \"#088A85\", \"#8A0808\", \"#848484\", \"#F781F3\", \"#D7DF01\", \"#2E2EFE\"], \"line\": {\"color\": \"#000000\", \"width\": 2}}}], {\"title\": \"Product Types\"}, {\"showLink\": true, \"linkText\": \"Export to plot.ly\"})});</script>"
      ]
     },
     "metadata": {},
     "output_type": "display_data"
    }
   ],
   "source": [
    "p_product_discussions = round(df[\"product\"].value_counts() / len(df[\"product\"]) * 100,2)\n",
    "\n",
    "print(p_product_discussions)\n",
    "\n",
    "labels = list(p_product_discussions.index)\n",
    "values = p_product_discussions.values.tolist()\n",
    "colors = ['#F78181', '#F5A9BC', '#2E9AFE', '#58FA58', '#FAAC58', '#088A85', '#8A0808', '#848484', '#F781F3', '#D7DF01', '#2E2EFE']\n",
    "\n",
    "\n",
    "product_pie = go.Pie(labels=labels, values=values, \n",
    "                          marker=dict(colors=colors,\n",
    "                         line=dict(color='#000000', width=2)))\n",
    "\n",
    "layout = go.Layout(title='Product Types')\n",
    "\n",
    "fig = go.Figure(data=[product_pie], layout=layout)\n",
    "iplot(fig)"
   ]
  },
  {
   "cell_type": "code",
   "execution_count": 4,
   "metadata": {
    "_cell_guid": "2650f2f7-9c6a-4232-bf7e-8c669c2d1999",
    "_uuid": "e96bf876a043c94a04fa7764007671595886bd03"
   },
   "outputs": [
    {
     "data": {
      "text/plain": [
       "Closed with explanation            404293\n",
       "Closed with non-monetary relief     70237\n",
       "Closed with monetary relief         38262\n",
       "Closed without relief               17909\n",
       "Closed                              13399\n",
       "Closed with relief                   5305\n",
       "In progress                          3763\n",
       "Untimely response                    2789\n",
       "Name: company_response_to_consumer, dtype: int64"
      ]
     },
     "execution_count": 4,
     "metadata": {},
     "output_type": "execute_result"
    }
   ],
   "source": [
    "df['company_response_to_consumer'].value_counts()"
   ]
  },
  {
   "cell_type": "code",
   "execution_count": 5,
   "metadata": {
    "_cell_guid": "e2257955-aa58-476b-b7c3-694fcd504711",
    "_uuid": "26673e0777d470e3e4c2fae8056e835ad9252600",
    "collapsed": true,
    "jupyter": {
     "outputs_hidden": true
    }
   },
   "outputs": [],
   "source": [
    "# Building the variables for our graphs\n",
    "disputed = df['consumer_disputed?'].value_counts()\n",
    "company_response = df['company_response_to_consumer'].value_counts()\n",
    "top5_disputed = df['company'].loc[df['consumer_disputed?'] == 'Yes'].value_counts()[:5]\n",
    "top5_nodispute = df['company'].loc[df['consumer_disputed?'] == 'No'].value_counts()[:5]"
   ]
  },
  {
   "cell_type": "code",
   "execution_count": 6,
   "metadata": {
    "_cell_guid": "1e603f73-6a53-4bb3-bf93-721fbccf9bd7",
    "_kg_hide-input": true,
    "_uuid": "68a3b96fa6c6e331b19a8ad7e99d2477afe7bc34"
   },
   "outputs": [
    {
     "name": "stdout",
     "output_type": "stream",
     "text": [
      "This is the format of your plot grid:\n",
      "[ (1,1) x1,y1 ]  [ (1,2) x2,y2 ]  [ (1,3) x3,y3 ]\n",
      "[ (2,1) x4,y4           -                -      ]\n",
      "\n"
     ]
    },
    {
     "data": {
      "application/vnd.plotly.v1+json": {
       "data": [
        {
         "marker": {
          "color": [
           "#40FF00",
           "#FF0000"
          ]
         },
         "showlegend": false,
         "text": "Complaints",
         "type": "bar",
         "x": [
          "No",
          "Yes"
         ],
         "xaxis": "x1",
         "y": [
          443823,
          112134
         ],
         "yaxis": "y1"
        },
        {
         "marker": {
          "color": [
           12480,
           9644,
           7716,
           6647,
           5245
          ],
          "colorscale": "Reds"
         },
         "showlegend": false,
         "text": "Disputes",
         "type": "bar",
         "x": [
          "Bank of America",
          "Wells Fargo & Company",
          "JPMorgan Chase & Co.",
          "Equifax",
          "Citibank"
         ],
         "xaxis": "x2",
         "y": [
          12480,
          9644,
          7716,
          6647,
          5245
         ],
         "yaxis": "y2"
        },
        {
         "marker": {
          "color": [
           43518,
           32380,
           27014,
           26165,
           25181
          ],
          "colorscale": "Blues"
         },
         "showlegend": false,
         "text": "No Disputes",
         "type": "bar",
         "x": [
          "Bank of America",
          "Wells Fargo & Company",
          "Experian",
          "JPMorgan Chase & Co.",
          "Equifax"
         ],
         "xaxis": "x3",
         "y": [
          43518,
          32380,
          27014,
          26165,
          25181
         ],
         "yaxis": "y3"
        },
        {
         "marker": {
          "color": [
           404293,
           70237,
           38262,
           17909,
           13399,
           5305,
           3763,
           2789
          ],
          "colorscale": [
           [
            0.0,
            "rgb(165,0,38)"
           ],
           [
            0.1111111111111111,
            "rgb(215,48,39)"
           ],
           [
            0.2222222222222222,
            "rgb(244,109,67)"
           ],
           [
            0.3333333333333333,
            "rgb(253,174,97)"
           ],
           [
            0.4444444444444444,
            "rgb(254,224,144)"
           ],
           [
            0.5555555555555556,
            "rgb(224,243,248)"
           ],
           [
            0.6666666666666666,
            "rgb(171,217,233)"
           ],
           [
            0.7777777777777778,
            "rgb(116,173,209)"
           ],
           [
            0.8888888888888888,
            "rgb(69,117,180)"
           ],
           [
            1.0,
            "rgb(49,54,149)"
           ]
          ],
          "reversescale": true
         },
         "showlegend": false,
         "text": "Customer Response",
         "type": "bar",
         "x": [
          "Closed with explanation",
          "Closed with non-monetary relief",
          "Closed with monetary relief",
          "Closed without relief",
          "Closed",
          "Closed with relief",
          "In progress",
          "Untimely response"
         ],
         "xaxis": "x4",
         "y": [
          404293,
          70237,
          38262,
          17909,
          13399,
          5305,
          3763,
          2789
         ],
         "yaxis": "y4"
        }
       ],
       "layout": {
        "annotations": [
         {
          "font": {
           "size": 16
          },
          "showarrow": false,
          "text": "Did the Customer Disputed?",
          "x": 0.14444444444444446,
          "xanchor": "center",
          "xref": "paper",
          "y": 1.0,
          "yanchor": "bottom",
          "yref": "paper"
         },
         {
          "font": {
           "size": 16
          },
          "showarrow": false,
          "text": "Disputes",
          "x": 0.5,
          "xanchor": "center",
          "xref": "paper",
          "y": 1.0,
          "yanchor": "bottom",
          "yref": "paper"
         },
         {
          "font": {
           "size": 16
          },
          "showarrow": false,
          "text": "No Disputes",
          "x": 0.8555555555555556,
          "xanchor": "center",
          "xref": "paper",
          "y": 1.0,
          "yanchor": "bottom",
          "yref": "paper"
         },
         {
          "font": {
           "size": 16
          },
          "showarrow": false,
          "text": "Customer Response",
          "x": 0.5,
          "xanchor": "center",
          "xref": "paper",
          "y": 0.375,
          "yanchor": "bottom",
          "yref": "paper"
         }
        ],
        "height": 600,
        "showlegend": true,
        "title": "Sectors",
        "width": 800,
        "xaxis1": {
         "anchor": "y1",
         "domain": [
          0.0,
          0.2888888888888889
         ]
        },
        "xaxis2": {
         "anchor": "y2",
         "domain": [
          0.35555555555555557,
          0.6444444444444445
         ]
        },
        "xaxis3": {
         "anchor": "y3",
         "domain": [
          0.7111111111111111,
          1.0
         ]
        },
        "xaxis4": {
         "anchor": "y4",
         "domain": [
          0.0,
          1.0
         ]
        },
        "yaxis1": {
         "anchor": "x1",
         "domain": [
          0.625,
          1.0
         ]
        },
        "yaxis2": {
         "anchor": "x2",
         "domain": [
          0.625,
          1.0
         ]
        },
        "yaxis3": {
         "anchor": "x3",
         "domain": [
          0.625,
          1.0
         ]
        },
        "yaxis4": {
         "anchor": "x4",
         "domain": [
          0.0,
          0.375
         ]
        }
       }
      },
      "text/html": [
       "<div id=\"25b36abd-8183-476e-a291-c01d480f4fad\" style=\"height: 600px; width: 800px;\" class=\"plotly-graph-div\"></div><script type=\"text/javascript\">require([\"plotly\"], function(Plotly) { window.PLOTLYENV=window.PLOTLYENV || {};window.PLOTLYENV.BASE_URL=\"https://plot.ly\";Plotly.newPlot(\"25b36abd-8183-476e-a291-c01d480f4fad\", [{\"type\": \"bar\", \"x\": [\"No\", \"Yes\"], \"y\": [443823, 112134], \"text\": \"Complaints\", \"showlegend\": false, \"marker\": {\"color\": [\"#40FF00\", \"#FF0000\"]}, \"xaxis\": \"x1\", \"yaxis\": \"y1\"}, {\"type\": \"bar\", \"x\": [\"Bank of America\", \"Wells Fargo & Company\", \"JPMorgan Chase & Co.\", \"Equifax\", \"Citibank\"], \"y\": [12480, 9644, 7716, 6647, 5245], \"text\": \"Disputes\", \"showlegend\": false, \"marker\": {\"color\": [12480, 9644, 7716, 6647, 5245], \"colorscale\": \"Reds\"}, \"xaxis\": \"x2\", \"yaxis\": \"y2\"}, {\"type\": \"bar\", \"x\": [\"Bank of America\", \"Wells Fargo & Company\", \"Experian\", \"JPMorgan Chase & Co.\", \"Equifax\"], \"y\": [43518, 32380, 27014, 26165, 25181], \"text\": \"No Disputes\", \"showlegend\": false, \"marker\": {\"color\": [43518, 32380, 27014, 26165, 25181], \"colorscale\": \"Blues\"}, \"xaxis\": \"x3\", \"yaxis\": \"y3\"}, {\"type\": \"bar\", \"x\": [\"Closed with explanation\", \"Closed with non-monetary relief\", \"Closed with monetary relief\", \"Closed without relief\", \"Closed\", \"Closed with relief\", \"In progress\", \"Untimely response\"], \"y\": [404293, 70237, 38262, 17909, 13399, 5305, 3763, 2789], \"text\": \"Customer Response\", \"showlegend\": false, \"marker\": {\"color\": [404293, 70237, 38262, 17909, 13399, 5305, 3763, 2789], \"colorscale\": [[0.0, \"rgb(165,0,38)\"], [0.1111111111111111, \"rgb(215,48,39)\"], [0.2222222222222222, \"rgb(244,109,67)\"], [0.3333333333333333, \"rgb(253,174,97)\"], [0.4444444444444444, \"rgb(254,224,144)\"], [0.5555555555555556, \"rgb(224,243,248)\"], [0.6666666666666666, \"rgb(171,217,233)\"], [0.7777777777777778, \"rgb(116,173,209)\"], [0.8888888888888888, \"rgb(69,117,180)\"], [1.0, \"rgb(49,54,149)\"]], \"reversescale\": true}, \"xaxis\": \"x4\", \"yaxis\": \"y4\"}], {\"xaxis1\": {\"domain\": [0.0, 0.2888888888888889], \"anchor\": \"y1\"}, \"yaxis1\": {\"domain\": [0.625, 1.0], \"anchor\": \"x1\"}, \"xaxis2\": {\"domain\": [0.35555555555555557, 0.6444444444444445], \"anchor\": \"y2\"}, \"yaxis2\": {\"domain\": [0.625, 1.0], \"anchor\": \"x2\"}, \"xaxis3\": {\"domain\": [0.7111111111111111, 1.0], \"anchor\": \"y3\"}, \"yaxis3\": {\"domain\": [0.625, 1.0], \"anchor\": \"x3\"}, \"xaxis4\": {\"domain\": [0.0, 1.0], \"anchor\": \"y4\"}, \"yaxis4\": {\"domain\": [0.0, 0.375], \"anchor\": \"x4\"}, \"annotations\": [{\"y\": 1.0, \"xref\": \"paper\", \"x\": 0.14444444444444446, \"yref\": \"paper\", \"text\": \"Did the Customer Disputed?\", \"showarrow\": false, \"font\": {\"size\": 16}, \"xanchor\": \"center\", \"yanchor\": \"bottom\"}, {\"y\": 1.0, \"xref\": \"paper\", \"x\": 0.5, \"yref\": \"paper\", \"text\": \"Disputes\", \"showarrow\": false, \"font\": {\"size\": 16}, \"xanchor\": \"center\", \"yanchor\": \"bottom\"}, {\"y\": 1.0, \"xref\": \"paper\", \"x\": 0.8555555555555556, \"yref\": \"paper\", \"text\": \"No Disputes\", \"showarrow\": false, \"font\": {\"size\": 16}, \"xanchor\": \"center\", \"yanchor\": \"bottom\"}, {\"y\": 0.375, \"xref\": \"paper\", \"x\": 0.5, \"yref\": \"paper\", \"text\": \"Customer Response\", \"showarrow\": false, \"font\": {\"size\": 16}, \"xanchor\": \"center\", \"yanchor\": \"bottom\"}], \"showlegend\": true, \"height\": 600, \"width\": 800, \"title\": \"Sectors\"}, {\"showLink\": true, \"linkText\": \"Export to plot.ly\"})});</script>"
      ],
      "text/vnd.plotly.v1+html": [
       "<div id=\"25b36abd-8183-476e-a291-c01d480f4fad\" style=\"height: 600px; width: 800px;\" class=\"plotly-graph-div\"></div><script type=\"text/javascript\">require([\"plotly\"], function(Plotly) { window.PLOTLYENV=window.PLOTLYENV || {};window.PLOTLYENV.BASE_URL=\"https://plot.ly\";Plotly.newPlot(\"25b36abd-8183-476e-a291-c01d480f4fad\", [{\"type\": \"bar\", \"x\": [\"No\", \"Yes\"], \"y\": [443823, 112134], \"text\": \"Complaints\", \"showlegend\": false, \"marker\": {\"color\": [\"#40FF00\", \"#FF0000\"]}, \"xaxis\": \"x1\", \"yaxis\": \"y1\"}, {\"type\": \"bar\", \"x\": [\"Bank of America\", \"Wells Fargo & Company\", \"JPMorgan Chase & Co.\", \"Equifax\", \"Citibank\"], \"y\": [12480, 9644, 7716, 6647, 5245], \"text\": \"Disputes\", \"showlegend\": false, \"marker\": {\"color\": [12480, 9644, 7716, 6647, 5245], \"colorscale\": \"Reds\"}, \"xaxis\": \"x2\", \"yaxis\": \"y2\"}, {\"type\": \"bar\", \"x\": [\"Bank of America\", \"Wells Fargo & Company\", \"Experian\", \"JPMorgan Chase & Co.\", \"Equifax\"], \"y\": [43518, 32380, 27014, 26165, 25181], \"text\": \"No Disputes\", \"showlegend\": false, \"marker\": {\"color\": [43518, 32380, 27014, 26165, 25181], \"colorscale\": \"Blues\"}, \"xaxis\": \"x3\", \"yaxis\": \"y3\"}, {\"type\": \"bar\", \"x\": [\"Closed with explanation\", \"Closed with non-monetary relief\", \"Closed with monetary relief\", \"Closed without relief\", \"Closed\", \"Closed with relief\", \"In progress\", \"Untimely response\"], \"y\": [404293, 70237, 38262, 17909, 13399, 5305, 3763, 2789], \"text\": \"Customer Response\", \"showlegend\": false, \"marker\": {\"color\": [404293, 70237, 38262, 17909, 13399, 5305, 3763, 2789], \"colorscale\": [[0.0, \"rgb(165,0,38)\"], [0.1111111111111111, \"rgb(215,48,39)\"], [0.2222222222222222, \"rgb(244,109,67)\"], [0.3333333333333333, \"rgb(253,174,97)\"], [0.4444444444444444, \"rgb(254,224,144)\"], [0.5555555555555556, \"rgb(224,243,248)\"], [0.6666666666666666, \"rgb(171,217,233)\"], [0.7777777777777778, \"rgb(116,173,209)\"], [0.8888888888888888, \"rgb(69,117,180)\"], [1.0, \"rgb(49,54,149)\"]], \"reversescale\": true}, \"xaxis\": \"x4\", \"yaxis\": \"y4\"}], {\"xaxis1\": {\"domain\": [0.0, 0.2888888888888889], \"anchor\": \"y1\"}, \"yaxis1\": {\"domain\": [0.625, 1.0], \"anchor\": \"x1\"}, \"xaxis2\": {\"domain\": [0.35555555555555557, 0.6444444444444445], \"anchor\": \"y2\"}, \"yaxis2\": {\"domain\": [0.625, 1.0], \"anchor\": \"x2\"}, \"xaxis3\": {\"domain\": [0.7111111111111111, 1.0], \"anchor\": \"y3\"}, \"yaxis3\": {\"domain\": [0.625, 1.0], \"anchor\": \"x3\"}, \"xaxis4\": {\"domain\": [0.0, 1.0], \"anchor\": \"y4\"}, \"yaxis4\": {\"domain\": [0.0, 0.375], \"anchor\": \"x4\"}, \"annotations\": [{\"y\": 1.0, \"xref\": \"paper\", \"x\": 0.14444444444444446, \"yref\": \"paper\", \"text\": \"Did the Customer Disputed?\", \"showarrow\": false, \"font\": {\"size\": 16}, \"xanchor\": \"center\", \"yanchor\": \"bottom\"}, {\"y\": 1.0, \"xref\": \"paper\", \"x\": 0.5, \"yref\": \"paper\", \"text\": \"Disputes\", \"showarrow\": false, \"font\": {\"size\": 16}, \"xanchor\": \"center\", \"yanchor\": \"bottom\"}, {\"y\": 1.0, \"xref\": \"paper\", \"x\": 0.8555555555555556, \"yref\": \"paper\", \"text\": \"No Disputes\", \"showarrow\": false, \"font\": {\"size\": 16}, \"xanchor\": \"center\", \"yanchor\": \"bottom\"}, {\"y\": 0.375, \"xref\": \"paper\", \"x\": 0.5, \"yref\": \"paper\", \"text\": \"Customer Response\", \"showarrow\": false, \"font\": {\"size\": 16}, \"xanchor\": \"center\", \"yanchor\": \"bottom\"}], \"showlegend\": true, \"height\": 600, \"width\": 800, \"title\": \"Sectors\"}, {\"showLink\": true, \"linkText\": \"Export to plot.ly\"})});</script>"
      ]
     },
     "metadata": {},
     "output_type": "display_data"
    }
   ],
   "source": [
    "\n",
    "# Top three subplots\n",
    "total_complaints_plotly = go.Bar(\n",
    "            x=disputed.index.values,\n",
    "            y=disputed.values,\n",
    "    text = 'Complaints',\n",
    "    showlegend=False,\n",
    "    marker=dict(\n",
    "        color=['#40FF00', '#FF0000'])\n",
    "    )\n",
    "\n",
    "top5_disputes_plotly = go.Bar(\n",
    "            x=top5_disputed.index.values,\n",
    "            y=top5_disputed.values,\n",
    "    text='Disputes',\n",
    "    showlegend=False,\n",
    "    marker=dict(\n",
    "        color=top5_disputed.values,\n",
    "        colorscale='Reds')\n",
    "    )\n",
    "\n",
    "top5_nodisputes_plotly = go.Bar(\n",
    "            x=top5_nodispute.index.values,\n",
    "            y=top5_nodispute.values,\n",
    "    text='No Disputes',\n",
    "    showlegend=False,\n",
    "    marker=dict(\n",
    "        color=top5_nodispute.values,\n",
    "        colorscale='Blues')\n",
    "    )\n",
    "\n",
    "# Lower Subplot\n",
    "customer_res_plotly = go.Bar(\n",
    "            x=company_response.index.values,\n",
    "            y=company_response.values,\n",
    "    text='Customer Response',\n",
    "    showlegend=False,\n",
    "        marker=dict(\n",
    "        color=df['company_response_to_consumer'].value_counts().values,\n",
    "        colorscale = [[0.0, 'rgb(165,0,38)'], [0.1111111111111111, 'rgb(215,48,39)'], [0.2222222222222222, 'rgb(244,109,67)'], \n",
    "                      [0.3333333333333333, 'rgb(253,174,97)'], [0.4444444444444444, 'rgb(254,224,144)'], \n",
    "                      [0.5555555555555556, 'rgb(224,243,248)'], [0.6666666666666666, 'rgb(171,217,233)'], \n",
    "                      [0.7777777777777778, 'rgb(116,173,209)'], [0.8888888888888888, 'rgb(69,117,180)'], \n",
    "                      [1.0, 'rgb(49,54,149)']],\n",
    "        reversescale = True\n",
    "        )\n",
    ")\n",
    "\n",
    "fig = tls.make_subplots(rows=2, cols=3, specs=[[{}, {}, {}], [{'colspan': 3}, None, None]],\n",
    "                          subplot_titles=('Did the Customer Disputed?',\n",
    "                                          'Disputes',\n",
    "                                         'No Disputes',\n",
    "                                         'Customer Response'))\n",
    "\n",
    "# First three Subplots\n",
    "fig.append_trace(total_complaints_plotly, 1, 1)\n",
    "fig.append_trace(top5_disputes_plotly , 1, 2)\n",
    "fig.append_trace(top5_nodisputes_plotly , 1, 3)\n",
    "\n",
    "# Lower Subplot\n",
    "fig.append_trace(customer_res_plotly, 2, 1)\n",
    "\n",
    "\n",
    "\n",
    "fig['layout'].update(showlegend=True, height=600, width=800, title='Sectors')\n",
    "iplot(fig, filename='Complaints')"
   ]
  },
  {
   "cell_type": "code",
   "execution_count": 7,
   "metadata": {
    "_cell_guid": "9ab613c6-2dd1-4223-aee5-b36be213cf67",
    "_kg_hide-input": true,
    "_uuid": "80d3476a699134e2b900b7a28f98bd0cecd7c6d4"
   },
   "outputs": [
    {
     "data": {
      "text/html": [
       "<div>\n",
       "<style scoped>\n",
       "    .dataframe tbody tr th:only-of-type {\n",
       "        vertical-align: middle;\n",
       "    }\n",
       "\n",
       "    .dataframe tbody tr th {\n",
       "        vertical-align: top;\n",
       "    }\n",
       "\n",
       "    .dataframe thead th {\n",
       "        text-align: right;\n",
       "    }\n",
       "</style>\n",
       "<table border=\"1\" class=\"dataframe\">\n",
       "  <thead>\n",
       "    <tr style=\"text-align: right;\">\n",
       "      <th></th>\n",
       "      <th>date_received</th>\n",
       "      <th>product</th>\n",
       "      <th>sub_product</th>\n",
       "      <th>issue</th>\n",
       "      <th>sub_issue</th>\n",
       "      <th>consumer_complaint_narrative</th>\n",
       "      <th>company_public_response</th>\n",
       "      <th>company</th>\n",
       "      <th>state</th>\n",
       "      <th>zipcode</th>\n",
       "      <th>tags</th>\n",
       "      <th>consumer_consent_provided</th>\n",
       "      <th>submitted_via</th>\n",
       "      <th>date_sent_to_company</th>\n",
       "      <th>company_response_to_consumer</th>\n",
       "      <th>timely_response</th>\n",
       "      <th>consumer_disputed?</th>\n",
       "      <th>complaint_id</th>\n",
       "      <th>year_received</th>\n",
       "      <th>month_received</th>\n",
       "    </tr>\n",
       "  </thead>\n",
       "  <tbody>\n",
       "    <tr>\n",
       "      <th>0</th>\n",
       "      <td>2013-08-30</td>\n",
       "      <td>Mortgage</td>\n",
       "      <td>Other mortgage</td>\n",
       "      <td>Loan modification,collection,foreclosure</td>\n",
       "      <td>NaN</td>\n",
       "      <td>NaN</td>\n",
       "      <td>NaN</td>\n",
       "      <td>U.S. Bancorp</td>\n",
       "      <td>CA</td>\n",
       "      <td>95993</td>\n",
       "      <td>NaN</td>\n",
       "      <td>NaN</td>\n",
       "      <td>Referral</td>\n",
       "      <td>09/03/2013</td>\n",
       "      <td>Closed with explanation</td>\n",
       "      <td>Yes</td>\n",
       "      <td>Yes</td>\n",
       "      <td>511074</td>\n",
       "      <td>2013</td>\n",
       "      <td>8</td>\n",
       "    </tr>\n",
       "    <tr>\n",
       "      <th>1</th>\n",
       "      <td>2013-08-30</td>\n",
       "      <td>Mortgage</td>\n",
       "      <td>Other mortgage</td>\n",
       "      <td>Loan servicing, payments, escrow account</td>\n",
       "      <td>NaN</td>\n",
       "      <td>NaN</td>\n",
       "      <td>NaN</td>\n",
       "      <td>Wells Fargo &amp; Company</td>\n",
       "      <td>CA</td>\n",
       "      <td>91104</td>\n",
       "      <td>NaN</td>\n",
       "      <td>NaN</td>\n",
       "      <td>Referral</td>\n",
       "      <td>09/03/2013</td>\n",
       "      <td>Closed with explanation</td>\n",
       "      <td>Yes</td>\n",
       "      <td>Yes</td>\n",
       "      <td>511080</td>\n",
       "      <td>2013</td>\n",
       "      <td>8</td>\n",
       "    </tr>\n",
       "    <tr>\n",
       "      <th>2</th>\n",
       "      <td>2013-08-30</td>\n",
       "      <td>Credit reporting</td>\n",
       "      <td>NaN</td>\n",
       "      <td>Incorrect information on credit report</td>\n",
       "      <td>Account status</td>\n",
       "      <td>NaN</td>\n",
       "      <td>NaN</td>\n",
       "      <td>Wells Fargo &amp; Company</td>\n",
       "      <td>NY</td>\n",
       "      <td>11764</td>\n",
       "      <td>NaN</td>\n",
       "      <td>NaN</td>\n",
       "      <td>Postal mail</td>\n",
       "      <td>09/18/2013</td>\n",
       "      <td>Closed with explanation</td>\n",
       "      <td>Yes</td>\n",
       "      <td>No</td>\n",
       "      <td>510473</td>\n",
       "      <td>2013</td>\n",
       "      <td>8</td>\n",
       "    </tr>\n",
       "    <tr>\n",
       "      <th>3</th>\n",
       "      <td>2013-08-30</td>\n",
       "      <td>Student loan</td>\n",
       "      <td>Non-federal student loan</td>\n",
       "      <td>Repaying your loan</td>\n",
       "      <td>Repaying your loan</td>\n",
       "      <td>NaN</td>\n",
       "      <td>NaN</td>\n",
       "      <td>Navient Solutions, Inc.</td>\n",
       "      <td>MD</td>\n",
       "      <td>21402</td>\n",
       "      <td>NaN</td>\n",
       "      <td>NaN</td>\n",
       "      <td>Email</td>\n",
       "      <td>08/30/2013</td>\n",
       "      <td>Closed with explanation</td>\n",
       "      <td>Yes</td>\n",
       "      <td>Yes</td>\n",
       "      <td>510326</td>\n",
       "      <td>2013</td>\n",
       "      <td>8</td>\n",
       "    </tr>\n",
       "    <tr>\n",
       "      <th>4</th>\n",
       "      <td>2013-08-30</td>\n",
       "      <td>Debt collection</td>\n",
       "      <td>Credit card</td>\n",
       "      <td>False statements or representation</td>\n",
       "      <td>Attempted to collect wrong amount</td>\n",
       "      <td>NaN</td>\n",
       "      <td>NaN</td>\n",
       "      <td>Resurgent Capital Services L.P.</td>\n",
       "      <td>GA</td>\n",
       "      <td>30106</td>\n",
       "      <td>NaN</td>\n",
       "      <td>NaN</td>\n",
       "      <td>Web</td>\n",
       "      <td>08/30/2013</td>\n",
       "      <td>Closed with explanation</td>\n",
       "      <td>Yes</td>\n",
       "      <td>Yes</td>\n",
       "      <td>511067</td>\n",
       "      <td>2013</td>\n",
       "      <td>8</td>\n",
       "    </tr>\n",
       "  </tbody>\n",
       "</table>\n",
       "</div>"
      ],
      "text/plain": [
       "  date_received           product      ...       year_received month_received\n",
       "0    2013-08-30          Mortgage      ...                2013              8\n",
       "1    2013-08-30          Mortgage      ...                2013              8\n",
       "2    2013-08-30  Credit reporting      ...                2013              8\n",
       "3    2013-08-30      Student loan      ...                2013              8\n",
       "4    2013-08-30   Debt collection      ...                2013              8\n",
       "\n",
       "[5 rows x 20 columns]"
      ]
     },
     "execution_count": 7,
     "metadata": {},
     "output_type": "execute_result"
    }
   ],
   "source": [
    "df['date_received'] = pd.to_datetime(df['date_received'])\n",
    "df['year_received'], df['month_received'] = df['date_received'].dt.year, df['date_received'].dt.month\n",
    "df.head()"
   ]
  },
  {
   "cell_type": "code",
   "execution_count": 8,
   "metadata": {
    "_cell_guid": "1b937c5b-4b00-43e3-849e-5d96fdb2aa4e",
    "_kg_hide-input": true,
    "_uuid": "77a94b1169f357fc151c14882887444898f0f444",
    "collapsed": true,
    "jupyter": {
     "outputs_hidden": true
    }
   },
   "outputs": [],
   "source": [
    "# Create a Line Plot by the top 5 companies  by year who had more customer interaction cases (Disputes and No Disputes)\n",
    "sorting_groups = df.groupby(['year_received', 'consumer_disputed?'])['company'].apply(lambda x: x.value_counts())\n",
    "d = {'CRM': sorting_groups}\n",
    "\n",
    "\n",
    "year_crm = pd.DataFrame(data=d).reset_index()\n",
    "year_crm.sort_values(by='CRM', ascending=False)\n",
    "\n",
    "crm_df = year_crm.rename(columns={\"level_2\": \"company\"})\n",
    "\n",
    "# Conditionals Top 5 Companies with dispues (Bank of America, Wells Fargo, JP Morgan, Equifax, CitiBank)\n",
    "boa_disputes = crm_df.loc[(crm_df['company'] == 'Bank of America') & (crm_df['consumer_disputed?'] == 'Yes')]\n",
    "wfc_disputes = crm_df.loc[(crm_df['company'] == 'Wells Fargo & Company') & (crm_df['consumer_disputed?'] == 'Yes')]\n",
    "jp_disputes = crm_df.loc[(crm_df['company'] == 'JPMorgan Chase & Co.') & (crm_df['consumer_disputed?'] == 'Yes')]\n",
    "equi_disputes = crm_df.loc[(crm_df['company'] == 'Equifax') & (crm_df['consumer_disputed?'] == 'Yes')]\n",
    "citi_disputes = crm_df.loc[(crm_df['company'] == 'Citibank') & (crm_df['consumer_disputed?'] == 'Yes')]\n",
    "\n",
    "# Establish the year (Continue Here tomorrow!)\n",
    "years = boa_disputes['year_received'].values.tolist()"
   ]
  },
  {
   "cell_type": "code",
   "execution_count": 9,
   "metadata": {
    "_cell_guid": "9dc8be20-30fd-4b82-a7b7-e46d165e64d3",
    "_uuid": "674a24e49f35d9be2123eb2a11b0290d76b41c30"
   },
   "outputs": [
    {
     "data": {
      "text/html": [
       "<div>\n",
       "<style scoped>\n",
       "    .dataframe tbody tr th:only-of-type {\n",
       "        vertical-align: middle;\n",
       "    }\n",
       "\n",
       "    .dataframe tbody tr th {\n",
       "        vertical-align: top;\n",
       "    }\n",
       "\n",
       "    .dataframe thead th {\n",
       "        text-align: right;\n",
       "    }\n",
       "</style>\n",
       "<table border=\"1\" class=\"dataframe\">\n",
       "  <thead>\n",
       "    <tr style=\"text-align: right;\">\n",
       "      <th></th>\n",
       "      <th>year_received</th>\n",
       "      <th>consumer_disputed?</th>\n",
       "      <th>company</th>\n",
       "      <th>CRM</th>\n",
       "    </tr>\n",
       "  </thead>\n",
       "  <tbody>\n",
       "    <tr>\n",
       "      <th>0</th>\n",
       "      <td>2011</td>\n",
       "      <td>No</td>\n",
       "      <td>Bank of America</td>\n",
       "      <td>432</td>\n",
       "    </tr>\n",
       "    <tr>\n",
       "      <th>1</th>\n",
       "      <td>2011</td>\n",
       "      <td>No</td>\n",
       "      <td>JPMorgan Chase &amp; Co.</td>\n",
       "      <td>298</td>\n",
       "    </tr>\n",
       "    <tr>\n",
       "      <th>2</th>\n",
       "      <td>2011</td>\n",
       "      <td>No</td>\n",
       "      <td>Citibank</td>\n",
       "      <td>255</td>\n",
       "    </tr>\n",
       "    <tr>\n",
       "      <th>3</th>\n",
       "      <td>2011</td>\n",
       "      <td>No</td>\n",
       "      <td>Capital One</td>\n",
       "      <td>201</td>\n",
       "    </tr>\n",
       "    <tr>\n",
       "      <th>4</th>\n",
       "      <td>2011</td>\n",
       "      <td>No</td>\n",
       "      <td>Wells Fargo &amp; Company</td>\n",
       "      <td>170</td>\n",
       "    </tr>\n",
       "  </tbody>\n",
       "</table>\n",
       "</div>"
      ],
      "text/plain": [
       "   year_received consumer_disputed?                company  CRM\n",
       "0           2011                 No        Bank of America  432\n",
       "1           2011                 No   JPMorgan Chase & Co.  298\n",
       "2           2011                 No               Citibank  255\n",
       "3           2011                 No            Capital One  201\n",
       "4           2011                 No  Wells Fargo & Company  170"
      ]
     },
     "execution_count": 9,
     "metadata": {},
     "output_type": "execute_result"
    }
   ],
   "source": [
    "crm_df.head()"
   ]
  },
  {
   "cell_type": "code",
   "execution_count": 10,
   "metadata": {
    "_cell_guid": "f950282d-9e81-4ecf-b45a-95053df17b1b",
    "_kg_hide-input": true,
    "_uuid": "9376d6d354a23b6bdfc7d23d8ead62766bd9c900"
   },
   "outputs": [
    {
     "data": {
      "application/vnd.plotly.v1+json": {
       "data": [
        {
         "fill": "tonexty",
         "hoverinfo": "x+text",
         "line": {
          "color": "rgb(0, 22, 235)",
          "width": 1
         },
         "mode": "lines",
         "name": "Bank of America",
         "text": [
          "154\n Disputes",
          "3756\n Disputes",
          "3581\n Disputes",
          "2294\n Disputes",
          "2185\n Disputes",
          "510\n Disputes"
         ],
         "type": "scatter",
         "x": [
          2011,
          2012,
          2013,
          2014,
          2015,
          2016
         ],
         "y": [
          154,
          3756,
          3581,
          2294,
          2185,
          510
         ]
        },
        {
         "fill": "tonexty",
         "hoverinfo": "x+text",
         "line": {
          "color": "rgb(275, 170, 0)",
          "width": 1
         },
         "mode": "lines",
         "name": "Wells Fargo & Company",
         "text": [
          "89\n Disputes",
          "2430\n Disputes",
          "2518\n Disputes",
          "2077\n Disputes",
          "2108\n Disputes",
          "422\n Disputes"
         ],
         "type": "scatter",
         "x": [
          2011,
          2012,
          2013,
          2014,
          2015,
          2016
         ],
         "y": [
          89,
          2430,
          2518,
          2077,
          2108,
          422
         ]
        },
        {
         "fill": "tonexty",
         "hoverinfo": "x+text",
         "line": {
          "color": "rgb(128, 128, 128)",
          "width": 1
         },
         "mode": "lines",
         "name": "JP Morgan Chase & Co.",
         "text": [
          "76\n Disputes",
          "1540\n Disputes",
          "1836\n Disputes",
          "1805\n Disputes",
          "1940\n Disputes",
          "519\n Disputes"
         ],
         "type": "scatter",
         "x": [
          2011,
          2012,
          2013,
          2014,
          2015,
          2016
         ],
         "y": [
          76,
          1540,
          1836,
          1805,
          1940,
          519
         ]
        },
        {
         "fill": "tonexty",
         "hoverinfo": "x+text",
         "line": {
          "color": "rgb(175, 0, 0)",
          "width": 1
         },
         "mode": "lines",
         "name": "Equifax",
         "text": [
          "136\n Disputes",
          "1092\n Disputes",
          "1922\n Disputes",
          "2671\n Disputes",
          "826\n Disputes"
         ],
         "type": "scatter",
         "x": [
          2011,
          2012,
          2013,
          2014,
          2015,
          2016
         ],
         "y": [
          136,
          1092,
          1922,
          2671,
          826
         ]
        },
        {
         "fill": "tonexty",
         "hoverinfo": "x+text",
         "line": {
          "color": "rgb(0, 215, 215)",
          "width": 1
         },
         "mode": "lines",
         "name": "CitiBank",
         "text": [
          "52\n Disputes",
          "1184\n Disputes",
          "1225\n Disputes",
          "1182\n Disputes",
          "1313\n Disputes",
          "289\n Disputes"
         ],
         "type": "scatter",
         "x": [
          2011,
          2012,
          2013,
          2014,
          2015,
          2016
         ],
         "y": [
          52,
          1184,
          1225,
          1182,
          1313,
          289
         ]
        }
       ],
       "layout": {
        "title": "Number of Disputes <br> (Top 5 Companies)",
        "xaxis": {
         "title": "Year"
        },
        "yaxis": {
         "title": "Number of Disputes"
        }
       }
      },
      "text/html": [
       "<div id=\"77f6a3ce-1390-4016-807e-60439476aed9\" style=\"height: 525px; width: 100%;\" class=\"plotly-graph-div\"></div><script type=\"text/javascript\">require([\"plotly\"], function(Plotly) { window.PLOTLYENV=window.PLOTLYENV || {};window.PLOTLYENV.BASE_URL=\"https://plot.ly\";Plotly.newPlot(\"77f6a3ce-1390-4016-807e-60439476aed9\", [{\"type\": \"scatter\", \"x\": [2011, 2012, 2013, 2014, 2015, 2016], \"y\": [154, 3756, 3581, 2294, 2185, 510], \"text\": [\"154\\n Disputes\", \"3756\\n Disputes\", \"3581\\n Disputes\", \"2294\\n Disputes\", \"2185\\n Disputes\", \"510\\n Disputes\"], \"name\": \"Bank of America\", \"hoverinfo\": \"x+text\", \"mode\": \"lines\", \"line\": {\"width\": 1, \"color\": \"rgb(0, 22, 235)\"}, \"fill\": \"tonexty\"}, {\"type\": \"scatter\", \"x\": [2011, 2012, 2013, 2014, 2015, 2016], \"y\": [89, 2430, 2518, 2077, 2108, 422], \"text\": [\"89\\n Disputes\", \"2430\\n Disputes\", \"2518\\n Disputes\", \"2077\\n Disputes\", \"2108\\n Disputes\", \"422\\n Disputes\"], \"name\": \"Wells Fargo & Company\", \"hoverinfo\": \"x+text\", \"mode\": \"lines\", \"line\": {\"width\": 1, \"color\": \"rgb(275, 170, 0)\"}, \"fill\": \"tonexty\"}, {\"type\": \"scatter\", \"x\": [2011, 2012, 2013, 2014, 2015, 2016], \"y\": [76, 1540, 1836, 1805, 1940, 519], \"text\": [\"76\\n Disputes\", \"1540\\n Disputes\", \"1836\\n Disputes\", \"1805\\n Disputes\", \"1940\\n Disputes\", \"519\\n Disputes\"], \"name\": \"JP Morgan Chase & Co.\", \"hoverinfo\": \"x+text\", \"mode\": \"lines\", \"line\": {\"width\": 1, \"color\": \"rgb(128, 128, 128)\"}, \"fill\": \"tonexty\"}, {\"type\": \"scatter\", \"x\": [2011, 2012, 2013, 2014, 2015, 2016], \"y\": [136, 1092, 1922, 2671, 826], \"text\": [\"136\\n Disputes\", \"1092\\n Disputes\", \"1922\\n Disputes\", \"2671\\n Disputes\", \"826\\n Disputes\"], \"name\": \"Equifax\", \"hoverinfo\": \"x+text\", \"mode\": \"lines\", \"line\": {\"width\": 1, \"color\": \"rgb(175, 0, 0)\"}, \"fill\": \"tonexty\"}, {\"type\": \"scatter\", \"x\": [2011, 2012, 2013, 2014, 2015, 2016], \"y\": [52, 1184, 1225, 1182, 1313, 289], \"text\": [\"52\\n Disputes\", \"1184\\n Disputes\", \"1225\\n Disputes\", \"1182\\n Disputes\", \"1313\\n Disputes\", \"289\\n Disputes\"], \"name\": \"CitiBank\", \"hoverinfo\": \"x+text\", \"mode\": \"lines\", \"line\": {\"width\": 1, \"color\": \"rgb(0, 215, 215)\"}, \"fill\": \"tonexty\"}], {\"title\": \"Number of Disputes <br> (Top 5 Companies)\", \"xaxis\": {\"title\": \"Year\"}, \"yaxis\": {\"title\": \"Number of Disputes\"}}, {\"showLink\": true, \"linkText\": \"Export to plot.ly\"})});</script>"
      ],
      "text/vnd.plotly.v1+html": [
       "<div id=\"77f6a3ce-1390-4016-807e-60439476aed9\" style=\"height: 525px; width: 100%;\" class=\"plotly-graph-div\"></div><script type=\"text/javascript\">require([\"plotly\"], function(Plotly) { window.PLOTLYENV=window.PLOTLYENV || {};window.PLOTLYENV.BASE_URL=\"https://plot.ly\";Plotly.newPlot(\"77f6a3ce-1390-4016-807e-60439476aed9\", [{\"type\": \"scatter\", \"x\": [2011, 2012, 2013, 2014, 2015, 2016], \"y\": [154, 3756, 3581, 2294, 2185, 510], \"text\": [\"154\\n Disputes\", \"3756\\n Disputes\", \"3581\\n Disputes\", \"2294\\n Disputes\", \"2185\\n Disputes\", \"510\\n Disputes\"], \"name\": \"Bank of America\", \"hoverinfo\": \"x+text\", \"mode\": \"lines\", \"line\": {\"width\": 1, \"color\": \"rgb(0, 22, 235)\"}, \"fill\": \"tonexty\"}, {\"type\": \"scatter\", \"x\": [2011, 2012, 2013, 2014, 2015, 2016], \"y\": [89, 2430, 2518, 2077, 2108, 422], \"text\": [\"89\\n Disputes\", \"2430\\n Disputes\", \"2518\\n Disputes\", \"2077\\n Disputes\", \"2108\\n Disputes\", \"422\\n Disputes\"], \"name\": \"Wells Fargo & Company\", \"hoverinfo\": \"x+text\", \"mode\": \"lines\", \"line\": {\"width\": 1, \"color\": \"rgb(275, 170, 0)\"}, \"fill\": \"tonexty\"}, {\"type\": \"scatter\", \"x\": [2011, 2012, 2013, 2014, 2015, 2016], \"y\": [76, 1540, 1836, 1805, 1940, 519], \"text\": [\"76\\n Disputes\", \"1540\\n Disputes\", \"1836\\n Disputes\", \"1805\\n Disputes\", \"1940\\n Disputes\", \"519\\n Disputes\"], \"name\": \"JP Morgan Chase & Co.\", \"hoverinfo\": \"x+text\", \"mode\": \"lines\", \"line\": {\"width\": 1, \"color\": \"rgb(128, 128, 128)\"}, \"fill\": \"tonexty\"}, {\"type\": \"scatter\", \"x\": [2011, 2012, 2013, 2014, 2015, 2016], \"y\": [136, 1092, 1922, 2671, 826], \"text\": [\"136\\n Disputes\", \"1092\\n Disputes\", \"1922\\n Disputes\", \"2671\\n Disputes\", \"826\\n Disputes\"], \"name\": \"Equifax\", \"hoverinfo\": \"x+text\", \"mode\": \"lines\", \"line\": {\"width\": 1, \"color\": \"rgb(175, 0, 0)\"}, \"fill\": \"tonexty\"}, {\"type\": \"scatter\", \"x\": [2011, 2012, 2013, 2014, 2015, 2016], \"y\": [52, 1184, 1225, 1182, 1313, 289], \"text\": [\"52\\n Disputes\", \"1184\\n Disputes\", \"1225\\n Disputes\", \"1182\\n Disputes\", \"1313\\n Disputes\", \"289\\n Disputes\"], \"name\": \"CitiBank\", \"hoverinfo\": \"x+text\", \"mode\": \"lines\", \"line\": {\"width\": 1, \"color\": \"rgb(0, 215, 215)\"}, \"fill\": \"tonexty\"}], {\"title\": \"Number of Disputes <br> (Top 5 Companies)\", \"xaxis\": {\"title\": \"Year\"}, \"yaxis\": {\"title\": \"Number of Disputes\"}}, {\"showLink\": true, \"linkText\": \"Export to plot.ly\"})});</script>"
      ]
     },
     "metadata": {},
     "output_type": "display_data"
    }
   ],
   "source": [
    "# Implementing line chart (top 5 companies with complaints)\n",
    "boa_disputes_amount = boa_disputes['CRM'].values.tolist()\n",
    "wfc_disputes_amount = wfc_disputes['CRM'].values.tolist()\n",
    "jp_disputes_amount = jp_disputes['CRM'].values.tolist()\n",
    "equi_disputes_amount = equi_disputes['CRM'].values.tolist()\n",
    "citi_disputes_amount = citi_disputes['CRM'].values.tolist()\n",
    "\n",
    "# Text to add\n",
    "boa_text = [str(dis) + '\\n Disputes'  for dis in boa_disputes_amount]\n",
    "wfc_text = [str(wfc) + '\\n Disputes'  for wfc in wfc_disputes_amount]\n",
    "jp_text = [str(jp) + '\\n Disputes' for jp in jp_disputes_amount]\n",
    "equi_text = [str(equi) + '\\n Disputes' for equi in equi_disputes_amount]\n",
    "citi_text = [str(citi) + '\\n Disputes' for citi in citi_disputes_amount]\n",
    "\n",
    "boa_disputes_chart = go.Scatter(\n",
    "    x=years,\n",
    "    y=boa_disputes_amount,\n",
    "    text=boa_text,\n",
    "    name='Bank of America', \n",
    "    hoverinfo='x+text',\n",
    "    mode='lines',\n",
    "    line=dict(width=1,\n",
    "             color='rgb(0, 22, 235)',\n",
    "             ),\n",
    "    fill='tonexty'\n",
    ")\n",
    "\n",
    "wfc_disputes_chart = go.Scatter(\n",
    "    x=years,\n",
    "    y=wfc_disputes_amount,\n",
    "    text=wfc_text,\n",
    "    name=\"Wells Fargo & Company\", \n",
    "    hoverinfo='x+text',\n",
    "    mode='lines',\n",
    "    line=dict(width=1,\n",
    "             color='rgb(275, 170, 0)',\n",
    "             ),\n",
    "    fill='tonexty'\n",
    ")\n",
    "\n",
    "\n",
    "jp_disputes_chart = go.Scatter(\n",
    "    x=years,\n",
    "    y=jp_disputes_amount,\n",
    "    text=jp_text,\n",
    "    name='JP Morgan Chase & Co.',\n",
    "    hoverinfo='x+text',\n",
    "    mode='lines',\n",
    "    line=dict(width=1,\n",
    "             color='rgb(128, 128, 128)',\n",
    "             ),\n",
    "    fill='tonexty'\n",
    ")\n",
    "\n",
    "equi_disputes_chart = go.Scatter(\n",
    "    x=years,\n",
    "    y=equi_disputes_amount,\n",
    "    text=equi_text,\n",
    "    name='Equifax',\n",
    "    hoverinfo='x+text',\n",
    "    mode='lines',\n",
    "    line=dict(width=1,\n",
    "             color='rgb(175, 0, 0)',\n",
    "             ),\n",
    "    fill='tonexty'\n",
    ")\n",
    "\n",
    "citi_disputes_chart = go.Scatter(\n",
    "    x=years,\n",
    "    y=citi_disputes_amount,\n",
    "    text=citi_text,\n",
    "    name='CitiBank',\n",
    "    hoverinfo='x+text',\n",
    "    mode='lines',\n",
    "    line=dict(width=1,\n",
    "             color='rgb(0, 215, 215)',\n",
    "             ),\n",
    "    fill='tonexty'\n",
    ")\n",
    "\n",
    "data = [boa_disputes_chart, wfc_disputes_chart, jp_disputes_chart, equi_disputes_chart, citi_disputes_chart]\n",
    "\n",
    "layout = dict(title = 'Number of Disputes <br> (Top 5 Companies)',\n",
    "              xaxis = dict(title = 'Year'),\n",
    "              yaxis = dict(title = 'Number of Disputes')\n",
    "             )\n",
    "\n",
    "\n",
    "fig = dict(data=data, layout=layout)\n",
    "\n",
    "\n",
    "iplot(fig, filename='basic-area-no-bound')"
   ]
  },
  {
   "cell_type": "code",
   "execution_count": 11,
   "metadata": {
    "_cell_guid": "715ad741-2672-496e-9ec5-f64e9ea2c025",
    "_kg_hide-input": true,
    "_uuid": "287460125db983df8bcc3a38197bd9468262d2c3",
    "collapsed": true,
    "jupyter": {
     "outputs_hidden": true
    }
   },
   "outputs": [],
   "source": [
    "# Months with the highest disputes (We will make a barplot)\n",
    "def customerservice_per_month(month, dispute):\n",
    "    result = df.loc[(df['month_received'] == month) & (df['consumer_disputed?'] == dispute)]\n",
    "    return result\n",
    "\n",
    "# Monthly Disputes\n",
    "dis_january = len(customerservice_per_month(month=1, dispute='Yes'))\n",
    "dis_february = len(customerservice_per_month(month=2, dispute='Yes'))\n",
    "dis_march = len(customerservice_per_month(month=3, dispute='Yes'))\n",
    "dis_april = len(customerservice_per_month(month=4, dispute='Yes'))\n",
    "dis_may = len(customerservice_per_month(month=5, dispute='Yes'))\n",
    "dis_june = len(customerservice_per_month(month=6, dispute='Yes'))\n",
    "dis_july = len(customerservice_per_month(month=7, dispute='Yes'))\n",
    "dis_august = len(customerservice_per_month(month=8, dispute='Yes'))\n",
    "dis_september = len(customerservice_per_month(month=9, dispute='Yes'))\n",
    "dis_october = len(customerservice_per_month(month=10, dispute='Yes'))\n",
    "dis_november = len(customerservice_per_month(month=11, dispute='Yes'))\n",
    "dis_december = len(customerservice_per_month(month=12, dispute='Yes'))\n",
    "\n",
    "# Monthly No-Disputes\n",
    "nodis_january = len(customerservice_per_month(month=1, dispute='No'))\n",
    "nodis_february = len(customerservice_per_month(month=2, dispute='No'))\n",
    "nodis_march = len(customerservice_per_month(month=3, dispute='No'))\n",
    "nodis_april = len(customerservice_per_month(month=4, dispute='No'))\n",
    "nodis_may = len(customerservice_per_month(month=5, dispute='No'))\n",
    "nodis_june = len(customerservice_per_month(month=6, dispute='No'))\n",
    "nodis_july = len(customerservice_per_month(month=7, dispute='No'))\n",
    "nodis_august = len(customerservice_per_month(month=8, dispute='No'))\n",
    "nodis_september = len(customerservice_per_month(month=9, dispute='No'))\n",
    "nodis_october = len(customerservice_per_month(month=10, dispute='No'))\n",
    "nodis_november = len(customerservice_per_month(month=11, dispute='No'))\n",
    "nodis_december = len(customerservice_per_month(month=12, dispute='No'))"
   ]
  },
  {
   "cell_type": "code",
   "execution_count": 12,
   "metadata": {
    "_cell_guid": "69c4392b-e717-49ac-b87a-b1b7eaffa6aa",
    "_kg_hide-input": true,
    "_uuid": "063b0650232cac80155b6a42bc039abf6fc58716"
   },
   "outputs": [
    {
     "name": "stdout",
     "output_type": "stream",
     "text": [
      "This is the format of your plot grid:\n",
      "[ (1,1) x1,y1 ]  [ (1,2) x2,y2 ]\n",
      "\n"
     ]
    },
    {
     "data": {
      "application/vnd.plotly.v1+json": {
       "data": [
        {
         "marker": {
          "color": "#FF6464",
          "line": {
           "color": "#CD3232",
           "width": 1.5
          }
         },
         "name": "Disputes",
         "orientation": "h",
         "text": "Disputes",
         "type": "bar",
         "x": [
          10304,
          10011,
          11234,
          9305,
          8672,
          9346,
          9745,
          9435,
          8705,
          8956,
          7912,
          8509
         ],
         "xaxis": "x1",
         "y": [
          "January",
          "February",
          "March",
          "April",
          "May",
          "June",
          "July",
          "August",
          "September",
          "October",
          "November",
          "December"
         ],
         "yaxis": "y1"
        },
        {
         "marker": {
          "color": "#A9FFA9",
          "line": {
           "color": "#59AF59",
           "width": 1.5
          }
         },
         "name": "No Disputes",
         "orientation": "h",
         "text": "No Disputes",
         "type": "bar",
         "x": [
          41809,
          41708,
          48175,
          39681,
          33008,
          33621,
          35658,
          36004,
          33243,
          34848,
          31714,
          34354
         ],
         "xaxis": "x2",
         "y": [
          "January",
          "February",
          "March",
          "April",
          "May",
          "June",
          "July",
          "August",
          "September",
          "October",
          "November",
          "December"
         ],
         "yaxis": "y2"
        }
       ],
       "layout": {
        "annotations": [
         {
          "font": {
           "size": 16
          },
          "showarrow": false,
          "text": "Dispute Chart per Month",
          "x": 0.225,
          "xanchor": "center",
          "xref": "paper",
          "y": 1.0,
          "yanchor": "bottom",
          "yref": "paper"
         },
         {
          "font": {
           "size": 16
          },
          "showarrow": false,
          "text": "No Dispute Chart per Month",
          "x": 0.775,
          "xanchor": "center",
          "xref": "paper",
          "y": 1.0,
          "yanchor": "bottom",
          "yref": "paper"
         }
        ],
        "showlegend": true,
        "title": "Level of Activity by Month",
        "xaxis1": {
         "anchor": "y1",
         "domain": [
          0.0,
          0.45
         ]
        },
        "xaxis2": {
         "anchor": "y2",
         "domain": [
          0.55,
          1.0
         ]
        },
        "yaxis1": {
         "anchor": "x1",
         "domain": [
          0.0,
          1.0
         ]
        },
        "yaxis2": {
         "anchor": "x2",
         "domain": [
          0.0,
          1.0
         ]
        }
       }
      },
      "text/html": [
       "<div id=\"5e0ff970-daf9-4c2a-b3d5-8687b3bc84c9\" style=\"height: 525px; width: 100%;\" class=\"plotly-graph-div\"></div><script type=\"text/javascript\">require([\"plotly\"], function(Plotly) { window.PLOTLYENV=window.PLOTLYENV || {};window.PLOTLYENV.BASE_URL=\"https://plot.ly\";Plotly.newPlot(\"5e0ff970-daf9-4c2a-b3d5-8687b3bc84c9\", [{\"type\": \"bar\", \"y\": [\"January\", \"February\", \"March\", \"April\", \"May\", \"June\", \"July\", \"August\", \"September\", \"October\", \"November\", \"December\"], \"x\": [10304, 10011, 11234, 9305, 8672, 9346, 9745, 9435, 8705, 8956, 7912, 8509], \"orientation\": \"h\", \"name\": \"Disputes\", \"text\": \"Disputes\", \"marker\": {\"color\": \"#FF6464\", \"line\": {\"color\": \"#CD3232\", \"width\": 1.5}}, \"xaxis\": \"x1\", \"yaxis\": \"y1\"}, {\"type\": \"bar\", \"y\": [\"January\", \"February\", \"March\", \"April\", \"May\", \"June\", \"July\", \"August\", \"September\", \"October\", \"November\", \"December\"], \"x\": [41809, 41708, 48175, 39681, 33008, 33621, 35658, 36004, 33243, 34848, 31714, 34354], \"orientation\": \"h\", \"name\": \"No Disputes\", \"text\": \"No Disputes\", \"marker\": {\"color\": \"#A9FFA9\", \"line\": {\"color\": \"#59AF59\", \"width\": 1.5}}, \"xaxis\": \"x2\", \"yaxis\": \"y2\"}], {\"xaxis1\": {\"domain\": [0.0, 0.45], \"anchor\": \"y1\"}, \"yaxis1\": {\"domain\": [0.0, 1.0], \"anchor\": \"x1\"}, \"xaxis2\": {\"domain\": [0.55, 1.0], \"anchor\": \"y2\"}, \"yaxis2\": {\"domain\": [0.0, 1.0], \"anchor\": \"x2\"}, \"annotations\": [{\"y\": 1.0, \"xref\": \"paper\", \"x\": 0.225, \"yref\": \"paper\", \"text\": \"Dispute Chart per Month\", \"showarrow\": false, \"font\": {\"size\": 16}, \"xanchor\": \"center\", \"yanchor\": \"bottom\"}, {\"y\": 1.0, \"xref\": \"paper\", \"x\": 0.775, \"yref\": \"paper\", \"text\": \"No Dispute Chart per Month\", \"showarrow\": false, \"font\": {\"size\": 16}, \"xanchor\": \"center\", \"yanchor\": \"bottom\"}], \"showlegend\": true, \"title\": \"Level of Activity by Month\"}, {\"showLink\": true, \"linkText\": \"Export to plot.ly\"})});</script>"
      ],
      "text/vnd.plotly.v1+html": [
       "<div id=\"5e0ff970-daf9-4c2a-b3d5-8687b3bc84c9\" style=\"height: 525px; width: 100%;\" class=\"plotly-graph-div\"></div><script type=\"text/javascript\">require([\"plotly\"], function(Plotly) { window.PLOTLYENV=window.PLOTLYENV || {};window.PLOTLYENV.BASE_URL=\"https://plot.ly\";Plotly.newPlot(\"5e0ff970-daf9-4c2a-b3d5-8687b3bc84c9\", [{\"type\": \"bar\", \"y\": [\"January\", \"February\", \"March\", \"April\", \"May\", \"June\", \"July\", \"August\", \"September\", \"October\", \"November\", \"December\"], \"x\": [10304, 10011, 11234, 9305, 8672, 9346, 9745, 9435, 8705, 8956, 7912, 8509], \"orientation\": \"h\", \"name\": \"Disputes\", \"text\": \"Disputes\", \"marker\": {\"color\": \"#FF6464\", \"line\": {\"color\": \"#CD3232\", \"width\": 1.5}}, \"xaxis\": \"x1\", \"yaxis\": \"y1\"}, {\"type\": \"bar\", \"y\": [\"January\", \"February\", \"March\", \"April\", \"May\", \"June\", \"July\", \"August\", \"September\", \"October\", \"November\", \"December\"], \"x\": [41809, 41708, 48175, 39681, 33008, 33621, 35658, 36004, 33243, 34848, 31714, 34354], \"orientation\": \"h\", \"name\": \"No Disputes\", \"text\": \"No Disputes\", \"marker\": {\"color\": \"#A9FFA9\", \"line\": {\"color\": \"#59AF59\", \"width\": 1.5}}, \"xaxis\": \"x2\", \"yaxis\": \"y2\"}], {\"xaxis1\": {\"domain\": [0.0, 0.45], \"anchor\": \"y1\"}, \"yaxis1\": {\"domain\": [0.0, 1.0], \"anchor\": \"x1\"}, \"xaxis2\": {\"domain\": [0.55, 1.0], \"anchor\": \"y2\"}, \"yaxis2\": {\"domain\": [0.0, 1.0], \"anchor\": \"x2\"}, \"annotations\": [{\"y\": 1.0, \"xref\": \"paper\", \"x\": 0.225, \"yref\": \"paper\", \"text\": \"Dispute Chart per Month\", \"showarrow\": false, \"font\": {\"size\": 16}, \"xanchor\": \"center\", \"yanchor\": \"bottom\"}, {\"y\": 1.0, \"xref\": \"paper\", \"x\": 0.775, \"yref\": \"paper\", \"text\": \"No Dispute Chart per Month\", \"showarrow\": false, \"font\": {\"size\": 16}, \"xanchor\": \"center\", \"yanchor\": \"bottom\"}], \"showlegend\": true, \"title\": \"Level of Activity by Month\"}, {\"showLink\": true, \"linkText\": \"Export to plot.ly\"})});</script>"
      ]
     },
     "metadata": {},
     "output_type": "display_data"
    }
   ],
   "source": [
    "# Most active months\n",
    "months = ['January', 'February', 'March', 'April', 'May', 'June', 'July', 'August', 'September',\n",
    "         'October', 'November', 'December']\n",
    "disputes_by_month = [dis_january, dis_february, dis_march, dis_april, dis_may, dis_june, dis_july, dis_august, dis_september,\n",
    "                    dis_october, dis_november, dis_december]\n",
    "\n",
    "nodisputes_by_month = [nodis_january, nodis_february, nodis_march, nodis_april, nodis_may, nodis_june, nodis_july, \n",
    "                       nodis_august, nodis_september, nodis_october, nodis_november, nodis_december]\n",
    "\n",
    "\n",
    "disputes_chart = go.Bar(\n",
    "    y=months,\n",
    "    x=disputes_by_month,\n",
    "    orientation='h',\n",
    "    name='Disputes',\n",
    "    text='Disputes',\n",
    "    marker=dict(\n",
    "        color='#FF6464',\n",
    "    line=dict(\n",
    "        color='#CD3232',\n",
    "        width=1.5\n",
    "    ))\n",
    ")\n",
    "\n",
    "nodisputes_chart = go.Bar(\n",
    "    y=months,\n",
    "    x=nodisputes_by_month,\n",
    "    orientation='h',\n",
    "    name='No Disputes',\n",
    "    text='No Disputes',\n",
    "    marker=dict(\n",
    "        color='#A9FFA9',\n",
    "    line=dict(\n",
    "        color='#59AF59',\n",
    "        width=1.5\n",
    "    ))\n",
    ")\n",
    "\n",
    "fig = tls.make_subplots(rows=1, cols=2, specs=[[{}, {}]],\n",
    "                          subplot_titles=('Dispute Chart per Month',\n",
    "                                          'No Dispute Chart per Month'))\n",
    "\n",
    "fig.append_trace(disputes_chart, 1, 1)\n",
    "fig.append_trace(nodisputes_chart, 1, 2)\n",
    "\n",
    "fig['layout'].update(showlegend=True, title=\"Level of Activity by Month\")\n",
    "iplot(fig)"
   ]
  },
  {
   "cell_type": "code",
   "execution_count": 13,
   "metadata": {
    "_cell_guid": "5ec8b028-8da1-4338-92d7-0fad3426a1d7",
    "_kg_hide-input": true,
    "_uuid": "740fb95f7c128656bb2ec95e0f49737c6ebf459b"
   },
   "outputs": [
    {
     "data": {
      "image/png": "[encoded data removed]",
      "text/plain": [
       "<matplotlib.figure.Figure at 0x7c6076cb6fd0>"
      ]
     },
     "metadata": {},
     "output_type": "display_data"
    }
   ],
   "source": [
    "# Time for implementing word cloud\n",
    "stopwords = set(STOPWORDS)\n",
    "\n",
    "# Main Issue in Disputes\n",
    "disputes_issue = df['issue'].loc[df['consumer_disputed?'] == 'Yes']\n",
    "\n",
    "\n",
    "disputed_wordcloud = WordCloud(\n",
    "    background_color='black',\n",
    "    stopwords=stopwords,\n",
    "    max_words=200,\n",
    "    max_font_size=40, \n",
    "    random_state=42\n",
    "    ).generate(str(df['issue'].loc[df['consumer_disputed?'] == 'Yes'])\n",
    ")\n",
    "\n",
    "nodispute_wordcloud = WordCloud(\n",
    "    background_color='black',\n",
    "    stopwords=stopwords,\n",
    "    max_words=200,\n",
    "    max_font_size=40, \n",
    "    random_state=42\n",
    "    ).generate(str(df['issue'].loc[df['consumer_disputed?'] == 'No'])\n",
    ")\n",
    "\n",
    "# Issue wordclouds with and without disputes subplots\n",
    "fig = plt.figure(figsize=(16,8))\n",
    "fig.add_subplot(221)\n",
    "plt.imshow(disputed_wordcloud)\n",
    "plt.title('Main Issues with Disputes', fontsize=16)\n",
    "plt.axis('off')\n",
    "\n",
    "fig.add_subplot(222)\n",
    "plt.imshow(nodispute_wordcloud)\n",
    "plt.title('Main Issues without Disputes', fontsize=16)\n",
    "plt.axis('off')\n",
    "plt.show()"
   ]
  },
  {
   "cell_type": "code",
   "execution_count": 14,
   "metadata": {
    "_cell_guid": "5127ad41-1d39-4818-be41-1bbb666b7ba7",
    "_kg_hide-input": true,
    "_uuid": "b8d0cd8de72c499d687e9c549a72ad57fa2c89ed"
   },
   "outputs": [
    {
     "data": {
      "text/plain": [
       "(-0.5, 399.5, 199.5, -0.5)"
      ]
     },
     "execution_count": 14,
     "metadata": {},
     "output_type": "execute_result"
    },
    {
     "data": {
      "image/png": "[encoded data removed]",
      "text/plain": [
       "<matplotlib.figure.Figure at 0x7c60747cb518>"
      ]
     },
     "metadata": {},
     "output_type": "display_data"
    }
   ],
   "source": [
    "boa_dis = df['issue'].loc[(df['consumer_disputed?'] == 'Yes') & (df['company'] == \"Bank of America\")]\n",
    "wfc_dis = df['issue'].loc[(df['consumer_disputed?'] == 'Yes') & (df['company'] == \"Wells Fargo & Company\")]\n",
    "jpm_dis = df['issue'].loc[(df['consumer_disputed?'] == 'Yes') & (df['company'] == \"JPMorgan Chase & Co.\")] \n",
    "equi_dis = df['issue'].loc[(df['consumer_disputed?'] == 'Yes') & (df['company'] == \"Equifax\")]\n",
    "citi_dis = df['issue'].loc[(df['consumer_disputed?'] == 'Yes') & (df['company'] == \"Citibank\")]\n",
    "\n",
    "\n",
    "# Create Subplots of Wordclouds\n",
    "fig = plt.figure(figsize=(18,12))\n",
    "\n",
    "# First Subplot\n",
    "plt.subplot(3, 2, 1)\n",
    "boa_disputed_wordcloud = WordCloud(\n",
    "    background_color='rgb(195, 36, 36)',\n",
    "    stopwords=stopwords,\n",
    "    max_words=500,\n",
    "    max_font_size=40, \n",
    "    random_state=42\n",
    "    ).generate(str(boa_dis)\n",
    ")\n",
    "\n",
    "plt.imshow(boa_disputed_wordcloud)\n",
    "plt.title('Bank of America Disputes', fontsize=16)\n",
    "plt.axis('off')\n",
    "\n",
    "# Second Subplot\n",
    "plt.subplot(3, 2, 2)\n",
    "wfc_disputed_wordcloud = WordCloud(\n",
    "    background_color='rgb(195, 36, 36)',\n",
    "    stopwords=stopwords,\n",
    "    max_words=500,\n",
    "    max_font_size=40, \n",
    "    random_state=42\n",
    "    ).generate(str(wfc_dis)\n",
    ")\n",
    "\n",
    "plt.imshow(wfc_disputed_wordcloud)\n",
    "plt.title('Wells Fargo & Company Disputes', fontsize=16)\n",
    "plt.axis('off')\n",
    "\n",
    "plt.subplot(3, 2, 3)\n",
    "jpm_disputed_wordcloud = WordCloud(\n",
    "    background_color='rgb(195, 36, 36)',\n",
    "    stopwords=stopwords,\n",
    "    max_words=500,\n",
    "    max_font_size=40, \n",
    "    random_state=42\n",
    "    ).generate(str(jpm_dis)\n",
    ")\n",
    "\n",
    "plt.imshow(jpm_disputed_wordcloud)\n",
    "plt.title('JP Morgan Chase & Co.', fontsize=16)\n",
    "plt.axis('off')\n",
    "\n",
    "\n",
    "plt.subplot(3, 2, 4)\n",
    "equi_disputed_wordcloud = WordCloud(\n",
    "    background_color='rgb(195, 36, 36)',\n",
    "    stopwords=stopwords,\n",
    "    max_words=500,\n",
    "    max_font_size=40, \n",
    "    random_state=42\n",
    "    ).generate(str(equi_dis)\n",
    ")\n",
    "\n",
    "plt.imshow(equi_disputed_wordcloud)\n",
    "plt.title('Equifax', fontsize=16)\n",
    "plt.axis('off')\n",
    "\n",
    "plt.subplot(3, 2, 5)\n",
    "citi_disputed_wordcloud = WordCloud(\n",
    "    background_color='rgb(195, 36, 36)',\n",
    "    stopwords=stopwords,\n",
    "    max_words=500,\n",
    "    max_font_size=40, \n",
    "    random_state=42\n",
    "    ).generate(str(citi_dis)\n",
    ")\n",
    "\n",
    "plt.imshow(citi_disputed_wordcloud)\n",
    "plt.title('CitiBank', fontsize=16)\n",
    "plt.axis('off')"
   ]
  },
  {
   "cell_type": "code",
   "execution_count": 15,
   "metadata": {
    "_kg_hide-input": true,
    "_uuid": "9e419e631243fbc4413d65e279db15004166701a"
   },
   "outputs": [
    {
     "data": {
      "text/html": [
       "<div>\n",
       "<style scoped>\n",
       "    .dataframe tbody tr th:only-of-type {\n",
       "        vertical-align: middle;\n",
       "    }\n",
       "\n",
       "    .dataframe tbody tr th {\n",
       "        vertical-align: top;\n",
       "    }\n",
       "\n",
       "    .dataframe thead th {\n",
       "        text-align: right;\n",
       "    }\n",
       "</style>\n",
       "<table border=\"1\" class=\"dataframe\">\n",
       "  <thead>\n",
       "    <tr style=\"text-align: right;\">\n",
       "      <th></th>\n",
       "      <th>date_received</th>\n",
       "      <th>product</th>\n",
       "      <th>sub_product</th>\n",
       "      <th>issue</th>\n",
       "      <th>sub_issue</th>\n",
       "      <th>consumer_complaint_narrative</th>\n",
       "      <th>company_public_response</th>\n",
       "      <th>company</th>\n",
       "      <th>state</th>\n",
       "      <th>zipcode</th>\n",
       "      <th>tags</th>\n",
       "      <th>consumer_consent_provided</th>\n",
       "      <th>submitted_via</th>\n",
       "      <th>date_sent_to_company</th>\n",
       "      <th>company_response_to_consumer</th>\n",
       "      <th>timely_response</th>\n",
       "      <th>consumer_disputed?</th>\n",
       "      <th>complaint_id</th>\n",
       "      <th>year_received</th>\n",
       "      <th>month_received</th>\n",
       "    </tr>\n",
       "  </thead>\n",
       "  <tbody>\n",
       "    <tr>\n",
       "      <th>0</th>\n",
       "      <td>2013-08-30</td>\n",
       "      <td>Mortgage</td>\n",
       "      <td>Other mortgage</td>\n",
       "      <td>Loan modification,collection,foreclosure</td>\n",
       "      <td>NaN</td>\n",
       "      <td>NaN</td>\n",
       "      <td>NaN</td>\n",
       "      <td>U.S. Bancorp</td>\n",
       "      <td>CA</td>\n",
       "      <td>95993</td>\n",
       "      <td>NaN</td>\n",
       "      <td>NaN</td>\n",
       "      <td>Referral</td>\n",
       "      <td>09/03/2013</td>\n",
       "      <td>Closed with explanation</td>\n",
       "      <td>Yes</td>\n",
       "      <td>Yes</td>\n",
       "      <td>511074</td>\n",
       "      <td>2013</td>\n",
       "      <td>8</td>\n",
       "    </tr>\n",
       "    <tr>\n",
       "      <th>1</th>\n",
       "      <td>2013-08-30</td>\n",
       "      <td>Mortgage</td>\n",
       "      <td>Other mortgage</td>\n",
       "      <td>Loan servicing, payments, escrow account</td>\n",
       "      <td>NaN</td>\n",
       "      <td>NaN</td>\n",
       "      <td>NaN</td>\n",
       "      <td>Wells Fargo &amp; Company</td>\n",
       "      <td>CA</td>\n",
       "      <td>91104</td>\n",
       "      <td>NaN</td>\n",
       "      <td>NaN</td>\n",
       "      <td>Referral</td>\n",
       "      <td>09/03/2013</td>\n",
       "      <td>Closed with explanation</td>\n",
       "      <td>Yes</td>\n",
       "      <td>Yes</td>\n",
       "      <td>511080</td>\n",
       "      <td>2013</td>\n",
       "      <td>8</td>\n",
       "    </tr>\n",
       "    <tr>\n",
       "      <th>2</th>\n",
       "      <td>2013-08-30</td>\n",
       "      <td>Credit reporting</td>\n",
       "      <td>NaN</td>\n",
       "      <td>Incorrect information on credit report</td>\n",
       "      <td>Account status</td>\n",
       "      <td>NaN</td>\n",
       "      <td>NaN</td>\n",
       "      <td>Wells Fargo &amp; Company</td>\n",
       "      <td>NY</td>\n",
       "      <td>11764</td>\n",
       "      <td>NaN</td>\n",
       "      <td>NaN</td>\n",
       "      <td>Postal mail</td>\n",
       "      <td>09/18/2013</td>\n",
       "      <td>Closed with explanation</td>\n",
       "      <td>Yes</td>\n",
       "      <td>No</td>\n",
       "      <td>510473</td>\n",
       "      <td>2013</td>\n",
       "      <td>8</td>\n",
       "    </tr>\n",
       "    <tr>\n",
       "      <th>3</th>\n",
       "      <td>2013-08-30</td>\n",
       "      <td>Student loan</td>\n",
       "      <td>Non-federal student loan</td>\n",
       "      <td>Repaying your loan</td>\n",
       "      <td>Repaying your loan</td>\n",
       "      <td>NaN</td>\n",
       "      <td>NaN</td>\n",
       "      <td>Navient Solutions, Inc.</td>\n",
       "      <td>MD</td>\n",
       "      <td>21402</td>\n",
       "      <td>NaN</td>\n",
       "      <td>NaN</td>\n",
       "      <td>Email</td>\n",
       "      <td>08/30/2013</td>\n",
       "      <td>Closed with explanation</td>\n",
       "      <td>Yes</td>\n",
       "      <td>Yes</td>\n",
       "      <td>510326</td>\n",
       "      <td>2013</td>\n",
       "      <td>8</td>\n",
       "    </tr>\n",
       "    <tr>\n",
       "      <th>4</th>\n",
       "      <td>2013-08-30</td>\n",
       "      <td>Debt collection</td>\n",
       "      <td>Credit card</td>\n",
       "      <td>False statements or representation</td>\n",
       "      <td>Attempted to collect wrong amount</td>\n",
       "      <td>NaN</td>\n",
       "      <td>NaN</td>\n",
       "      <td>Resurgent Capital Services L.P.</td>\n",
       "      <td>GA</td>\n",
       "      <td>30106</td>\n",
       "      <td>NaN</td>\n",
       "      <td>NaN</td>\n",
       "      <td>Web</td>\n",
       "      <td>08/30/2013</td>\n",
       "      <td>Closed with explanation</td>\n",
       "      <td>Yes</td>\n",
       "      <td>Yes</td>\n",
       "      <td>511067</td>\n",
       "      <td>2013</td>\n",
       "      <td>8</td>\n",
       "    </tr>\n",
       "  </tbody>\n",
       "</table>\n",
       "</div>"
      ],
      "text/plain": [
       "  date_received           product      ...       year_received month_received\n",
       "0    2013-08-30          Mortgage      ...                2013              8\n",
       "1    2013-08-30          Mortgage      ...                2013              8\n",
       "2    2013-08-30  Credit reporting      ...                2013              8\n",
       "3    2013-08-30      Student loan      ...                2013              8\n",
       "4    2013-08-30   Debt collection      ...                2013              8\n",
       "\n",
       "[5 rows x 20 columns]"
      ]
     },
     "execution_count": 15,
     "metadata": {},
     "output_type": "execute_result"
    }
   ],
   "source": [
    "df.head()"
   ]
  },
  {
   "cell_type": "code",
   "execution_count": 16,
   "metadata": {
    "_kg_hide-input": true,
    "_uuid": "98a7c877bb1252ba780855b1177be07719082b60",
    "collapsed": true,
    "jupyter": {
     "outputs_hidden": true
    }
   },
   "outputs": [],
   "source": [
    "dispute_presence = df.loc[df['consumer_disputed?'] == 'Yes']\n",
    "cross_month = pd.crosstab(dispute_presence['state'], dispute_presence['company']).apply(lambda x: x/x.sum() * 100)"
   ]
  },
  {
   "cell_type": "code",
   "execution_count": 17,
   "metadata": {
    "_kg_hide-input": true,
    "_uuid": "9e376b6534662386e649457320db9329ab47f2a0"
   },
   "outputs": [
    {
     "data": {
      "application/vnd.plotly.v1+json": {
       "data": [
        {
         "autocolorscale": false,
         "colorbar": {
          "title": "%"
         },
         "colorscale": [
          [
           0.0,
           "rgb(202, 202, 202)"
          ],
          [
           0.2,
           "rgb(253, 205, 200)"
          ],
          [
           0.4,
           "rgb(252, 169, 161)"
          ],
          [
           0.6,
           "rgb(247, 121, 108  )"
          ],
          [
           0.8,
           "rgb(255, 39, 39)"
          ],
          [
           1.0,
           "rgb(219, 0, 0)"
          ]
         ],
         "locationmode": "USA-states",
         "locations": [
          "CA",
          "FL",
          "NY",
          "TX",
          "GA",
          "NJ",
          "MD",
          "VA",
          "MI",
          "IL",
          "NC",
          "PA",
          "AZ",
          "MA",
          "WA",
          "OH",
          "CO",
          "OR",
          "MO",
          "TN",
          "CT",
          "NV",
          "WI",
          "MN",
          "SC",
          "NH",
          "IN",
          "AL",
          "HI",
          "LA",
          "ME",
          "DE",
          "KY",
          "DC",
          "KS",
          "UT",
          "OK",
          "MS",
          "NM",
          "AR",
          "ID",
          "RI",
          "NE",
          "IA",
          "VT",
          "WV",
          "AK",
          "MT",
          "SD",
          "PR",
          "WY",
          "AE",
          "AP",
          "ND",
          "MP",
          "VI",
          "GU",
          "AS",
          "PW",
          "MH",
          "FM",
          "AA"
         ],
         "marker": {
          "line": {
           "color": "rgb(255,255,255)",
           "width": 2
          }
         },
         "text": [
          "State Code: CA<br>",
          "State Code: FL<br>",
          "State Code: NY<br>",
          "State Code: TX<br>",
          "State Code: GA<br>",
          "State Code: NJ<br>",
          "State Code: MD<br>",
          "State Code: VA<br>",
          "State Code: MI<br>",
          "State Code: IL<br>",
          "State Code: NC<br>",
          "State Code: PA<br>",
          "State Code: AZ<br>",
          "State Code: MA<br>",
          "State Code: WA<br>",
          "State Code: OH<br>",
          "State Code: CO<br>",
          "State Code: OR<br>",
          "State Code: MO<br>",
          "State Code: TN<br>",
          "State Code: CT<br>",
          "State Code: NV<br>",
          "State Code: WI<br>",
          "State Code: MN<br>",
          "State Code: SC<br>",
          "State Code: NH<br>",
          "State Code: IN<br>",
          "State Code: AL<br>",
          "State Code: HI<br>",
          "State Code: LA<br>",
          "State Code: ME<br>",
          "State Code: DE<br>",
          "State Code: KY<br>",
          "State Code: DC<br>",
          "State Code: KS<br>",
          "State Code: UT<br>",
          "State Code: OK<br>",
          "State Code: MS<br>",
          "State Code: NM<br>",
          "State Code: AR<br>",
          "State Code: ID<br>",
          "State Code: RI<br>",
          "State Code: NE<br>",
          "State Code: IA<br>",
          "State Code: VT<br>",
          "State Code: WV<br>",
          "State Code: AK<br>",
          "State Code: MT<br>",
          "State Code: SD<br>",
          "State Code: PR<br>",
          "State Code: WY<br>",
          "State Code: AE<br>",
          "State Code: AP<br>",
          "State Code: ND<br>",
          "State Code: MP<br>",
          "State Code: VI<br>",
          "State Code: GU<br>",
          "State Code: AS<br>",
          "State Code: PW<br>",
          "State Code: MH<br>",
          "State Code: FM<br>",
          "State Code: AA<br>"
         ],
         "type": "choropleth",
         "z": [
          "20.22",
          "11.0",
          "5.78",
          "5.33",
          "4.82",
          "3.89",
          "3.86",
          "3.54",
          "2.91",
          "2.9",
          "2.82",
          "2.6",
          "2.56",
          "2.55",
          "2.48",
          "1.99",
          "1.63",
          "1.58",
          "1.47",
          "1.41",
          "1.29",
          "1.21",
          "1.01",
          "0.92",
          "0.9",
          "0.76",
          "0.66",
          "0.61",
          "0.57",
          "0.51",
          "0.49",
          "0.49",
          "0.49",
          "0.48",
          "0.48",
          "0.44",
          "0.44",
          "0.4",
          "0.38",
          "0.36",
          "0.32",
          "0.31",
          "0.18",
          "0.18",
          "0.18",
          "0.14",
          "0.11",
          "0.09",
          "0.08",
          "0.05",
          "0.04",
          "0.04",
          "0.02",
          "0.01",
          "0.01",
          "0.01",
          "0.01",
          "0.01",
          "0.0",
          "0.0",
          "0.0",
          "0.0"
         ]
        }
       ],
       "layout": {
        "geo": {
         "lakecolor": "rgb(255, 255, 255)",
         "projection": {
          "type": "albers usa"
         },
         "scope": "usa",
         "showlakes": true
        },
        "title": "Most Complaints by State <br> Bank of America"
       }
      },
      "text/html": [
       "<div id=\"99318e89-c9c3-425c-8032-9be756008776\" style=\"height: 525px; width: 100%;\" class=\"plotly-graph-div\"></div><script type=\"text/javascript\">require([\"plotly\"], function(Plotly) { window.PLOTLYENV=window.PLOTLYENV || {};window.PLOTLYENV.BASE_URL=\"https://plot.ly\";Plotly.newPlot(\"99318e89-c9c3-425c-8032-9be756008776\", [{\"type\": \"choropleth\", \"colorscale\": [[0.0, \"rgb(202, 202, 202)\"], [0.2, \"rgb(253, 205, 200)\"], [0.4, \"rgb(252, 169, 161)\"], [0.6, \"rgb(247, 121, 108  )\"], [0.8, \"rgb(255, 39, 39)\"], [1.0, \"rgb(219, 0, 0)\"]], \"autocolorscale\": false, \"locations\": [\"CA\", \"FL\", \"NY\", \"TX\", \"GA\", \"NJ\", \"MD\", \"VA\", \"MI\", \"IL\", \"NC\", \"PA\", \"AZ\", \"MA\", \"WA\", \"OH\", \"CO\", \"OR\", \"MO\", \"TN\", \"CT\", \"NV\", \"WI\", \"MN\", \"SC\", \"NH\", \"IN\", \"AL\", \"HI\", \"LA\", \"ME\", \"DE\", \"KY\", \"DC\", \"KS\", \"UT\", \"OK\", \"MS\", \"NM\", \"AR\", \"ID\", \"RI\", \"NE\", \"IA\", \"VT\", \"WV\", \"AK\", \"MT\", \"SD\", \"PR\", \"WY\", \"AE\", \"AP\", \"ND\", \"MP\", \"VI\", \"GU\", \"AS\", \"PW\", \"MH\", \"FM\", \"AA\"], \"z\": [\"20.22\", \"11.0\", \"5.78\", \"5.33\", \"4.82\", \"3.89\", \"3.86\", \"3.54\", \"2.91\", \"2.9\", \"2.82\", \"2.6\", \"2.56\", \"2.55\", \"2.48\", \"1.99\", \"1.63\", \"1.58\", \"1.47\", \"1.41\", \"1.29\", \"1.21\", \"1.01\", \"0.92\", \"0.9\", \"0.76\", \"0.66\", \"0.61\", \"0.57\", \"0.51\", \"0.49\", \"0.49\", \"0.49\", \"0.48\", \"0.48\", \"0.44\", \"0.44\", \"0.4\", \"0.38\", \"0.36\", \"0.32\", \"0.31\", \"0.18\", \"0.18\", \"0.18\", \"0.14\", \"0.11\", \"0.09\", \"0.08\", \"0.05\", \"0.04\", \"0.04\", \"0.02\", \"0.01\", \"0.01\", \"0.01\", \"0.01\", \"0.01\", \"0.0\", \"0.0\", \"0.0\", \"0.0\"], \"locationmode\": \"USA-states\", \"text\": [\"State Code: CA<br>\", \"State Code: FL<br>\", \"State Code: NY<br>\", \"State Code: TX<br>\", \"State Code: GA<br>\", \"State Code: NJ<br>\", \"State Code: MD<br>\", \"State Code: VA<br>\", \"State Code: MI<br>\", \"State Code: IL<br>\", \"State Code: NC<br>\", \"State Code: PA<br>\", \"State Code: AZ<br>\", \"State Code: MA<br>\", \"State Code: WA<br>\", \"State Code: OH<br>\", \"State Code: CO<br>\", \"State Code: OR<br>\", \"State Code: MO<br>\", \"State Code: TN<br>\", \"State Code: CT<br>\", \"State Code: NV<br>\", \"State Code: WI<br>\", \"State Code: MN<br>\", \"State Code: SC<br>\", \"State Code: NH<br>\", \"State Code: IN<br>\", \"State Code: AL<br>\", \"State Code: HI<br>\", \"State Code: LA<br>\", \"State Code: ME<br>\", \"State Code: DE<br>\", \"State Code: KY<br>\", \"State Code: DC<br>\", \"State Code: KS<br>\", \"State Code: UT<br>\", \"State Code: OK<br>\", \"State Code: MS<br>\", \"State Code: NM<br>\", \"State Code: AR<br>\", \"State Code: ID<br>\", \"State Code: RI<br>\", \"State Code: NE<br>\", \"State Code: IA<br>\", \"State Code: VT<br>\", \"State Code: WV<br>\", \"State Code: AK<br>\", \"State Code: MT<br>\", \"State Code: SD<br>\", \"State Code: PR<br>\", \"State Code: WY<br>\", \"State Code: AE<br>\", \"State Code: AP<br>\", \"State Code: ND<br>\", \"State Code: MP<br>\", \"State Code: VI<br>\", \"State Code: GU<br>\", \"State Code: AS<br>\", \"State Code: PW<br>\", \"State Code: MH<br>\", \"State Code: FM<br>\", \"State Code: AA<br>\"], \"marker\": {\"line\": {\"color\": \"rgb(255,255,255)\", \"width\": 2}}, \"colorbar\": {\"title\": \"%\"}}], {\"title\": \"Most Complaints by State <br> Bank of America\", \"geo\": {\"scope\": \"usa\", \"projection\": {\"type\": \"albers usa\"}, \"showlakes\": true, \"lakecolor\": \"rgb(255, 255, 255)\"}}, {\"showLink\": true, \"linkText\": \"Export to plot.ly\"})});</script>"
      ],
      "text/vnd.plotly.v1+html": [
       "<div id=\"99318e89-c9c3-425c-8032-9be756008776\" style=\"height: 525px; width: 100%;\" class=\"plotly-graph-div\"></div><script type=\"text/javascript\">require([\"plotly\"], function(Plotly) { window.PLOTLYENV=window.PLOTLYENV || {};window.PLOTLYENV.BASE_URL=\"https://plot.ly\";Plotly.newPlot(\"99318e89-c9c3-425c-8032-9be756008776\", [{\"type\": \"choropleth\", \"colorscale\": [[0.0, \"rgb(202, 202, 202)\"], [0.2, \"rgb(253, 205, 200)\"], [0.4, \"rgb(252, 169, 161)\"], [0.6, \"rgb(247, 121, 108  )\"], [0.8, \"rgb(255, 39, 39)\"], [1.0, \"rgb(219, 0, 0)\"]], \"autocolorscale\": false, \"locations\": [\"CA\", \"FL\", \"NY\", \"TX\", \"GA\", \"NJ\", \"MD\", \"VA\", \"MI\", \"IL\", \"NC\", \"PA\", \"AZ\", \"MA\", \"WA\", \"OH\", \"CO\", \"OR\", \"MO\", \"TN\", \"CT\", \"NV\", \"WI\", \"MN\", \"SC\", \"NH\", \"IN\", \"AL\", \"HI\", \"LA\", \"ME\", \"DE\", \"KY\", \"DC\", \"KS\", \"UT\", \"OK\", \"MS\", \"NM\", \"AR\", \"ID\", \"RI\", \"NE\", \"IA\", \"VT\", \"WV\", \"AK\", \"MT\", \"SD\", \"PR\", \"WY\", \"AE\", \"AP\", \"ND\", \"MP\", \"VI\", \"GU\", \"AS\", \"PW\", \"MH\", \"FM\", \"AA\"], \"z\": [\"20.22\", \"11.0\", \"5.78\", \"5.33\", \"4.82\", \"3.89\", \"3.86\", \"3.54\", \"2.91\", \"2.9\", \"2.82\", \"2.6\", \"2.56\", \"2.55\", \"2.48\", \"1.99\", \"1.63\", \"1.58\", \"1.47\", \"1.41\", \"1.29\", \"1.21\", \"1.01\", \"0.92\", \"0.9\", \"0.76\", \"0.66\", \"0.61\", \"0.57\", \"0.51\", \"0.49\", \"0.49\", \"0.49\", \"0.48\", \"0.48\", \"0.44\", \"0.44\", \"0.4\", \"0.38\", \"0.36\", \"0.32\", \"0.31\", \"0.18\", \"0.18\", \"0.18\", \"0.14\", \"0.11\", \"0.09\", \"0.08\", \"0.05\", \"0.04\", \"0.04\", \"0.02\", \"0.01\", \"0.01\", \"0.01\", \"0.01\", \"0.01\", \"0.0\", \"0.0\", \"0.0\", \"0.0\"], \"locationmode\": \"USA-states\", \"text\": [\"State Code: CA<br>\", \"State Code: FL<br>\", \"State Code: NY<br>\", \"State Code: TX<br>\", \"State Code: GA<br>\", \"State Code: NJ<br>\", \"State Code: MD<br>\", \"State Code: VA<br>\", \"State Code: MI<br>\", \"State Code: IL<br>\", \"State Code: NC<br>\", \"State Code: PA<br>\", \"State Code: AZ<br>\", \"State Code: MA<br>\", \"State Code: WA<br>\", \"State Code: OH<br>\", \"State Code: CO<br>\", \"State Code: OR<br>\", \"State Code: MO<br>\", \"State Code: TN<br>\", \"State Code: CT<br>\", \"State Code: NV<br>\", \"State Code: WI<br>\", \"State Code: MN<br>\", \"State Code: SC<br>\", \"State Code: NH<br>\", \"State Code: IN<br>\", \"State Code: AL<br>\", \"State Code: HI<br>\", \"State Code: LA<br>\", \"State Code: ME<br>\", \"State Code: DE<br>\", \"State Code: KY<br>\", \"State Code: DC<br>\", \"State Code: KS<br>\", \"State Code: UT<br>\", \"State Code: OK<br>\", \"State Code: MS<br>\", \"State Code: NM<br>\", \"State Code: AR<br>\", \"State Code: ID<br>\", \"State Code: RI<br>\", \"State Code: NE<br>\", \"State Code: IA<br>\", \"State Code: VT<br>\", \"State Code: WV<br>\", \"State Code: AK<br>\", \"State Code: MT<br>\", \"State Code: SD<br>\", \"State Code: PR<br>\", \"State Code: WY<br>\", \"State Code: AE<br>\", \"State Code: AP<br>\", \"State Code: ND<br>\", \"State Code: MP<br>\", \"State Code: VI<br>\", \"State Code: GU<br>\", \"State Code: AS<br>\", \"State Code: PW<br>\", \"State Code: MH<br>\", \"State Code: FM<br>\", \"State Code: AA<br>\"], \"marker\": {\"line\": {\"color\": \"rgb(255,255,255)\", \"width\": 2}}, \"colorbar\": {\"title\": \"%\"}}], {\"title\": \"Most Complaints by State <br> Bank of America\", \"geo\": {\"scope\": \"usa\", \"projection\": {\"type\": \"albers usa\"}, \"showlakes\": true, \"lakecolor\": \"rgb(255, 255, 255)\"}}, {\"showLink\": true, \"linkText\": \"Export to plot.ly\"})});</script>"
      ]
     },
     "metadata": {},
     "output_type": "display_data"
    }
   ],
   "source": [
    "#  Share of Most disputes for Bank of America.\n",
    "df_boa = pd.DataFrame(cross_month['Bank of America']).reset_index().sort_values(by=\"Bank of America\", ascending=False).round(2)\n",
    "df_boa = df_boa.rename(columns={'Bank of America': 'share of complaints'})\n",
    "\n",
    "for col in df_boa.columns:\n",
    "    df_boa[col] = df_boa[col].astype(str)\n",
    "    \n",
    "    \n",
    "scl = [[0.0, 'rgb(202, 202, 202)'],[0.2, 'rgb(253, 205, 200)'],[0.4, 'rgb(252, 169, 161)'],\n",
    "            [0.6, 'rgb(247, 121, 108  )'],[0.8, 'rgb(255, 39, 39)'],[1.0, 'rgb(219, 0, 0)']]\n",
    "\n",
    "\n",
    "df_boa['text'] = \"State Code: \" + df_boa['state'] + '<br>'\n",
    "\n",
    "\n",
    "data = [ dict(\n",
    "        type='choropleth',\n",
    "        colorscale = scl,\n",
    "        autocolorscale = False,\n",
    "        locations = df_boa['state'],\n",
    "        z = df_boa['share of complaints'], \n",
    "        locationmode = 'USA-states',\n",
    "        text = df_boa['text'],\n",
    "        marker = dict(\n",
    "            line = dict (\n",
    "                color = 'rgb(255,255,255)',\n",
    "                width = 2\n",
    "            ) ),\n",
    "        colorbar = dict(\n",
    "            title = \"%\")\n",
    "        ) ]\n",
    "\n",
    "layout = dict(\n",
    "    title = 'Most Complaints by State <br> Bank of America',\n",
    "    geo = dict(\n",
    "        scope = 'usa',\n",
    "        projection=dict(type='albers usa'),\n",
    "        showlakes = True,\n",
    "        lakecolor = 'rgb(255, 255, 255)')\n",
    ")\n",
    "\n",
    "fig = dict(data=data, layout=layout)\n",
    "iplot(fig, filename='d3-cloropleth-map')"
   ]
  },
  {
   "cell_type": "code",
   "execution_count": 18,
   "metadata": {
    "_kg_hide-input": true,
    "_uuid": "9278b212bcc6a3181f30f3b5e14a14317f6ddbba"
   },
   "outputs": [
    {
     "data": {
      "application/vnd.plotly.v1+json": {
       "data": [
        {
         "autocolorscale": false,
         "colorbar": {
          "title": "%"
         },
         "colorscale": [
          [
           0.0,
           "rgb(202, 202, 202)"
          ],
          [
           0.2,
           "rgb(253, 205, 200)"
          ],
          [
           0.4,
           "rgb(252, 169, 161)"
          ],
          [
           0.6,
           "rgb(247, 121, 108  )"
          ],
          [
           0.8,
           "rgb(255, 39, 39)"
          ],
          [
           1.0,
           "rgb(219, 0, 0)"
          ]
         ],
         "locationmode": "USA-states",
         "locations": [
          "CA",
          "FL",
          "TX",
          "NJ",
          "NY",
          "GA",
          "MD",
          "NC",
          "VA",
          "PA",
          "AZ",
          "IL",
          "WA",
          "CO",
          "MN",
          "OH",
          "OR",
          "NV",
          "SC",
          "CT",
          "MI",
          "MA",
          "WI",
          "AL",
          "TN",
          "MO",
          "IN",
          "IA",
          "DE",
          "UT",
          "DC",
          "NE",
          "NM",
          "LA",
          "OK",
          "ID",
          "NH",
          "KY",
          "MS",
          "KS",
          "HI",
          "AR",
          "ME",
          "MT",
          "AK",
          "RI",
          "SD",
          "ND",
          "VT",
          "WV",
          "WY",
          "PR",
          "AP",
          "MH",
          "MP",
          "AE",
          "GU",
          "AA",
          "PW",
          "VI",
          "FM",
          "AS"
         ],
         "marker": {
          "line": {
           "color": "rgb(255,255,255)",
           "width": 2
          }
         },
         "text": [
          "State Code: CA<br>",
          "State Code: FL<br>",
          "State Code: TX<br>",
          "State Code: NJ<br>",
          "State Code: NY<br>",
          "State Code: GA<br>",
          "State Code: MD<br>",
          "State Code: NC<br>",
          "State Code: VA<br>",
          "State Code: PA<br>",
          "State Code: AZ<br>",
          "State Code: IL<br>",
          "State Code: WA<br>",
          "State Code: CO<br>",
          "State Code: MN<br>",
          "State Code: OH<br>",
          "State Code: OR<br>",
          "State Code: NV<br>",
          "State Code: SC<br>",
          "State Code: CT<br>",
          "State Code: MI<br>",
          "State Code: MA<br>",
          "State Code: WI<br>",
          "State Code: AL<br>",
          "State Code: TN<br>",
          "State Code: MO<br>",
          "State Code: IN<br>",
          "State Code: IA<br>",
          "State Code: DE<br>",
          "State Code: UT<br>",
          "State Code: DC<br>",
          "State Code: NE<br>",
          "State Code: NM<br>",
          "State Code: LA<br>",
          "State Code: OK<br>",
          "State Code: ID<br>",
          "State Code: NH<br>",
          "State Code: KY<br>",
          "State Code: MS<br>",
          "State Code: KS<br>",
          "State Code: HI<br>",
          "State Code: AR<br>",
          "State Code: ME<br>",
          "State Code: MT<br>",
          "State Code: AK<br>",
          "State Code: RI<br>",
          "State Code: SD<br>",
          "State Code: ND<br>",
          "State Code: VT<br>",
          "State Code: WV<br>",
          "State Code: WY<br>",
          "State Code: PR<br>",
          "State Code: AP<br>",
          "State Code: MH<br>",
          "State Code: MP<br>",
          "State Code: AE<br>",
          "State Code: GU<br>",
          "State Code: AA<br>",
          "State Code: PW<br>",
          "State Code: VI<br>",
          "State Code: FM<br>",
          "State Code: AS<br>"
         ],
         "type": "choropleth",
         "z": [
          "20.88",
          "9.86",
          "5.67",
          "5.32",
          "5.29",
          "4.54",
          "3.92",
          "3.87",
          "3.49",
          "3.48",
          "2.59",
          "2.41",
          "2.13",
          "1.96",
          "1.93",
          "1.89",
          "1.52",
          "1.38",
          "1.35",
          "1.26",
          "1.25",
          "1.19",
          "1.12",
          "1.07",
          "0.84",
          "0.83",
          "0.69",
          "0.63",
          "0.59",
          "0.57",
          "0.56",
          "0.52",
          "0.52",
          "0.47",
          "0.41",
          "0.4",
          "0.38",
          "0.35",
          "0.3",
          "0.3",
          "0.27",
          "0.26",
          "0.24",
          "0.24",
          "0.23",
          "0.22",
          "0.16",
          "0.13",
          "0.12",
          "0.12",
          "0.1",
          "0.06",
          "0.04",
          "0.02",
          "0.01",
          "0.01",
          "0.01",
          "0.01",
          "0.0",
          "0.0",
          "0.0",
          "0.0"
         ]
        }
       ],
       "layout": {
        "geo": {
         "lakecolor": "rgb(255, 255, 255)",
         "projection": {
          "type": "albers usa"
         },
         "scope": "usa",
         "showlakes": true
        },
        "title": "Most Complaints by State <br> Wells Fargo & Company"
       }
      },
      "text/html": [
       "<div id=\"7aa4864c-1973-4f7e-928a-216110b1ecce\" style=\"height: 525px; width: 100%;\" class=\"plotly-graph-div\"></div><script type=\"text/javascript\">require([\"plotly\"], function(Plotly) { window.PLOTLYENV=window.PLOTLYENV || {};window.PLOTLYENV.BASE_URL=\"https://plot.ly\";Plotly.newPlot(\"7aa4864c-1973-4f7e-928a-216110b1ecce\", [{\"type\": \"choropleth\", \"colorscale\": [[0.0, \"rgb(202, 202, 202)\"], [0.2, \"rgb(253, 205, 200)\"], [0.4, \"rgb(252, 169, 161)\"], [0.6, \"rgb(247, 121, 108  )\"], [0.8, \"rgb(255, 39, 39)\"], [1.0, \"rgb(219, 0, 0)\"]], \"autocolorscale\": false, \"locations\": [\"CA\", \"FL\", \"TX\", \"NJ\", \"NY\", \"GA\", \"MD\", \"NC\", \"VA\", \"PA\", \"AZ\", \"IL\", \"WA\", \"CO\", \"MN\", \"OH\", \"OR\", \"NV\", \"SC\", \"CT\", \"MI\", \"MA\", \"WI\", \"AL\", \"TN\", \"MO\", \"IN\", \"IA\", \"DE\", \"UT\", \"DC\", \"NE\", \"NM\", \"LA\", \"OK\", \"ID\", \"NH\", \"KY\", \"MS\", \"KS\", \"HI\", \"AR\", \"ME\", \"MT\", \"AK\", \"RI\", \"SD\", \"ND\", \"VT\", \"WV\", \"WY\", \"PR\", \"AP\", \"MH\", \"MP\", \"AE\", \"GU\", \"AA\", \"PW\", \"VI\", \"FM\", \"AS\"], \"z\": [\"20.88\", \"9.86\", \"5.67\", \"5.32\", \"5.29\", \"4.54\", \"3.92\", \"3.87\", \"3.49\", \"3.48\", \"2.59\", \"2.41\", \"2.13\", \"1.96\", \"1.93\", \"1.89\", \"1.52\", \"1.38\", \"1.35\", \"1.26\", \"1.25\", \"1.19\", \"1.12\", \"1.07\", \"0.84\", \"0.83\", \"0.69\", \"0.63\", \"0.59\", \"0.57\", \"0.56\", \"0.52\", \"0.52\", \"0.47\", \"0.41\", \"0.4\", \"0.38\", \"0.35\", \"0.3\", \"0.3\", \"0.27\", \"0.26\", \"0.24\", \"0.24\", \"0.23\", \"0.22\", \"0.16\", \"0.13\", \"0.12\", \"0.12\", \"0.1\", \"0.06\", \"0.04\", \"0.02\", \"0.01\", \"0.01\", \"0.01\", \"0.01\", \"0.0\", \"0.0\", \"0.0\", \"0.0\"], \"locationmode\": \"USA-states\", \"text\": [\"State Code: CA<br>\", \"State Code: FL<br>\", \"State Code: TX<br>\", \"State Code: NJ<br>\", \"State Code: NY<br>\", \"State Code: GA<br>\", \"State Code: MD<br>\", \"State Code: NC<br>\", \"State Code: VA<br>\", \"State Code: PA<br>\", \"State Code: AZ<br>\", \"State Code: IL<br>\", \"State Code: WA<br>\", \"State Code: CO<br>\", \"State Code: MN<br>\", \"State Code: OH<br>\", \"State Code: OR<br>\", \"State Code: NV<br>\", \"State Code: SC<br>\", \"State Code: CT<br>\", \"State Code: MI<br>\", \"State Code: MA<br>\", \"State Code: WI<br>\", \"State Code: AL<br>\", \"State Code: TN<br>\", \"State Code: MO<br>\", \"State Code: IN<br>\", \"State Code: IA<br>\", \"State Code: DE<br>\", \"State Code: UT<br>\", \"State Code: DC<br>\", \"State Code: NE<br>\", \"State Code: NM<br>\", \"State Code: LA<br>\", \"State Code: OK<br>\", \"State Code: ID<br>\", \"State Code: NH<br>\", \"State Code: KY<br>\", \"State Code: MS<br>\", \"State Code: KS<br>\", \"State Code: HI<br>\", \"State Code: AR<br>\", \"State Code: ME<br>\", \"State Code: MT<br>\", \"State Code: AK<br>\", \"State Code: RI<br>\", \"State Code: SD<br>\", \"State Code: ND<br>\", \"State Code: VT<br>\", \"State Code: WV<br>\", \"State Code: WY<br>\", \"State Code: PR<br>\", \"State Code: AP<br>\", \"State Code: MH<br>\", \"State Code: MP<br>\", \"State Code: AE<br>\", \"State Code: GU<br>\", \"State Code: AA<br>\", \"State Code: PW<br>\", \"State Code: VI<br>\", \"State Code: FM<br>\", \"State Code: AS<br>\"], \"marker\": {\"line\": {\"color\": \"rgb(255,255,255)\", \"width\": 2}}, \"colorbar\": {\"title\": \"%\"}}], {\"title\": \"Most Complaints by State <br> Wells Fargo & Company\", \"geo\": {\"scope\": \"usa\", \"projection\": {\"type\": \"albers usa\"}, \"showlakes\": true, \"lakecolor\": \"rgb(255, 255, 255)\"}}, {\"showLink\": true, \"linkText\": \"Export to plot.ly\"})});</script>"
      ],
      "text/vnd.plotly.v1+html": [
       "<div id=\"7aa4864c-1973-4f7e-928a-216110b1ecce\" style=\"height: 525px; width: 100%;\" class=\"plotly-graph-div\"></div><script type=\"text/javascript\">require([\"plotly\"], function(Plotly) { window.PLOTLYENV=window.PLOTLYENV || {};window.PLOTLYENV.BASE_URL=\"https://plot.ly\";Plotly.newPlot(\"7aa4864c-1973-4f7e-928a-216110b1ecce\", [{\"type\": \"choropleth\", \"colorscale\": [[0.0, \"rgb(202, 202, 202)\"], [0.2, \"rgb(253, 205, 200)\"], [0.4, \"rgb(252, 169, 161)\"], [0.6, \"rgb(247, 121, 108  )\"], [0.8, \"rgb(255, 39, 39)\"], [1.0, \"rgb(219, 0, 0)\"]], \"autocolorscale\": false, \"locations\": [\"CA\", \"FL\", \"TX\", \"NJ\", \"NY\", \"GA\", \"MD\", \"NC\", \"VA\", \"PA\", \"AZ\", \"IL\", \"WA\", \"CO\", \"MN\", \"OH\", \"OR\", \"NV\", \"SC\", \"CT\", \"MI\", \"MA\", \"WI\", \"AL\", \"TN\", \"MO\", \"IN\", \"IA\", \"DE\", \"UT\", \"DC\", \"NE\", \"NM\", \"LA\", \"OK\", \"ID\", \"NH\", \"KY\", \"MS\", \"KS\", \"HI\", \"AR\", \"ME\", \"MT\", \"AK\", \"RI\", \"SD\", \"ND\", \"VT\", \"WV\", \"WY\", \"PR\", \"AP\", \"MH\", \"MP\", \"AE\", \"GU\", \"AA\", \"PW\", \"VI\", \"FM\", \"AS\"], \"z\": [\"20.88\", \"9.86\", \"5.67\", \"5.32\", \"5.29\", \"4.54\", \"3.92\", \"3.87\", \"3.49\", \"3.48\", \"2.59\", \"2.41\", \"2.13\", \"1.96\", \"1.93\", \"1.89\", \"1.52\", \"1.38\", \"1.35\", \"1.26\", \"1.25\", \"1.19\", \"1.12\", \"1.07\", \"0.84\", \"0.83\", \"0.69\", \"0.63\", \"0.59\", \"0.57\", \"0.56\", \"0.52\", \"0.52\", \"0.47\", \"0.41\", \"0.4\", \"0.38\", \"0.35\", \"0.3\", \"0.3\", \"0.27\", \"0.26\", \"0.24\", \"0.24\", \"0.23\", \"0.22\", \"0.16\", \"0.13\", \"0.12\", \"0.12\", \"0.1\", \"0.06\", \"0.04\", \"0.02\", \"0.01\", \"0.01\", \"0.01\", \"0.01\", \"0.0\", \"0.0\", \"0.0\", \"0.0\"], \"locationmode\": \"USA-states\", \"text\": [\"State Code: CA<br>\", \"State Code: FL<br>\", \"State Code: TX<br>\", \"State Code: NJ<br>\", \"State Code: NY<br>\", \"State Code: GA<br>\", \"State Code: MD<br>\", \"State Code: NC<br>\", \"State Code: VA<br>\", \"State Code: PA<br>\", \"State Code: AZ<br>\", \"State Code: IL<br>\", \"State Code: WA<br>\", \"State Code: CO<br>\", \"State Code: MN<br>\", \"State Code: OH<br>\", \"State Code: OR<br>\", \"State Code: NV<br>\", \"State Code: SC<br>\", \"State Code: CT<br>\", \"State Code: MI<br>\", \"State Code: MA<br>\", \"State Code: WI<br>\", \"State Code: AL<br>\", \"State Code: TN<br>\", \"State Code: MO<br>\", \"State Code: IN<br>\", \"State Code: IA<br>\", \"State Code: DE<br>\", \"State Code: UT<br>\", \"State Code: DC<br>\", \"State Code: NE<br>\", \"State Code: NM<br>\", \"State Code: LA<br>\", \"State Code: OK<br>\", \"State Code: ID<br>\", \"State Code: NH<br>\", \"State Code: KY<br>\", \"State Code: MS<br>\", \"State Code: KS<br>\", \"State Code: HI<br>\", \"State Code: AR<br>\", \"State Code: ME<br>\", \"State Code: MT<br>\", \"State Code: AK<br>\", \"State Code: RI<br>\", \"State Code: SD<br>\", \"State Code: ND<br>\", \"State Code: VT<br>\", \"State Code: WV<br>\", \"State Code: WY<br>\", \"State Code: PR<br>\", \"State Code: AP<br>\", \"State Code: MH<br>\", \"State Code: MP<br>\", \"State Code: AE<br>\", \"State Code: GU<br>\", \"State Code: AA<br>\", \"State Code: PW<br>\", \"State Code: VI<br>\", \"State Code: FM<br>\", \"State Code: AS<br>\"], \"marker\": {\"line\": {\"color\": \"rgb(255,255,255)\", \"width\": 2}}, \"colorbar\": {\"title\": \"%\"}}], {\"title\": \"Most Complaints by State <br> Wells Fargo & Company\", \"geo\": {\"scope\": \"usa\", \"projection\": {\"type\": \"albers usa\"}, \"showlakes\": true, \"lakecolor\": \"rgb(255, 255, 255)\"}}, {\"showLink\": true, \"linkText\": \"Export to plot.ly\"})});</script>"
      ]
     },
     "metadata": {},
     "output_type": "display_data"
    }
   ],
   "source": [
    "df_wfc = pd.DataFrame(cross_month['Wells Fargo & Company']).reset_index().sort_values(by=\"Wells Fargo & Company\", ascending=False).round(2)\n",
    "df_wfc = df_wfc.rename(columns={'Wells Fargo & Company': 'share of complaints'})\n",
    "\n",
    "for col in df_wfc.columns:\n",
    "    df_wfc[col] = df_wfc[col].astype(str)\n",
    "    \n",
    "    \n",
    "scl = [[0.0, 'rgb(202, 202, 202)'],[0.2, 'rgb(253, 205, 200)'],[0.4, 'rgb(252, 169, 161)'],\n",
    "            [0.6, 'rgb(247, 121, 108  )'],[0.8, 'rgb(255, 39, 39)'],[1.0, 'rgb(219, 0, 0)']]\n",
    "\n",
    "\n",
    "df_wfc['text'] = \"State Code: \" + df_wfc['state'] + '<br>'\n",
    "\n",
    "\n",
    "data = [ dict(\n",
    "        type='choropleth',\n",
    "        colorscale = scl,\n",
    "        autocolorscale = False,\n",
    "        locations = df_wfc['state'],\n",
    "        z = df_wfc['share of complaints'], \n",
    "        locationmode = 'USA-states',\n",
    "        text = df_wfc['text'],\n",
    "        marker = dict(\n",
    "            line = dict (\n",
    "                color = 'rgb(255,255,255)',\n",
    "                width = 2\n",
    "            ) ),\n",
    "        colorbar = dict(\n",
    "            title = \"%\")\n",
    "        ) ]\n",
    "\n",
    "layout = dict(\n",
    "    title = 'Most Complaints by State <br> Wells Fargo & Company',\n",
    "    geo = dict(\n",
    "        scope = 'usa',\n",
    "        projection=dict(type='albers usa'),\n",
    "        showlakes = True,\n",
    "        lakecolor = 'rgb(255, 255, 255)')\n",
    ")\n",
    "\n",
    "fig = dict(data=data, layout=layout)\n",
    "iplot(fig, filename='d3-cloropleth-map')"
   ]
  },
  {
   "cell_type": "code",
   "execution_count": 19,
   "metadata": {
    "_kg_hide-input": true,
    "_uuid": "b70046f83fc7f955c7740e8b854a2bb1e48b3cc0"
   },
   "outputs": [
    {
     "data": {
      "application/vnd.plotly.v1+json": {
       "data": [
        {
         "autocolorscale": false,
         "colorbar": {
          "title": "%"
         },
         "colorscale": [
          [
           0.0,
           "rgb(202, 202, 202)"
          ],
          [
           0.2,
           "rgb(253, 205, 200)"
          ],
          [
           0.4,
           "rgb(252, 169, 161)"
          ],
          [
           0.6,
           "rgb(247, 121, 108  )"
          ],
          [
           0.8,
           "rgb(255, 39, 39)"
          ],
          [
           1.0,
           "rgb(219, 0, 0)"
          ]
         ],
         "locationmode": "USA-states",
         "locations": [
          "CA",
          "NY",
          "FL",
          "TX",
          "IL",
          "NJ",
          "MI",
          "GA",
          "WA",
          "AZ",
          "OH",
          "PA",
          "NC",
          "VA",
          "MD",
          "MA",
          "CO",
          "OR",
          "CT",
          "WI",
          "NV",
          "LA",
          "IN",
          "MN",
          "MO",
          "TN",
          "SC",
          "KY",
          "AL",
          "OK",
          "HI",
          "DE",
          "NH",
          "UT",
          "DC",
          "RI",
          "MS",
          "ME",
          "NE",
          "WV",
          "KS",
          "AR",
          "IA",
          "NM",
          "ID",
          "ND",
          "AK",
          "PR",
          "MT",
          "VT",
          "SD",
          "WY",
          "VI",
          "AE",
          "GU",
          "FM",
          "PW",
          "MP",
          "MH",
          "AS",
          "AP",
          "AA"
         ],
         "marker": {
          "line": {
           "color": "rgb(255,255,255)",
           "width": 2
          }
         },
         "text": [
          "State Code: CA<br>",
          "State Code: NY<br>",
          "State Code: FL<br>",
          "State Code: TX<br>",
          "State Code: IL<br>",
          "State Code: NJ<br>",
          "State Code: MI<br>",
          "State Code: GA<br>",
          "State Code: WA<br>",
          "State Code: AZ<br>",
          "State Code: OH<br>",
          "State Code: PA<br>",
          "State Code: NC<br>",
          "State Code: VA<br>",
          "State Code: MD<br>",
          "State Code: MA<br>",
          "State Code: CO<br>",
          "State Code: OR<br>",
          "State Code: CT<br>",
          "State Code: WI<br>",
          "State Code: NV<br>",
          "State Code: LA<br>",
          "State Code: IN<br>",
          "State Code: MN<br>",
          "State Code: MO<br>",
          "State Code: TN<br>",
          "State Code: SC<br>",
          "State Code: KY<br>",
          "State Code: AL<br>",
          "State Code: OK<br>",
          "State Code: HI<br>",
          "State Code: DE<br>",
          "State Code: NH<br>",
          "State Code: UT<br>",
          "State Code: DC<br>",
          "State Code: RI<br>",
          "State Code: MS<br>",
          "State Code: ME<br>",
          "State Code: NE<br>",
          "State Code: WV<br>",
          "State Code: KS<br>",
          "State Code: AR<br>",
          "State Code: IA<br>",
          "State Code: NM<br>",
          "State Code: ID<br>",
          "State Code: ND<br>",
          "State Code: AK<br>",
          "State Code: PR<br>",
          "State Code: MT<br>",
          "State Code: VT<br>",
          "State Code: SD<br>",
          "State Code: WY<br>",
          "State Code: VI<br>",
          "State Code: AE<br>",
          "State Code: GU<br>",
          "State Code: FM<br>",
          "State Code: PW<br>",
          "State Code: MP<br>",
          "State Code: MH<br>",
          "State Code: AS<br>",
          "State Code: AP<br>",
          "State Code: AA<br>"
         ],
         "type": "choropleth",
         "z": [
          "19.4",
          "11.34",
          "8.72",
          "6.39",
          "4.94",
          "3.95",
          "3.21",
          "3.09",
          "2.92",
          "2.76",
          "2.67",
          "2.42",
          "2.2",
          "2.09",
          "1.92",
          "1.86",
          "1.82",
          "1.54",
          "1.32",
          "1.24",
          "1.14",
          "1.09",
          "1.07",
          "1.03",
          "0.94",
          "0.73",
          "0.72",
          "0.67",
          "0.59",
          "0.52",
          "0.5",
          "0.5",
          "0.42",
          "0.39",
          "0.38",
          "0.37",
          "0.35",
          "0.34",
          "0.29",
          "0.29",
          "0.27",
          "0.26",
          "0.21",
          "0.2",
          "0.17",
          "0.13",
          "0.12",
          "0.1",
          "0.09",
          "0.08",
          "0.08",
          "0.07",
          "0.04",
          "0.01",
          "0.01",
          "0.01",
          "0.0",
          "0.0",
          "0.0",
          "0.0",
          "0.0",
          "0.0"
         ]
        }
       ],
       "layout": {
        "geo": {
         "lakecolor": "rgb(255, 255, 255)",
         "projection": {
          "type": "albers usa"
         },
         "scope": "usa",
         "showlakes": true
        },
        "title": "Most Complaints by State <br> JPMorgan Chase & Co."
       }
      },
      "text/html": [
       "<div id=\"b368ce30-6ae1-4c35-a448-e90d67d9179b\" style=\"height: 525px; width: 100%;\" class=\"plotly-graph-div\"></div><script type=\"text/javascript\">require([\"plotly\"], function(Plotly) { window.PLOTLYENV=window.PLOTLYENV || {};window.PLOTLYENV.BASE_URL=\"https://plot.ly\";Plotly.newPlot(\"b368ce30-6ae1-4c35-a448-e90d67d9179b\", [{\"type\": \"choropleth\", \"colorscale\": [[0.0, \"rgb(202, 202, 202)\"], [0.2, \"rgb(253, 205, 200)\"], [0.4, \"rgb(252, 169, 161)\"], [0.6, \"rgb(247, 121, 108  )\"], [0.8, \"rgb(255, 39, 39)\"], [1.0, \"rgb(219, 0, 0)\"]], \"autocolorscale\": false, \"locations\": [\"CA\", \"NY\", \"FL\", \"TX\", \"IL\", \"NJ\", \"MI\", \"GA\", \"WA\", \"AZ\", \"OH\", \"PA\", \"NC\", \"VA\", \"MD\", \"MA\", \"CO\", \"OR\", \"CT\", \"WI\", \"NV\", \"LA\", \"IN\", \"MN\", \"MO\", \"TN\", \"SC\", \"KY\", \"AL\", \"OK\", \"HI\", \"DE\", \"NH\", \"UT\", \"DC\", \"RI\", \"MS\", \"ME\", \"NE\", \"WV\", \"KS\", \"AR\", \"IA\", \"NM\", \"ID\", \"ND\", \"AK\", \"PR\", \"MT\", \"VT\", \"SD\", \"WY\", \"VI\", \"AE\", \"GU\", \"FM\", \"PW\", \"MP\", \"MH\", \"AS\", \"AP\", \"AA\"], \"z\": [\"19.4\", \"11.34\", \"8.72\", \"6.39\", \"4.94\", \"3.95\", \"3.21\", \"3.09\", \"2.92\", \"2.76\", \"2.67\", \"2.42\", \"2.2\", \"2.09\", \"1.92\", \"1.86\", \"1.82\", \"1.54\", \"1.32\", \"1.24\", \"1.14\", \"1.09\", \"1.07\", \"1.03\", \"0.94\", \"0.73\", \"0.72\", \"0.67\", \"0.59\", \"0.52\", \"0.5\", \"0.5\", \"0.42\", \"0.39\", \"0.38\", \"0.37\", \"0.35\", \"0.34\", \"0.29\", \"0.29\", \"0.27\", \"0.26\", \"0.21\", \"0.2\", \"0.17\", \"0.13\", \"0.12\", \"0.1\", \"0.09\", \"0.08\", \"0.08\", \"0.07\", \"0.04\", \"0.01\", \"0.01\", \"0.01\", \"0.0\", \"0.0\", \"0.0\", \"0.0\", \"0.0\", \"0.0\"], \"locationmode\": \"USA-states\", \"text\": [\"State Code: CA<br>\", \"State Code: NY<br>\", \"State Code: FL<br>\", \"State Code: TX<br>\", \"State Code: IL<br>\", \"State Code: NJ<br>\", \"State Code: MI<br>\", \"State Code: GA<br>\", \"State Code: WA<br>\", \"State Code: AZ<br>\", \"State Code: OH<br>\", \"State Code: PA<br>\", \"State Code: NC<br>\", \"State Code: VA<br>\", \"State Code: MD<br>\", \"State Code: MA<br>\", \"State Code: CO<br>\", \"State Code: OR<br>\", \"State Code: CT<br>\", \"State Code: WI<br>\", \"State Code: NV<br>\", \"State Code: LA<br>\", \"State Code: IN<br>\", \"State Code: MN<br>\", \"State Code: MO<br>\", \"State Code: TN<br>\", \"State Code: SC<br>\", \"State Code: KY<br>\", \"State Code: AL<br>\", \"State Code: OK<br>\", \"State Code: HI<br>\", \"State Code: DE<br>\", \"State Code: NH<br>\", \"State Code: UT<br>\", \"State Code: DC<br>\", \"State Code: RI<br>\", \"State Code: MS<br>\", \"State Code: ME<br>\", \"State Code: NE<br>\", \"State Code: WV<br>\", \"State Code: KS<br>\", \"State Code: AR<br>\", \"State Code: IA<br>\", \"State Code: NM<br>\", \"State Code: ID<br>\", \"State Code: ND<br>\", \"State Code: AK<br>\", \"State Code: PR<br>\", \"State Code: MT<br>\", \"State Code: VT<br>\", \"State Code: SD<br>\", \"State Code: WY<br>\", \"State Code: VI<br>\", \"State Code: AE<br>\", \"State Code: GU<br>\", \"State Code: FM<br>\", \"State Code: PW<br>\", \"State Code: MP<br>\", \"State Code: MH<br>\", \"State Code: AS<br>\", \"State Code: AP<br>\", \"State Code: AA<br>\"], \"marker\": {\"line\": {\"color\": \"rgb(255,255,255)\", \"width\": 2}}, \"colorbar\": {\"title\": \"%\"}}], {\"title\": \"Most Complaints by State <br> JPMorgan Chase & Co.\", \"geo\": {\"scope\": \"usa\", \"projection\": {\"type\": \"albers usa\"}, \"showlakes\": true, \"lakecolor\": \"rgb(255, 255, 255)\"}}, {\"showLink\": true, \"linkText\": \"Export to plot.ly\"})});</script>"
      ],
      "text/vnd.plotly.v1+html": [
       "<div id=\"b368ce30-6ae1-4c35-a448-e90d67d9179b\" style=\"height: 525px; width: 100%;\" class=\"plotly-graph-div\"></div><script type=\"text/javascript\">require([\"plotly\"], function(Plotly) { window.PLOTLYENV=window.PLOTLYENV || {};window.PLOTLYENV.BASE_URL=\"https://plot.ly\";Plotly.newPlot(\"b368ce30-6ae1-4c35-a448-e90d67d9179b\", [{\"type\": \"choropleth\", \"colorscale\": [[0.0, \"rgb(202, 202, 202)\"], [0.2, \"rgb(253, 205, 200)\"], [0.4, \"rgb(252, 169, 161)\"], [0.6, \"rgb(247, 121, 108  )\"], [0.8, \"rgb(255, 39, 39)\"], [1.0, \"rgb(219, 0, 0)\"]], \"autocolorscale\": false, \"locations\": [\"CA\", \"NY\", \"FL\", \"TX\", \"IL\", \"NJ\", \"MI\", \"GA\", \"WA\", \"AZ\", \"OH\", \"PA\", \"NC\", \"VA\", \"MD\", \"MA\", \"CO\", \"OR\", \"CT\", \"WI\", \"NV\", \"LA\", \"IN\", \"MN\", \"MO\", \"TN\", \"SC\", \"KY\", \"AL\", \"OK\", \"HI\", \"DE\", \"NH\", \"UT\", \"DC\", \"RI\", \"MS\", \"ME\", \"NE\", \"WV\", \"KS\", \"AR\", \"IA\", \"NM\", \"ID\", \"ND\", \"AK\", \"PR\", \"MT\", \"VT\", \"SD\", \"WY\", \"VI\", \"AE\", \"GU\", \"FM\", \"PW\", \"MP\", \"MH\", \"AS\", \"AP\", \"AA\"], \"z\": [\"19.4\", \"11.34\", \"8.72\", \"6.39\", \"4.94\", \"3.95\", \"3.21\", \"3.09\", \"2.92\", \"2.76\", \"2.67\", \"2.42\", \"2.2\", \"2.09\", \"1.92\", \"1.86\", \"1.82\", \"1.54\", \"1.32\", \"1.24\", \"1.14\", \"1.09\", \"1.07\", \"1.03\", \"0.94\", \"0.73\", \"0.72\", \"0.67\", \"0.59\", \"0.52\", \"0.5\", \"0.5\", \"0.42\", \"0.39\", \"0.38\", \"0.37\", \"0.35\", \"0.34\", \"0.29\", \"0.29\", \"0.27\", \"0.26\", \"0.21\", \"0.2\", \"0.17\", \"0.13\", \"0.12\", \"0.1\", \"0.09\", \"0.08\", \"0.08\", \"0.07\", \"0.04\", \"0.01\", \"0.01\", \"0.01\", \"0.0\", \"0.0\", \"0.0\", \"0.0\", \"0.0\", \"0.0\"], \"locationmode\": \"USA-states\", \"text\": [\"State Code: CA<br>\", \"State Code: NY<br>\", \"State Code: FL<br>\", \"State Code: TX<br>\", \"State Code: IL<br>\", \"State Code: NJ<br>\", \"State Code: MI<br>\", \"State Code: GA<br>\", \"State Code: WA<br>\", \"State Code: AZ<br>\", \"State Code: OH<br>\", \"State Code: PA<br>\", \"State Code: NC<br>\", \"State Code: VA<br>\", \"State Code: MD<br>\", \"State Code: MA<br>\", \"State Code: CO<br>\", \"State Code: OR<br>\", \"State Code: CT<br>\", \"State Code: WI<br>\", \"State Code: NV<br>\", \"State Code: LA<br>\", \"State Code: IN<br>\", \"State Code: MN<br>\", \"State Code: MO<br>\", \"State Code: TN<br>\", \"State Code: SC<br>\", \"State Code: KY<br>\", \"State Code: AL<br>\", \"State Code: OK<br>\", \"State Code: HI<br>\", \"State Code: DE<br>\", \"State Code: NH<br>\", \"State Code: UT<br>\", \"State Code: DC<br>\", \"State Code: RI<br>\", \"State Code: MS<br>\", \"State Code: ME<br>\", \"State Code: NE<br>\", \"State Code: WV<br>\", \"State Code: KS<br>\", \"State Code: AR<br>\", \"State Code: IA<br>\", \"State Code: NM<br>\", \"State Code: ID<br>\", \"State Code: ND<br>\", \"State Code: AK<br>\", \"State Code: PR<br>\", \"State Code: MT<br>\", \"State Code: VT<br>\", \"State Code: SD<br>\", \"State Code: WY<br>\", \"State Code: VI<br>\", \"State Code: AE<br>\", \"State Code: GU<br>\", \"State Code: FM<br>\", \"State Code: PW<br>\", \"State Code: MP<br>\", \"State Code: MH<br>\", \"State Code: AS<br>\", \"State Code: AP<br>\", \"State Code: AA<br>\"], \"marker\": {\"line\": {\"color\": \"rgb(255,255,255)\", \"width\": 2}}, \"colorbar\": {\"title\": \"%\"}}], {\"title\": \"Most Complaints by State <br> JPMorgan Chase & Co.\", \"geo\": {\"scope\": \"usa\", \"projection\": {\"type\": \"albers usa\"}, \"showlakes\": true, \"lakecolor\": \"rgb(255, 255, 255)\"}}, {\"showLink\": true, \"linkText\": \"Export to plot.ly\"})});</script>"
      ]
     },
     "metadata": {},
     "output_type": "display_data"
    }
   ],
   "source": [
    "df_jpm = pd.DataFrame(cross_month['JPMorgan Chase & Co.']).reset_index().sort_values(by=\"JPMorgan Chase & Co.\", ascending=False).round(2)\n",
    "df_jpm = df_jpm.rename(columns={'JPMorgan Chase & Co.': 'share of complaints'})\n",
    "\n",
    "for col in df_jpm.columns:\n",
    "    df_jpm[col] = df_jpm[col].astype(str)\n",
    "    \n",
    "    \n",
    "scl = [[0.0, 'rgb(202, 202, 202)'],[0.2, 'rgb(253, 205, 200)'],[0.4, 'rgb(252, 169, 161)'],\n",
    "            [0.6, 'rgb(247, 121, 108  )'],[0.8, 'rgb(255, 39, 39)'],[1.0, 'rgb(219, 0, 0)']]\n",
    "\n",
    "\n",
    "df_jpm['text'] = \"State Code: \" + df_jpm['state'] + '<br>'\n",
    "\n",
    "\n",
    "data = [ dict(\n",
    "        type='choropleth',\n",
    "        colorscale = scl,\n",
    "        autocolorscale = False,\n",
    "        locations = df_jpm['state'],\n",
    "        z = df_jpm['share of complaints'], \n",
    "        locationmode = 'USA-states',\n",
    "        text = df_jpm['text'],\n",
    "        marker = dict(\n",
    "            line = dict (\n",
    "                color = 'rgb(255,255,255)',\n",
    "                width = 2\n",
    "            ) ),\n",
    "        colorbar = dict(\n",
    "            title = \"%\")\n",
    "        ) ]\n",
    "\n",
    "layout = dict(\n",
    "    title = 'Most Complaints by State <br> JPMorgan Chase & Co.',\n",
    "    geo = dict(\n",
    "        scope = 'usa',\n",
    "        projection=dict(type='albers usa'),\n",
    "        showlakes = True,\n",
    "        lakecolor = 'rgb(255, 255, 255)')\n",
    ")\n",
    "\n",
    "fig = dict(data=data, layout=layout)\n",
    "iplot(fig, filename='d3-cloropleth-map')"
   ]
  },
  {
   "cell_type": "code",
   "execution_count": 20,
   "metadata": {
    "_kg_hide-input": true,
    "_uuid": "f0edb0892f4022b7a8cc38c516af86770596f120"
   },
   "outputs": [
    {
     "data": {
      "application/vnd.plotly.v1+json": {
       "data": [
        {
         "autocolorscale": false,
         "colorbar": {
          "title": "%"
         },
         "colorscale": [
          [
           0.0,
           "rgb(202, 202, 202)"
          ],
          [
           0.2,
           "rgb(253, 205, 200)"
          ],
          [
           0.4,
           "rgb(252, 169, 161)"
          ],
          [
           0.6,
           "rgb(247, 121, 108  )"
          ],
          [
           0.8,
           "rgb(255, 39, 39)"
          ],
          [
           1.0,
           "rgb(219, 0, 0)"
          ]
         ],
         "locationmode": "USA-states",
         "locations": [
          "CA",
          "FL",
          "TX",
          "GA",
          "NY",
          "VA",
          "NC",
          "IL",
          "MD",
          "NJ",
          "PA",
          "OH",
          "WA",
          "TN",
          "AZ",
          "CO",
          "MI",
          "SC",
          "AL",
          "NV",
          "MA",
          "LA",
          "OR",
          "MN",
          "MO",
          "CT",
          "WI",
          "IN",
          "MS",
          "OK",
          "UT",
          "DC",
          "KY",
          "DE",
          "IA",
          "KS",
          "AR",
          "HI",
          "ID",
          "ME",
          "NM",
          "WV",
          "NH",
          "PR",
          "RI",
          "NE",
          "MT",
          "AK",
          "WY",
          "ND",
          "SD",
          "VT",
          "AP",
          "AE",
          "GU",
          "MH",
          "PW",
          "MP",
          "VI",
          "FM",
          "AS",
          "AA"
         ],
         "marker": {
          "line": {
           "color": "rgb(255,255,255)",
           "width": 2
          }
         },
         "text": [
          "State Code: CA<br>",
          "State Code: FL<br>",
          "State Code: TX<br>",
          "State Code: GA<br>",
          "State Code: NY<br>",
          "State Code: VA<br>",
          "State Code: NC<br>",
          "State Code: IL<br>",
          "State Code: MD<br>",
          "State Code: NJ<br>",
          "State Code: PA<br>",
          "State Code: OH<br>",
          "State Code: WA<br>",
          "State Code: TN<br>",
          "State Code: AZ<br>",
          "State Code: CO<br>",
          "State Code: MI<br>",
          "State Code: SC<br>",
          "State Code: AL<br>",
          "State Code: NV<br>",
          "State Code: MA<br>",
          "State Code: LA<br>",
          "State Code: OR<br>",
          "State Code: MN<br>",
          "State Code: MO<br>",
          "State Code: CT<br>",
          "State Code: WI<br>",
          "State Code: IN<br>",
          "State Code: MS<br>",
          "State Code: OK<br>",
          "State Code: UT<br>",
          "State Code: DC<br>",
          "State Code: KY<br>",
          "State Code: DE<br>",
          "State Code: IA<br>",
          "State Code: KS<br>",
          "State Code: AR<br>",
          "State Code: HI<br>",
          "State Code: ID<br>",
          "State Code: ME<br>",
          "State Code: NM<br>",
          "State Code: WV<br>",
          "State Code: NH<br>",
          "State Code: PR<br>",
          "State Code: RI<br>",
          "State Code: NE<br>",
          "State Code: MT<br>",
          "State Code: AK<br>",
          "State Code: WY<br>",
          "State Code: ND<br>",
          "State Code: SD<br>",
          "State Code: VT<br>",
          "State Code: AP<br>",
          "State Code: AE<br>",
          "State Code: GU<br>",
          "State Code: MH<br>",
          "State Code: PW<br>",
          "State Code: MP<br>",
          "State Code: VI<br>",
          "State Code: FM<br>",
          "State Code: AS<br>",
          "State Code: AA<br>"
         ],
         "type": "choropleth",
         "z": [
          "12.65",
          "10.38",
          "8.67",
          "6.18",
          "5.86",
          "4.37",
          "3.69",
          "3.66",
          "3.66",
          "3.27",
          "3.21",
          "2.66",
          "2.65",
          "2.1",
          "1.89",
          "1.88",
          "1.86",
          "1.68",
          "1.48",
          "1.47",
          "1.35",
          "1.24",
          "1.17",
          "1.17",
          "1.03",
          "1.0",
          "0.86",
          "0.76",
          "0.64",
          "0.59",
          "0.58",
          "0.58",
          "0.54",
          "0.48",
          "0.44",
          "0.44",
          "0.42",
          "0.38",
          "0.38",
          "0.33",
          "0.3",
          "0.3",
          "0.29",
          "0.26",
          "0.18",
          "0.17",
          "0.17",
          "0.14",
          "0.12",
          "0.11",
          "0.09",
          "0.09",
          "0.06",
          "0.03",
          "0.03",
          "0.02",
          "0.0",
          "0.0",
          "0.0",
          "0.0",
          "0.0",
          "0.0"
         ]
        }
       ],
       "layout": {
        "geo": {
         "lakecolor": "rgb(255, 255, 255)",
         "projection": {
          "type": "albers usa"
         },
         "scope": "usa",
         "showlakes": true
        },
        "title": "Most Complaints by State <br> Equifax"
       }
      },
      "text/html": [
       "<div id=\"c54065fd-ef43-40e9-bb62-6c1b4fc5fbef\" style=\"height: 525px; width: 100%;\" class=\"plotly-graph-div\"></div><script type=\"text/javascript\">require([\"plotly\"], function(Plotly) { window.PLOTLYENV=window.PLOTLYENV || {};window.PLOTLYENV.BASE_URL=\"https://plot.ly\";Plotly.newPlot(\"c54065fd-ef43-40e9-bb62-6c1b4fc5fbef\", [{\"type\": \"choropleth\", \"colorscale\": [[0.0, \"rgb(202, 202, 202)\"], [0.2, \"rgb(253, 205, 200)\"], [0.4, \"rgb(252, 169, 161)\"], [0.6, \"rgb(247, 121, 108  )\"], [0.8, \"rgb(255, 39, 39)\"], [1.0, \"rgb(219, 0, 0)\"]], \"autocolorscale\": false, \"locations\": [\"CA\", \"FL\", \"TX\", \"GA\", \"NY\", \"VA\", \"NC\", \"IL\", \"MD\", \"NJ\", \"PA\", \"OH\", \"WA\", \"TN\", \"AZ\", \"CO\", \"MI\", \"SC\", \"AL\", \"NV\", \"MA\", \"LA\", \"OR\", \"MN\", \"MO\", \"CT\", \"WI\", \"IN\", \"MS\", \"OK\", \"UT\", \"DC\", \"KY\", \"DE\", \"IA\", \"KS\", \"AR\", \"HI\", \"ID\", \"ME\", \"NM\", \"WV\", \"NH\", \"PR\", \"RI\", \"NE\", \"MT\", \"AK\", \"WY\", \"ND\", \"SD\", \"VT\", \"AP\", \"AE\", \"GU\", \"MH\", \"PW\", \"MP\", \"VI\", \"FM\", \"AS\", \"AA\"], \"z\": [\"12.65\", \"10.38\", \"8.67\", \"6.18\", \"5.86\", \"4.37\", \"3.69\", \"3.66\", \"3.66\", \"3.27\", \"3.21\", \"2.66\", \"2.65\", \"2.1\", \"1.89\", \"1.88\", \"1.86\", \"1.68\", \"1.48\", \"1.47\", \"1.35\", \"1.24\", \"1.17\", \"1.17\", \"1.03\", \"1.0\", \"0.86\", \"0.76\", \"0.64\", \"0.59\", \"0.58\", \"0.58\", \"0.54\", \"0.48\", \"0.44\", \"0.44\", \"0.42\", \"0.38\", \"0.38\", \"0.33\", \"0.3\", \"0.3\", \"0.29\", \"0.26\", \"0.18\", \"0.17\", \"0.17\", \"0.14\", \"0.12\", \"0.11\", \"0.09\", \"0.09\", \"0.06\", \"0.03\", \"0.03\", \"0.02\", \"0.0\", \"0.0\", \"0.0\", \"0.0\", \"0.0\", \"0.0\"], \"locationmode\": \"USA-states\", \"text\": [\"State Code: CA<br>\", \"State Code: FL<br>\", \"State Code: TX<br>\", \"State Code: GA<br>\", \"State Code: NY<br>\", \"State Code: VA<br>\", \"State Code: NC<br>\", \"State Code: IL<br>\", \"State Code: MD<br>\", \"State Code: NJ<br>\", \"State Code: PA<br>\", \"State Code: OH<br>\", \"State Code: WA<br>\", \"State Code: TN<br>\", \"State Code: AZ<br>\", \"State Code: CO<br>\", \"State Code: MI<br>\", \"State Code: SC<br>\", \"State Code: AL<br>\", \"State Code: NV<br>\", \"State Code: MA<br>\", \"State Code: LA<br>\", \"State Code: OR<br>\", \"State Code: MN<br>\", \"State Code: MO<br>\", \"State Code: CT<br>\", \"State Code: WI<br>\", \"State Code: IN<br>\", \"State Code: MS<br>\", \"State Code: OK<br>\", \"State Code: UT<br>\", \"State Code: DC<br>\", \"State Code: KY<br>\", \"State Code: DE<br>\", \"State Code: IA<br>\", \"State Code: KS<br>\", \"State Code: AR<br>\", \"State Code: HI<br>\", \"State Code: ID<br>\", \"State Code: ME<br>\", \"State Code: NM<br>\", \"State Code: WV<br>\", \"State Code: NH<br>\", \"State Code: PR<br>\", \"State Code: RI<br>\", \"State Code: NE<br>\", \"State Code: MT<br>\", \"State Code: AK<br>\", \"State Code: WY<br>\", \"State Code: ND<br>\", \"State Code: SD<br>\", \"State Code: VT<br>\", \"State Code: AP<br>\", \"State Code: AE<br>\", \"State Code: GU<br>\", \"State Code: MH<br>\", \"State Code: PW<br>\", \"State Code: MP<br>\", \"State Code: VI<br>\", \"State Code: FM<br>\", \"State Code: AS<br>\", \"State Code: AA<br>\"], \"marker\": {\"line\": {\"color\": \"rgb(255,255,255)\", \"width\": 2}}, \"colorbar\": {\"title\": \"%\"}}], {\"title\": \"Most Complaints by State <br> Equifax\", \"geo\": {\"scope\": \"usa\", \"projection\": {\"type\": \"albers usa\"}, \"showlakes\": true, \"lakecolor\": \"rgb(255, 255, 255)\"}}, {\"showLink\": true, \"linkText\": \"Export to plot.ly\"})});</script>"
      ],
      "text/vnd.plotly.v1+html": [
       "<div id=\"c54065fd-ef43-40e9-bb62-6c1b4fc5fbef\" style=\"height: 525px; width: 100%;\" class=\"plotly-graph-div\"></div><script type=\"text/javascript\">require([\"plotly\"], function(Plotly) { window.PLOTLYENV=window.PLOTLYENV || {};window.PLOTLYENV.BASE_URL=\"https://plot.ly\";Plotly.newPlot(\"c54065fd-ef43-40e9-bb62-6c1b4fc5fbef\", [{\"type\": \"choropleth\", \"colorscale\": [[0.0, \"rgb(202, 202, 202)\"], [0.2, \"rgb(253, 205, 200)\"], [0.4, \"rgb(252, 169, 161)\"], [0.6, \"rgb(247, 121, 108  )\"], [0.8, \"rgb(255, 39, 39)\"], [1.0, \"rgb(219, 0, 0)\"]], \"autocolorscale\": false, \"locations\": [\"CA\", \"FL\", \"TX\", \"GA\", \"NY\", \"VA\", \"NC\", \"IL\", \"MD\", \"NJ\", \"PA\", \"OH\", \"WA\", \"TN\", \"AZ\", \"CO\", \"MI\", \"SC\", \"AL\", \"NV\", \"MA\", \"LA\", \"OR\", \"MN\", \"MO\", \"CT\", \"WI\", \"IN\", \"MS\", \"OK\", \"UT\", \"DC\", \"KY\", \"DE\", \"IA\", \"KS\", \"AR\", \"HI\", \"ID\", \"ME\", \"NM\", \"WV\", \"NH\", \"PR\", \"RI\", \"NE\", \"MT\", \"AK\", \"WY\", \"ND\", \"SD\", \"VT\", \"AP\", \"AE\", \"GU\", \"MH\", \"PW\", \"MP\", \"VI\", \"FM\", \"AS\", \"AA\"], \"z\": [\"12.65\", \"10.38\", \"8.67\", \"6.18\", \"5.86\", \"4.37\", \"3.69\", \"3.66\", \"3.66\", \"3.27\", \"3.21\", \"2.66\", \"2.65\", \"2.1\", \"1.89\", \"1.88\", \"1.86\", \"1.68\", \"1.48\", \"1.47\", \"1.35\", \"1.24\", \"1.17\", \"1.17\", \"1.03\", \"1.0\", \"0.86\", \"0.76\", \"0.64\", \"0.59\", \"0.58\", \"0.58\", \"0.54\", \"0.48\", \"0.44\", \"0.44\", \"0.42\", \"0.38\", \"0.38\", \"0.33\", \"0.3\", \"0.3\", \"0.29\", \"0.26\", \"0.18\", \"0.17\", \"0.17\", \"0.14\", \"0.12\", \"0.11\", \"0.09\", \"0.09\", \"0.06\", \"0.03\", \"0.03\", \"0.02\", \"0.0\", \"0.0\", \"0.0\", \"0.0\", \"0.0\", \"0.0\"], \"locationmode\": \"USA-states\", \"text\": [\"State Code: CA<br>\", \"State Code: FL<br>\", \"State Code: TX<br>\", \"State Code: GA<br>\", \"State Code: NY<br>\", \"State Code: VA<br>\", \"State Code: NC<br>\", \"State Code: IL<br>\", \"State Code: MD<br>\", \"State Code: NJ<br>\", \"State Code: PA<br>\", \"State Code: OH<br>\", \"State Code: WA<br>\", \"State Code: TN<br>\", \"State Code: AZ<br>\", \"State Code: CO<br>\", \"State Code: MI<br>\", \"State Code: SC<br>\", \"State Code: AL<br>\", \"State Code: NV<br>\", \"State Code: MA<br>\", \"State Code: LA<br>\", \"State Code: OR<br>\", \"State Code: MN<br>\", \"State Code: MO<br>\", \"State Code: CT<br>\", \"State Code: WI<br>\", \"State Code: IN<br>\", \"State Code: MS<br>\", \"State Code: OK<br>\", \"State Code: UT<br>\", \"State Code: DC<br>\", \"State Code: KY<br>\", \"State Code: DE<br>\", \"State Code: IA<br>\", \"State Code: KS<br>\", \"State Code: AR<br>\", \"State Code: HI<br>\", \"State Code: ID<br>\", \"State Code: ME<br>\", \"State Code: NM<br>\", \"State Code: WV<br>\", \"State Code: NH<br>\", \"State Code: PR<br>\", \"State Code: RI<br>\", \"State Code: NE<br>\", \"State Code: MT<br>\", \"State Code: AK<br>\", \"State Code: WY<br>\", \"State Code: ND<br>\", \"State Code: SD<br>\", \"State Code: VT<br>\", \"State Code: AP<br>\", \"State Code: AE<br>\", \"State Code: GU<br>\", \"State Code: MH<br>\", \"State Code: PW<br>\", \"State Code: MP<br>\", \"State Code: VI<br>\", \"State Code: FM<br>\", \"State Code: AS<br>\", \"State Code: AA<br>\"], \"marker\": {\"line\": {\"color\": \"rgb(255,255,255)\", \"width\": 2}}, \"colorbar\": {\"title\": \"%\"}}], {\"title\": \"Most Complaints by State <br> Equifax\", \"geo\": {\"scope\": \"usa\", \"projection\": {\"type\": \"albers usa\"}, \"showlakes\": true, \"lakecolor\": \"rgb(255, 255, 255)\"}}, {\"showLink\": true, \"linkText\": \"Export to plot.ly\"})});</script>"
      ]
     },
     "metadata": {},
     "output_type": "display_data"
    }
   ],
   "source": [
    "df_eq = pd.DataFrame(cross_month[\"Equifax\"]).reset_index().sort_values(by=\"Equifax\", ascending=False).round(2)\n",
    "df_eq = df_eq.rename(columns={'Equifax': 'share of complaints'})\n",
    "\n",
    "for col in df_eq.columns:\n",
    "    df_eq[col] = df_eq[col].astype(str)\n",
    "    \n",
    "    \n",
    "scl = [[0.0, 'rgb(202, 202, 202)'],[0.2, 'rgb(253, 205, 200)'],[0.4, 'rgb(252, 169, 161)'],\n",
    "            [0.6, 'rgb(247, 121, 108  )'],[0.8, 'rgb(255, 39, 39)'],[1.0, 'rgb(219, 0, 0)']]\n",
    "\n",
    "\n",
    "df_eq['text'] = \"State Code: \" + df_eq['state'] + '<br>'\n",
    "\n",
    "\n",
    "data = [ dict(\n",
    "        type='choropleth',\n",
    "        colorscale = scl,\n",
    "        autocolorscale = False,\n",
    "        locations = df_eq['state'],\n",
    "        z = df_eq['share of complaints'], \n",
    "        locationmode = 'USA-states',\n",
    "        text = df_eq['text'],\n",
    "        marker = dict(\n",
    "            line = dict (\n",
    "                color = 'rgb(255,255,255)',\n",
    "                width = 2\n",
    "            ) ),\n",
    "        colorbar = dict(\n",
    "            title = \"%\")\n",
    "        ) ]\n",
    "\n",
    "layout = dict(\n",
    "    title = 'Most Complaints by State <br> Equifax',\n",
    "    geo = dict(\n",
    "        scope = 'usa',\n",
    "        projection=dict(type='albers usa'),\n",
    "        showlakes = True,\n",
    "        lakecolor = 'rgb(255, 255, 255)')\n",
    ")\n",
    "\n",
    "fig = dict(data=data, layout=layout)\n",
    "iplot(fig, filename='d3-cloropleth-map')"
   ]
  },
  {
   "cell_type": "code",
   "execution_count": 21,
   "metadata": {
    "_kg_hide-input": true,
    "_uuid": "b0e29e63a7b30711428ba3eeb72fe1edfb983b56"
   },
   "outputs": [
    {
     "data": {
      "application/vnd.plotly.v1+json": {
       "data": [
        {
         "autocolorscale": false,
         "colorbar": {
          "title": "%"
         },
         "colorscale": [
          [
           0.0,
           "rgb(202, 202, 202)"
          ],
          [
           0.2,
           "rgb(253, 205, 200)"
          ],
          [
           0.4,
           "rgb(252, 169, 161)"
          ],
          [
           0.6,
           "rgb(247, 121, 108  )"
          ],
          [
           0.8,
           "rgb(255, 39, 39)"
          ],
          [
           1.0,
           "rgb(219, 0, 0)"
          ]
         ],
         "locationmode": "USA-states",
         "locations": [
          "CA",
          "FL",
          "TX",
          "GA",
          "NY",
          "VA",
          "NC",
          "IL",
          "MD",
          "NJ",
          "PA",
          "OH",
          "WA",
          "TN",
          "AZ",
          "CO",
          "MI",
          "SC",
          "AL",
          "NV",
          "MA",
          "LA",
          "OR",
          "MN",
          "MO",
          "CT",
          "WI",
          "IN",
          "MS",
          "OK",
          "UT",
          "DC",
          "KY",
          "DE",
          "IA",
          "KS",
          "AR",
          "HI",
          "ID",
          "ME",
          "NM",
          "WV",
          "NH",
          "PR",
          "RI",
          "NE",
          "MT",
          "AK",
          "WY",
          "ND",
          "SD",
          "VT",
          "AP",
          "AE",
          "GU",
          "MH",
          "PW",
          "MP",
          "VI",
          "FM",
          "AS",
          "AA"
         ],
         "marker": {
          "line": {
           "color": "rgb(255,255,255)",
           "width": 2
          }
         },
         "text": [
          "State Code: CA<br>",
          "State Code: NY<br>",
          "State Code: FL<br>",
          "State Code: TX<br>",
          "State Code: NJ<br>",
          "State Code: IL<br>",
          "State Code: GA<br>",
          "State Code: MD<br>",
          "State Code: OH<br>",
          "State Code: VA<br>",
          "State Code: PA<br>",
          "State Code: MA<br>",
          "State Code: NC<br>",
          "State Code: MI<br>",
          "State Code: AZ<br>",
          "State Code: CO<br>",
          "State Code: CT<br>",
          "State Code: WA<br>",
          "State Code: WI<br>",
          "State Code: MN<br>",
          "State Code: NV<br>",
          "State Code: MO<br>",
          "State Code: TN<br>",
          "State Code: OR<br>",
          "State Code: SC<br>",
          "State Code: IN<br>",
          "State Code: DE<br>",
          "State Code: LA<br>",
          "State Code: DC<br>",
          "State Code: KY<br>",
          "State Code: AL<br>",
          "State Code: OK<br>",
          "State Code: NE<br>",
          "State Code: KS<br>",
          "State Code: UT<br>",
          "State Code: NH<br>",
          "State Code: AR<br>",
          "State Code: MS<br>",
          "State Code: NM<br>",
          "State Code: HI<br>",
          "State Code: IA<br>",
          "State Code: RI<br>",
          "State Code: PR<br>",
          "State Code: ME<br>",
          "State Code: ID<br>",
          "State Code: VT<br>",
          "State Code: WV<br>",
          "State Code: SD<br>",
          "State Code: ND<br>",
          "State Code: AE<br>",
          "State Code: GU<br>",
          "State Code: VI<br>",
          "State Code: WY<br>",
          "State Code: MT<br>",
          "State Code: AK<br>",
          "State Code: PW<br>",
          "State Code: FM<br>",
          "State Code: AS<br>",
          "State Code: MP<br>",
          "State Code: MH<br>",
          "State Code: AP<br>",
          "State Code: AA<br>"
         ],
         "type": "choropleth",
         "z": [
          "16.43",
          "10.96",
          "8.85",
          "6.73",
          "4.92",
          "3.94",
          "3.64",
          "3.6",
          "3.42",
          "3.1",
          "2.9",
          "2.67",
          "2.48",
          "2.48",
          "2.08",
          "1.69",
          "1.48",
          "1.46",
          "1.33",
          "1.12",
          "1.06",
          "1.06",
          "0.98",
          "0.96",
          "0.94",
          "0.87",
          "0.83",
          "0.67",
          "0.63",
          "0.6",
          "0.54",
          "0.52",
          "0.44",
          "0.4",
          "0.38",
          "0.38",
          "0.38",
          "0.31",
          "0.31",
          "0.31",
          "0.31",
          "0.29",
          "0.27",
          "0.25",
          "0.23",
          "0.15",
          "0.13",
          "0.1",
          "0.06",
          "0.06",
          "0.06",
          "0.06",
          "0.04",
          "0.04",
          "0.04",
          "0.02",
          "0.02",
          "0.02",
          "0.0",
          "0.0",
          "0.0",
          "0.0"
         ]
        }
       ],
       "layout": {
        "geo": {
         "lakecolor": "rgb(255, 255, 255)",
         "projection": {
          "type": "albers usa"
         },
         "scope": "usa",
         "showlakes": true
        },
        "title": "Most Complaints by State <br> CitiBank"
       }
      },
      "text/html": [
       "<div id=\"49db5c73-78ff-4d24-bb97-9d967d719603\" style=\"height: 525px; width: 100%;\" class=\"plotly-graph-div\"></div><script type=\"text/javascript\">require([\"plotly\"], function(Plotly) { window.PLOTLYENV=window.PLOTLYENV || {};window.PLOTLYENV.BASE_URL=\"https://plot.ly\";Plotly.newPlot(\"49db5c73-78ff-4d24-bb97-9d967d719603\", [{\"type\": \"choropleth\", \"colorscale\": [[0.0, \"rgb(202, 202, 202)\"], [0.2, \"rgb(253, 205, 200)\"], [0.4, \"rgb(252, 169, 161)\"], [0.6, \"rgb(247, 121, 108  )\"], [0.8, \"rgb(255, 39, 39)\"], [1.0, \"rgb(219, 0, 0)\"]], \"autocolorscale\": false, \"locations\": [\"CA\", \"FL\", \"TX\", \"GA\", \"NY\", \"VA\", \"NC\", \"IL\", \"MD\", \"NJ\", \"PA\", \"OH\", \"WA\", \"TN\", \"AZ\", \"CO\", \"MI\", \"SC\", \"AL\", \"NV\", \"MA\", \"LA\", \"OR\", \"MN\", \"MO\", \"CT\", \"WI\", \"IN\", \"MS\", \"OK\", \"UT\", \"DC\", \"KY\", \"DE\", \"IA\", \"KS\", \"AR\", \"HI\", \"ID\", \"ME\", \"NM\", \"WV\", \"NH\", \"PR\", \"RI\", \"NE\", \"MT\", \"AK\", \"WY\", \"ND\", \"SD\", \"VT\", \"AP\", \"AE\", \"GU\", \"MH\", \"PW\", \"MP\", \"VI\", \"FM\", \"AS\", \"AA\"], \"z\": [\"16.43\", \"10.96\", \"8.85\", \"6.73\", \"4.92\", \"3.94\", \"3.64\", \"3.6\", \"3.42\", \"3.1\", \"2.9\", \"2.67\", \"2.48\", \"2.48\", \"2.08\", \"1.69\", \"1.48\", \"1.46\", \"1.33\", \"1.12\", \"1.06\", \"1.06\", \"0.98\", \"0.96\", \"0.94\", \"0.87\", \"0.83\", \"0.67\", \"0.63\", \"0.6\", \"0.54\", \"0.52\", \"0.44\", \"0.4\", \"0.38\", \"0.38\", \"0.38\", \"0.31\", \"0.31\", \"0.31\", \"0.31\", \"0.29\", \"0.27\", \"0.25\", \"0.23\", \"0.15\", \"0.13\", \"0.1\", \"0.06\", \"0.06\", \"0.06\", \"0.06\", \"0.04\", \"0.04\", \"0.04\", \"0.02\", \"0.02\", \"0.02\", \"0.0\", \"0.0\", \"0.0\", \"0.0\"], \"locationmode\": \"USA-states\", \"text\": [\"State Code: CA<br>\", \"State Code: NY<br>\", \"State Code: FL<br>\", \"State Code: TX<br>\", \"State Code: NJ<br>\", \"State Code: IL<br>\", \"State Code: GA<br>\", \"State Code: MD<br>\", \"State Code: OH<br>\", \"State Code: VA<br>\", \"State Code: PA<br>\", \"State Code: MA<br>\", \"State Code: NC<br>\", \"State Code: MI<br>\", \"State Code: AZ<br>\", \"State Code: CO<br>\", \"State Code: CT<br>\", \"State Code: WA<br>\", \"State Code: WI<br>\", \"State Code: MN<br>\", \"State Code: NV<br>\", \"State Code: MO<br>\", \"State Code: TN<br>\", \"State Code: OR<br>\", \"State Code: SC<br>\", \"State Code: IN<br>\", \"State Code: DE<br>\", \"State Code: LA<br>\", \"State Code: DC<br>\", \"State Code: KY<br>\", \"State Code: AL<br>\", \"State Code: OK<br>\", \"State Code: NE<br>\", \"State Code: KS<br>\", \"State Code: UT<br>\", \"State Code: NH<br>\", \"State Code: AR<br>\", \"State Code: MS<br>\", \"State Code: NM<br>\", \"State Code: HI<br>\", \"State Code: IA<br>\", \"State Code: RI<br>\", \"State Code: PR<br>\", \"State Code: ME<br>\", \"State Code: ID<br>\", \"State Code: VT<br>\", \"State Code: WV<br>\", \"State Code: SD<br>\", \"State Code: ND<br>\", \"State Code: AE<br>\", \"State Code: GU<br>\", \"State Code: VI<br>\", \"State Code: WY<br>\", \"State Code: MT<br>\", \"State Code: AK<br>\", \"State Code: PW<br>\", \"State Code: FM<br>\", \"State Code: AS<br>\", \"State Code: MP<br>\", \"State Code: MH<br>\", \"State Code: AP<br>\", \"State Code: AA<br>\"], \"marker\": {\"line\": {\"color\": \"rgb(255,255,255)\", \"width\": 2}}, \"colorbar\": {\"title\": \"%\"}}], {\"title\": \"Most Complaints by State <br> CitiBank\", \"geo\": {\"scope\": \"usa\", \"projection\": {\"type\": \"albers usa\"}, \"showlakes\": true, \"lakecolor\": \"rgb(255, 255, 255)\"}}, {\"showLink\": true, \"linkText\": \"Export to plot.ly\"})});</script>"
      ],
      "text/vnd.plotly.v1+html": [
       "<div id=\"49db5c73-78ff-4d24-bb97-9d967d719603\" style=\"height: 525px; width: 100%;\" class=\"plotly-graph-div\"></div><script type=\"text/javascript\">require([\"plotly\"], function(Plotly) { window.PLOTLYENV=window.PLOTLYENV || {};window.PLOTLYENV.BASE_URL=\"https://plot.ly\";Plotly.newPlot(\"49db5c73-78ff-4d24-bb97-9d967d719603\", [{\"type\": \"choropleth\", \"colorscale\": [[0.0, \"rgb(202, 202, 202)\"], [0.2, \"rgb(253, 205, 200)\"], [0.4, \"rgb(252, 169, 161)\"], [0.6, \"rgb(247, 121, 108  )\"], [0.8, \"rgb(255, 39, 39)\"], [1.0, \"rgb(219, 0, 0)\"]], \"autocolorscale\": false, \"locations\": [\"CA\", \"FL\", \"TX\", \"GA\", \"NY\", \"VA\", \"NC\", \"IL\", \"MD\", \"NJ\", \"PA\", \"OH\", \"WA\", \"TN\", \"AZ\", \"CO\", \"MI\", \"SC\", \"AL\", \"NV\", \"MA\", \"LA\", \"OR\", \"MN\", \"MO\", \"CT\", \"WI\", \"IN\", \"MS\", \"OK\", \"UT\", \"DC\", \"KY\", \"DE\", \"IA\", \"KS\", \"AR\", \"HI\", \"ID\", \"ME\", \"NM\", \"WV\", \"NH\", \"PR\", \"RI\", \"NE\", \"MT\", \"AK\", \"WY\", \"ND\", \"SD\", \"VT\", \"AP\", \"AE\", \"GU\", \"MH\", \"PW\", \"MP\", \"VI\", \"FM\", \"AS\", \"AA\"], \"z\": [\"16.43\", \"10.96\", \"8.85\", \"6.73\", \"4.92\", \"3.94\", \"3.64\", \"3.6\", \"3.42\", \"3.1\", \"2.9\", \"2.67\", \"2.48\", \"2.48\", \"2.08\", \"1.69\", \"1.48\", \"1.46\", \"1.33\", \"1.12\", \"1.06\", \"1.06\", \"0.98\", \"0.96\", \"0.94\", \"0.87\", \"0.83\", \"0.67\", \"0.63\", \"0.6\", \"0.54\", \"0.52\", \"0.44\", \"0.4\", \"0.38\", \"0.38\", \"0.38\", \"0.31\", \"0.31\", \"0.31\", \"0.31\", \"0.29\", \"0.27\", \"0.25\", \"0.23\", \"0.15\", \"0.13\", \"0.1\", \"0.06\", \"0.06\", \"0.06\", \"0.06\", \"0.04\", \"0.04\", \"0.04\", \"0.02\", \"0.02\", \"0.02\", \"0.0\", \"0.0\", \"0.0\", \"0.0\"], \"locationmode\": \"USA-states\", \"text\": [\"State Code: CA<br>\", \"State Code: NY<br>\", \"State Code: FL<br>\", \"State Code: TX<br>\", \"State Code: NJ<br>\", \"State Code: IL<br>\", \"State Code: GA<br>\", \"State Code: MD<br>\", \"State Code: OH<br>\", \"State Code: VA<br>\", \"State Code: PA<br>\", \"State Code: MA<br>\", \"State Code: NC<br>\", \"State Code: MI<br>\", \"State Code: AZ<br>\", \"State Code: CO<br>\", \"State Code: CT<br>\", \"State Code: WA<br>\", \"State Code: WI<br>\", \"State Code: MN<br>\", \"State Code: NV<br>\", \"State Code: MO<br>\", \"State Code: TN<br>\", \"State Code: OR<br>\", \"State Code: SC<br>\", \"State Code: IN<br>\", \"State Code: DE<br>\", \"State Code: LA<br>\", \"State Code: DC<br>\", \"State Code: KY<br>\", \"State Code: AL<br>\", \"State Code: OK<br>\", \"State Code: NE<br>\", \"State Code: KS<br>\", \"State Code: UT<br>\", \"State Code: NH<br>\", \"State Code: AR<br>\", \"State Code: MS<br>\", \"State Code: NM<br>\", \"State Code: HI<br>\", \"State Code: IA<br>\", \"State Code: RI<br>\", \"State Code: PR<br>\", \"State Code: ME<br>\", \"State Code: ID<br>\", \"State Code: VT<br>\", \"State Code: WV<br>\", \"State Code: SD<br>\", \"State Code: ND<br>\", \"State Code: AE<br>\", \"State Code: GU<br>\", \"State Code: VI<br>\", \"State Code: WY<br>\", \"State Code: MT<br>\", \"State Code: AK<br>\", \"State Code: PW<br>\", \"State Code: FM<br>\", \"State Code: AS<br>\", \"State Code: MP<br>\", \"State Code: MH<br>\", \"State Code: AP<br>\", \"State Code: AA<br>\"], \"marker\": {\"line\": {\"color\": \"rgb(255,255,255)\", \"width\": 2}}, \"colorbar\": {\"title\": \"%\"}}], {\"title\": \"Most Complaints by State <br> CitiBank\", \"geo\": {\"scope\": \"usa\", \"projection\": {\"type\": \"albers usa\"}, \"showlakes\": true, \"lakecolor\": \"rgb(255, 255, 255)\"}}, {\"showLink\": true, \"linkText\": \"Export to plot.ly\"})});</script>"
      ]
     },
     "metadata": {},
     "output_type": "display_data"
    }
   ],
   "source": [
    "df_citi = pd.DataFrame(cross_month[\"Citibank\"]).reset_index().sort_values(by=\"Citibank\", ascending=False).round(2)\n",
    "df_citi = df_citi.rename(columns={'Citibank': 'share of complaints'})\n",
    "\n",
    "for col in df_citi.columns:\n",
    "    df_citi[col] = df_citi[col].astype(str)\n",
    "    \n",
    "    \n",
    "scl = [[0.0, 'rgb(202, 202, 202)'],[0.2, 'rgb(253, 205, 200)'],[0.4, 'rgb(252, 169, 161)'],\n",
    "            [0.6, 'rgb(247, 121, 108  )'],[0.8, 'rgb(255, 39, 39)'],[1.0, 'rgb(219, 0, 0)']]\n",
    "\n",
    "\n",
    "df_citi['text'] = \"State Code: \" + df_citi['state'] + '<br>'\n",
    "\n",
    "\n",
    "data = [ dict(\n",
    "        type='choropleth',\n",
    "        colorscale = scl,\n",
    "        autocolorscale = False,\n",
    "        locations = df_eq['state'],\n",
    "        z = df_citi['share of complaints'], \n",
    "        locationmode = 'USA-states',\n",
    "        text = df_citi['text'],\n",
    "        marker = dict(\n",
    "            line = dict (\n",
    "                color = 'rgb(255,255,255)',\n",
    "                width = 2\n",
    "            ) ),\n",
    "        colorbar = dict(\n",
    "            title = \"%\")\n",
    "        ) ]\n",
    "\n",
    "layout = dict(\n",
    "    title = 'Most Complaints by State <br> CitiBank',\n",
    "    geo = dict(\n",
    "        scope = 'usa',\n",
    "        projection=dict(type='albers usa'),\n",
    "        showlakes = True,\n",
    "        lakecolor = 'rgb(255, 255, 255)')\n",
    ")\n",
    "\n",
    "fig = dict(data=data, layout=layout)\n",
    "iplot(fig, filename='d3-cloropleth-map')"
   ]
  }
 ],
 "metadata": {
  "kaggle": {
   "accelerator": "none",
   "dataSources": [
    {
     "datasetId": 33,
     "sourceId": 793516,
     "sourceType": "datasetVersion"
    }
   ],
   "dockerImageVersionId": 3200,
   "isGpuEnabled": false,
   "isInternetEnabled": false,
   "language": "python",
   "sourceType": "notebook"
  },
  "kernelspec": {
   "display_name": "Python 3",
   "language": "python",
   "name": "python3"
  },
  "language_info": {
   "codemirror_mode": {
    "name": "ipython",
    "version": 3
   },
   "file_extension": ".py",
   "mimetype": "text/x-python",
   "name": "python",
   "nbconvert_exporter": "python",
   "pygments_lexer": "ipython3",
   "version": "3.6.5"
  }
 },
 "nbformat": 4,
 "nbformat_minor": 4
}
