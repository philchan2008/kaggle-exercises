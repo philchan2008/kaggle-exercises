{
 "cells": [
  {
   "cell_type": "markdown",
   "id": "39cc6165",
   "metadata": {
    "papermill": {
     "duration": 0.003456,
     "end_time": "2025-09-01T19:42:24.533066",
     "exception": false,
     "start_time": "2025-09-01T19:42:24.529610",
     "status": "completed"
    },
    "tags": []
   },
   "source": [
    "**This notebook is an exercise in the [Introduction to Machine Learning](https://www.kaggle.com/learn/intro-to-machine-learning) course.  You can reference the tutorial at [this link](https://www.kaggle.com/dansbecker/model-validation).**\n",
    "\n",
    "---\n"
   ]
  },
  {
   "cell_type": "markdown",
   "id": "5cb15841",
   "metadata": {
    "papermill": {
     "duration": 0.002779,
     "end_time": "2025-09-01T19:42:24.538930",
     "exception": false,
     "start_time": "2025-09-01T19:42:24.536151",
     "status": "completed"
    },
    "tags": []
   },
   "source": [
    "## Recap\n",
    "You've built a model. In this exercise you will test how good your model is.\n",
    "\n",
    "Run the cell below to set up your coding environment where the previous exercise left off."
   ]
  },
  {
   "cell_type": "code",
   "execution_count": 1,
   "id": "53d4417c",
   "metadata": {
    "execution": {
     "iopub.execute_input": "2025-09-01T19:42:24.545789Z",
     "iopub.status.busy": "2025-09-01T19:42:24.545505Z",
     "iopub.status.idle": "2025-09-01T19:42:27.590036Z",
     "shell.execute_reply": "2025-09-01T19:42:27.588996Z"
    },
    "papermill": {
     "duration": 3.049816,
     "end_time": "2025-09-01T19:42:27.591691",
     "exception": false,
     "start_time": "2025-09-01T19:42:24.541875",
     "status": "completed"
    },
    "tags": []
   },
   "outputs": [
    {
     "name": "stdout",
     "output_type": "stream",
     "text": [
      "First in-sample predictions: [208500. 181500. 223500. 140000. 250000.]\n",
      "Actual target values for those homes: [208500, 181500, 223500, 140000, 250000]\n",
      "Setup Complete\n"
     ]
    }
   ],
   "source": [
    "# Code you have previously used to load data\n",
    "import pandas as pd\n",
    "from sklearn.tree import DecisionTreeRegressor\n",
    "\n",
    "# Path of the file to read\n",
    "iowa_file_path = '../input/home-data-for-ml-course/train.csv'\n",
    "\n",
    "home_data = pd.read_csv(iowa_file_path)\n",
    "y = home_data.SalePrice\n",
    "feature_columns = ['LotArea', 'YearBuilt', '1stFlrSF', '2ndFlrSF', 'FullBath', 'BedroomAbvGr', 'TotRmsAbvGrd']\n",
    "X = home_data[feature_columns]\n",
    "\n",
    "# Specify Model\n",
    "iowa_model = DecisionTreeRegressor()\n",
    "# Fit Model\n",
    "iowa_model.fit(X, y)\n",
    "\n",
    "print(\"First in-sample predictions:\", iowa_model.predict(X.head()))\n",
    "print(\"Actual target values for those homes:\", y.head().tolist())\n",
    "\n",
    "# Set up code checking\n",
    "from learntools.core import binder\n",
    "binder.bind(globals())\n",
    "from learntools.machine_learning.ex4 import *\n",
    "print(\"Setup Complete\")"
   ]
  },
  {
   "cell_type": "markdown",
   "id": "53645fff",
   "metadata": {
    "papermill": {
     "duration": 0.002936,
     "end_time": "2025-09-01T19:42:27.597979",
     "exception": false,
     "start_time": "2025-09-01T19:42:27.595043",
     "status": "completed"
    },
    "tags": []
   },
   "source": [
    "# Exercises\n",
    "\n",
    "## Step 1: Split Your Data\n",
    "Use the `train_test_split` function to split up your data.\n",
    "\n",
    "Give it the argument `random_state=1` so the `check` functions know what to expect when verifying your code.\n",
    "\n",
    "Recall, your features are loaded in the DataFrame **X** and your target is loaded in **y**.\n"
   ]
  },
  {
   "cell_type": "code",
   "execution_count": 2,
   "id": "29c85f7a",
   "metadata": {
    "execution": {
     "iopub.execute_input": "2025-09-01T19:42:27.604933Z",
     "iopub.status.busy": "2025-09-01T19:42:27.604154Z",
     "iopub.status.idle": "2025-09-01T19:42:27.618011Z",
     "shell.execute_reply": "2025-09-01T19:42:27.617190Z"
    },
    "papermill": {
     "duration": 0.018493,
     "end_time": "2025-09-01T19:42:27.619228",
     "exception": false,
     "start_time": "2025-09-01T19:42:27.600735",
     "status": "completed"
    },
    "tags": []
   },
   "outputs": [
    {
     "data": {
      "application/javascript": [
       "parent.postMessage({\"jupyterEvent\": \"custom.exercise_interaction\", \"data\": {\"outcomeType\": 1, \"valueTowardsCompletion\": 0.25, \"interactionType\": 1, \"questionType\": 2, \"questionId\": \"1_SplitData\", \"learnToolsVersion\": \"0.3.5\", \"failureMessage\": \"\", \"exceptionClass\": \"\", \"trace\": \"\"}}, \"*\")"
      ],
      "text/plain": [
       "<IPython.core.display.Javascript object>"
      ]
     },
     "metadata": {},
     "output_type": "display_data"
    },
    {
     "data": {
      "text/markdown": [
       "<span style=\"color:#33cc33\">Correct</span>"
      ],
      "text/plain": [
       "Correct"
      ]
     },
     "metadata": {},
     "output_type": "display_data"
    }
   ],
   "source": [
    "# Import the train_test_split function and uncomment\n",
    "from sklearn.model_selection import train_test_split\n",
    "\n",
    "# fill in and uncomment\n",
    "train_X, val_X, train_y, val_y = train_test_split(X, y, random_state=1)\n",
    "\n",
    "# Check your answer\n",
    "step_1.check()"
   ]
  },
  {
   "cell_type": "code",
   "execution_count": 3,
   "id": "ecd2039e",
   "metadata": {
    "execution": {
     "iopub.execute_input": "2025-09-01T19:42:27.627042Z",
     "iopub.status.busy": "2025-09-01T19:42:27.626306Z",
     "iopub.status.idle": "2025-09-01T19:42:27.629754Z",
     "shell.execute_reply": "2025-09-01T19:42:27.629150Z"
    },
    "papermill": {
     "duration": 0.008327,
     "end_time": "2025-09-01T19:42:27.630888",
     "exception": false,
     "start_time": "2025-09-01T19:42:27.622561",
     "status": "completed"
    },
    "tags": []
   },
   "outputs": [],
   "source": [
    "# The lines below will show you a hint or the solution.\n",
    "# step_1.hint() \n",
    "# step_1.solution()\n"
   ]
  },
  {
   "cell_type": "markdown",
   "id": "9eca380f",
   "metadata": {
    "papermill": {
     "duration": 0.002997,
     "end_time": "2025-09-01T19:42:27.637008",
     "exception": false,
     "start_time": "2025-09-01T19:42:27.634011",
     "status": "completed"
    },
    "tags": []
   },
   "source": [
    "## Step 2: Specify and Fit the Model\n",
    "\n",
    "Create a `DecisionTreeRegressor` model and fit it to the relevant data.\n",
    "Set `random_state` to 1 again when creating the model."
   ]
  },
  {
   "cell_type": "code",
   "execution_count": 4,
   "id": "1d9f2a9d",
   "metadata": {
    "execution": {
     "iopub.execute_input": "2025-09-01T19:42:27.644341Z",
     "iopub.status.busy": "2025-09-01T19:42:27.644035Z",
     "iopub.status.idle": "2025-09-01T19:42:27.667529Z",
     "shell.execute_reply": "2025-09-01T19:42:27.666686Z"
    },
    "papermill": {
     "duration": 0.028749,
     "end_time": "2025-09-01T19:42:27.668939",
     "exception": false,
     "start_time": "2025-09-01T19:42:27.640190",
     "status": "completed"
    },
    "tags": []
   },
   "outputs": [
    {
     "name": "stdout",
     "output_type": "stream",
     "text": [
      "[186500. 184000. 130000.  92000. 164500. 220000. 335000. 144152. 215000.\n",
      " 262000.]\n",
      "[186500. 184000. 130000.  92000. 164500. 220000. 335000. 144152. 215000.\n",
      " 262000.]\n"
     ]
    },
    {
     "data": {
      "application/javascript": [
       "parent.postMessage({\"jupyterEvent\": \"custom.exercise_interaction\", \"data\": {\"outcomeType\": 1, \"valueTowardsCompletion\": 0.25, \"interactionType\": 1, \"questionType\": 2, \"questionId\": \"2_FitModelWithTrain\", \"learnToolsVersion\": \"0.3.5\", \"failureMessage\": \"\", \"exceptionClass\": \"\", \"trace\": \"\"}}, \"*\")"
      ],
      "text/plain": [
       "<IPython.core.display.Javascript object>"
      ]
     },
     "metadata": {},
     "output_type": "display_data"
    },
    {
     "data": {
      "text/markdown": [
       "<span style=\"color:#33cc33\">Correct</span>"
      ],
      "text/plain": [
       "Correct"
      ]
     },
     "metadata": {},
     "output_type": "display_data"
    }
   ],
   "source": [
    "# You imported DecisionTreeRegressor in your last exercise\n",
    "# and that code has been copied to the setup code above. So, no need to\n",
    "# import it again\n",
    "from sklearn.tree import DecisionTreeRegressor\n",
    "\n",
    "# Specify the model\n",
    "iowa_model = DecisionTreeRegressor(random_state=1)\n",
    "\n",
    "# Fit iowa_model with the training data.\n",
    "iowa_model.fit(train_X, train_y)\n",
    "\n",
    "# Check your answer\n",
    "step_2.check()"
   ]
  },
  {
   "cell_type": "code",
   "execution_count": 5,
   "id": "fd64b176",
   "metadata": {
    "execution": {
     "iopub.execute_input": "2025-09-01T19:42:27.677516Z",
     "iopub.status.busy": "2025-09-01T19:42:27.676692Z",
     "iopub.status.idle": "2025-09-01T19:42:27.680864Z",
     "shell.execute_reply": "2025-09-01T19:42:27.679968Z"
    },
    "papermill": {
     "duration": 0.009629,
     "end_time": "2025-09-01T19:42:27.682182",
     "exception": false,
     "start_time": "2025-09-01T19:42:27.672553",
     "status": "completed"
    },
    "tags": []
   },
   "outputs": [],
   "source": [
    "# step_2.hint()\n",
    "# step_2.solution()"
   ]
  },
  {
   "cell_type": "markdown",
   "id": "33fd2e7f",
   "metadata": {
    "papermill": {
     "duration": 0.003142,
     "end_time": "2025-09-01T19:42:27.688736",
     "exception": false,
     "start_time": "2025-09-01T19:42:27.685594",
     "status": "completed"
    },
    "tags": []
   },
   "source": [
    "## Step 3: Make Predictions with Validation data\n"
   ]
  },
  {
   "cell_type": "code",
   "execution_count": 6,
   "id": "8b768b96",
   "metadata": {
    "execution": {
     "iopub.execute_input": "2025-09-01T19:42:27.696934Z",
     "iopub.status.busy": "2025-09-01T19:42:27.696668Z",
     "iopub.status.idle": "2025-09-01T19:42:27.706035Z",
     "shell.execute_reply": "2025-09-01T19:42:27.705191Z"
    },
    "papermill": {
     "duration": 0.015557,
     "end_time": "2025-09-01T19:42:27.707418",
     "exception": false,
     "start_time": "2025-09-01T19:42:27.691861",
     "status": "completed"
    },
    "tags": []
   },
   "outputs": [
    {
     "data": {
      "application/javascript": [
       "parent.postMessage({\"jupyterEvent\": \"custom.exercise_interaction\", \"data\": {\"outcomeType\": 1, \"valueTowardsCompletion\": 0.25, \"interactionType\": 1, \"questionType\": 2, \"questionId\": \"3_ValPreds\", \"learnToolsVersion\": \"0.3.5\", \"failureMessage\": \"\", \"exceptionClass\": \"\", \"trace\": \"\"}}, \"*\")"
      ],
      "text/plain": [
       "<IPython.core.display.Javascript object>"
      ]
     },
     "metadata": {},
     "output_type": "display_data"
    },
    {
     "data": {
      "text/markdown": [
       "<span style=\"color:#33cc33\">Correct</span>"
      ],
      "text/plain": [
       "Correct"
      ]
     },
     "metadata": {},
     "output_type": "display_data"
    }
   ],
   "source": [
    "# Predict with all validation observations\n",
    "val_predictions = iowa_model.predict(val_X)\n",
    "\n",
    "# Check your answer\n",
    "step_3.check()"
   ]
  },
  {
   "cell_type": "code",
   "execution_count": 7,
   "id": "3e5e151e",
   "metadata": {
    "execution": {
     "iopub.execute_input": "2025-09-01T19:42:27.715265Z",
     "iopub.status.busy": "2025-09-01T19:42:27.715024Z",
     "iopub.status.idle": "2025-09-01T19:42:27.718484Z",
     "shell.execute_reply": "2025-09-01T19:42:27.717681Z"
    },
    "papermill": {
     "duration": 0.008986,
     "end_time": "2025-09-01T19:42:27.719910",
     "exception": false,
     "start_time": "2025-09-01T19:42:27.710924",
     "status": "completed"
    },
    "tags": []
   },
   "outputs": [],
   "source": [
    "# step_3.hint()\n",
    "# step_3.solution()"
   ]
  },
  {
   "cell_type": "markdown",
   "id": "60c6b52b",
   "metadata": {
    "papermill": {
     "duration": 0.003445,
     "end_time": "2025-09-01T19:42:27.726913",
     "exception": false,
     "start_time": "2025-09-01T19:42:27.723468",
     "status": "completed"
    },
    "tags": []
   },
   "source": [
    "Inspect your predictions and actual values from validation data."
   ]
  },
  {
   "cell_type": "code",
   "execution_count": 8,
   "id": "da99f2ba",
   "metadata": {
    "execution": {
     "iopub.execute_input": "2025-09-01T19:42:27.735266Z",
     "iopub.status.busy": "2025-09-01T19:42:27.734561Z",
     "iopub.status.idle": "2025-09-01T19:42:27.739932Z",
     "shell.execute_reply": "2025-09-01T19:42:27.739208Z"
    },
    "papermill": {
     "duration": 0.010788,
     "end_time": "2025-09-01T19:42:27.741182",
     "exception": false,
     "start_time": "2025-09-01T19:42:27.730394",
     "status": "completed"
    },
    "tags": []
   },
   "outputs": [
    {
     "name": "stdout",
     "output_type": "stream",
     "text": [
      "[186500. 184000. 130000.  92000. 164500.]\n",
      "[231500 179500 122000  84500 142000]\n"
     ]
    }
   ],
   "source": [
    "# print the top few validation predictions\n",
    "print(val_predictions[:5])\n",
    "# print the top few actual prices from validation data\n",
    "print(val_y[:5].values) #??"
   ]
  },
  {
   "cell_type": "markdown",
   "id": "8e14976b",
   "metadata": {
    "papermill": {
     "duration": 0.005749,
     "end_time": "2025-09-01T19:42:27.751589",
     "exception": false,
     "start_time": "2025-09-01T19:42:27.745840",
     "status": "completed"
    },
    "tags": []
   },
   "source": [
    "What do you notice that is different from what you saw with in-sample predictions (which are printed after the top code cell in this page).\n",
    "\n",
    "Do you remember why validation predictions differ from in-sample (or training) predictions? This is an important idea from the last lesson.\n",
    "\n",
    "## Step 4: Calculate the Mean Absolute Error in Validation Data\n"
   ]
  },
  {
   "cell_type": "code",
   "execution_count": 9,
   "id": "091bd0e4",
   "metadata": {
    "execution": {
     "iopub.execute_input": "2025-09-01T19:42:27.761433Z",
     "iopub.status.busy": "2025-09-01T19:42:27.760379Z",
     "iopub.status.idle": "2025-09-01T19:42:27.771076Z",
     "shell.execute_reply": "2025-09-01T19:42:27.770440Z"
    },
    "papermill": {
     "duration": 0.017056,
     "end_time": "2025-09-01T19:42:27.772616",
     "exception": false,
     "start_time": "2025-09-01T19:42:27.755560",
     "status": "completed"
    },
    "tags": []
   },
   "outputs": [
    {
     "name": "stdout",
     "output_type": "stream",
     "text": [
      "29652.931506849316\n"
     ]
    },
    {
     "data": {
      "application/javascript": [
       "parent.postMessage({\"jupyterEvent\": \"custom.exercise_interaction\", \"data\": {\"outcomeType\": 1, \"valueTowardsCompletion\": 0.25, \"interactionType\": 1, \"questionType\": 1, \"questionId\": \"4_MAE\", \"learnToolsVersion\": \"0.3.5\", \"failureMessage\": \"\", \"exceptionClass\": \"\", \"trace\": \"\"}}, \"*\")"
      ],
      "text/plain": [
       "<IPython.core.display.Javascript object>"
      ]
     },
     "metadata": {},
     "output_type": "display_data"
    },
    {
     "data": {
      "text/markdown": [
       "<span style=\"color:#33cc33\">Correct</span>"
      ],
      "text/plain": [
       "Correct"
      ]
     },
     "metadata": {},
     "output_type": "display_data"
    }
   ],
   "source": [
    "from sklearn.metrics import mean_absolute_error\n",
    "val_mae = mean_absolute_error(val_y, val_predictions)\n",
    "\n",
    "# uncomment following line to see the validation_mae\n",
    "print(val_mae)\n",
    "\n",
    "# Check your answer\n",
    "step_4.check()"
   ]
  },
  {
   "cell_type": "code",
   "execution_count": 10,
   "id": "50bcb4a5",
   "metadata": {
    "execution": {
     "iopub.execute_input": "2025-09-01T19:42:27.784377Z",
     "iopub.status.busy": "2025-09-01T19:42:27.783587Z",
     "iopub.status.idle": "2025-09-01T19:42:27.787505Z",
     "shell.execute_reply": "2025-09-01T19:42:27.786728Z"
    },
    "papermill": {
     "duration": 0.010131,
     "end_time": "2025-09-01T19:42:27.788872",
     "exception": false,
     "start_time": "2025-09-01T19:42:27.778741",
     "status": "completed"
    },
    "tags": []
   },
   "outputs": [],
   "source": [
    "# step_4.hint()\n",
    "# step_4.solution()"
   ]
  },
  {
   "cell_type": "markdown",
   "id": "16e78b60",
   "metadata": {
    "papermill": {
     "duration": 0.00514,
     "end_time": "2025-09-01T19:42:27.798277",
     "exception": false,
     "start_time": "2025-09-01T19:42:27.793137",
     "status": "completed"
    },
    "tags": []
   },
   "source": [
    "Is that MAE good?  There isn't a general rule for what values are good that applies across applications. But you'll see how to use (and improve) this number in the next step.\n",
    "\n",
    "# Keep Going\n",
    "\n",
    "You are ready for **[Underfitting and Overfitting](https://www.kaggle.com/dansbecker/underfitting-and-overfitting).**\n"
   ]
  },
  {
   "cell_type": "markdown",
   "id": "345b2f5c",
   "metadata": {
    "papermill": {
     "duration": 0.004023,
     "end_time": "2025-09-01T19:42:27.806236",
     "exception": false,
     "start_time": "2025-09-01T19:42:27.802213",
     "status": "completed"
    },
    "tags": []
   },
   "source": [
    "---\n",
    "\n",
    "\n",
    "\n",
    "\n",
    "*Have questions or comments? Visit the [course discussion forum](https://www.kaggle.com/learn/intro-to-machine-learning/discussion) to chat with other learners.*"
   ]
  }
 ],
 "metadata": {
  "kaggle": {
   "accelerator": "none",
   "dataSources": [
    {
     "databundleVersionId": 111096,
     "sourceId": 10211,
     "sourceType": "competition"
    },
    {
     "datasetId": 11167,
     "sourceId": 15520,
     "sourceType": "datasetVersion"
    },
    {
     "datasetId": 2709,
     "sourceId": 38454,
     "sourceType": "datasetVersion"
    }
   ],
   "isGpuEnabled": false,
   "isInternetEnabled": false,
   "language": "python",
   "sourceType": "notebook"
  },
  "kernelspec": {
   "display_name": "Python 3",
   "language": "python",
   "name": "python3"
  },
  "language_info": {
   "codemirror_mode": {
    "name": "ipython",
    "version": 3
   },
   "file_extension": ".py",
   "mimetype": "text/x-python",
   "name": "python",
   "nbconvert_exporter": "python",
   "pygments_lexer": "ipython3",
   "version": "3.11.13"
  },
  "papermill": {
   "default_parameters": {},
   "duration": 8.769691,
   "end_time": "2025-09-01T19:42:28.428209",
   "environment_variables": {},
   "exception": null,
   "input_path": "__notebook__.ipynb",
   "output_path": "__notebook__.ipynb",
   "parameters": {},
   "start_time": "2025-09-01T19:42:19.658518",
   "version": "2.6.0"
  }
 },
 "nbformat": 4,
 "nbformat_minor": 5
}
